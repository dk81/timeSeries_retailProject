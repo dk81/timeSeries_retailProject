{
  "nbformat": 4,
  "nbformat_minor": 0,
  "metadata": {
    "colab": {
      "name": "SalesProfitForecastingARIMA_PartOne_dku.ipynb",
      "provenance": [],
      "collapsed_sections": [],
      "toc_visible": true
    },
    "kernelspec": {
      "name": "python3",
      "display_name": "Python 3"
    }
  },
  "cells": [
    {
      "cell_type": "markdown",
      "metadata": {
        "id": "eAHJyVt1wvuV",
        "colab_type": "text"
      },
      "source": [
        "# Part One - Exploratory Data Analysis & SARIMA On Monthly Sales\n",
        "\n",
        "**Brief**\n",
        "\n",
        "**Background:**\n",
        "\n",
        "1000ml Retail wants help forecasting their Q3 sales and profit.\n",
        "\n",
        "**Objective:**\n",
        "They would like to know sales and profit by category by month.\n",
        "\n",
        "**Deliverable:**\n",
        "A 10 min presentation outlining your methodology, reasoning and findings to the (global) sales team.\n",
        "\n",
        "This presentation should provide actionable information."
      ]
    },
    {
      "cell_type": "markdown",
      "metadata": {
        "id": "hTd3hjc_mAIZ",
        "colab_type": "text"
      },
      "source": [
        "# References\n",
        "\n",
        "* [School Years In Different Countries](https://www.infoplease.com/world/world-statistics/school-years-around-world)\n",
        "* Angloinfo website has been helpful for school years. Quarter three (Q3) is July, August and September which is back to school season for many countries."
      ]
    },
    {
      "cell_type": "markdown",
      "metadata": {
        "id": "aM13BqLWmDmK",
        "colab_type": "text"
      },
      "source": [
        "# Look At Data / Exploratory Data Analysis (EDA) "
      ]
    },
    {
      "cell_type": "code",
      "metadata": {
        "id": "KYv4RgI4xBG8",
        "colab_type": "code",
        "colab": {}
      },
      "source": [
        "# Import packages\n",
        "\n",
        "import pandas as pd\n",
        "import numpy as np\n",
        "import matplotlib.pyplot as plt\n",
        "import seaborn as sns\n",
        "import datetime"
      ],
      "execution_count": 0,
      "outputs": []
    },
    {
      "cell_type": "code",
      "metadata": {
        "id": "S8RUxLujyTPS",
        "colab_type": "code",
        "outputId": "09e9780a-bc2c-4974-bf6e-ccbd42692019",
        "colab": {
          "base_uri": "https://localhost:8080/",
          "height": 125
        }
      },
      "source": [
        "from google.colab import drive\n",
        "\n",
        "drive.mount('/content/gdrive', force_remount = False)"
      ],
      "execution_count": 0,
      "outputs": [
        {
          "output_type": "stream",
          "text": [
            "Go to this URL in a browser: https://accounts.google.com/o/oauth2/auth?client_id=947318989803-6bn6qk8qdgf4n4g3pfee6491hc0brc4i.apps.googleusercontent.com&redirect_uri=urn%3Aietf%3Awg%3Aoauth%3A2.0%3Aoob&scope=email%20https%3A%2F%2Fwww.googleapis.com%2Fauth%2Fdocs.test%20https%3A%2F%2Fwww.googleapis.com%2Fauth%2Fdrive%20https%3A%2F%2Fwww.googleapis.com%2Fauth%2Fdrive.photos.readonly%20https%3A%2F%2Fwww.googleapis.com%2Fauth%2Fpeopleapi.readonly&response_type=code\n",
            "\n",
            "Enter your authorization code:\n",
            "··········\n",
            "Mounted at /content/gdrive\n"
          ],
          "name": "stdout"
        }
      ]
    },
    {
      "cell_type": "code",
      "metadata": {
        "id": "2ck7Upz0yU1O",
        "colab_type": "code",
        "outputId": "bde8370c-be8d-4391-a270-45dc4634ea6b",
        "colab": {
          "base_uri": "https://localhost:8080/",
          "height": 568
        }
      },
      "source": [
        "# Load in data with pandas.\n",
        "\n",
        "retail_data = pd.read_csv('/content/gdrive/My Drive/1000mlRetail.csv')\n",
        "\n",
        "# Preview retail data.\n",
        "retail_data.head()"
      ],
      "execution_count": 0,
      "outputs": [
        {
          "output_type": "execute_result",
          "data": {
            "text/html": [
              "<div>\n",
              "<style scoped>\n",
              "    .dataframe tbody tr th:only-of-type {\n",
              "        vertical-align: middle;\n",
              "    }\n",
              "\n",
              "    .dataframe tbody tr th {\n",
              "        vertical-align: top;\n",
              "    }\n",
              "\n",
              "    .dataframe thead th {\n",
              "        text-align: right;\n",
              "    }\n",
              "</style>\n",
              "<table border=\"1\" class=\"dataframe\">\n",
              "  <thead>\n",
              "    <tr style=\"text-align: right;\">\n",
              "      <th></th>\n",
              "      <th>Row ID</th>\n",
              "      <th>Order ID</th>\n",
              "      <th>Order Date</th>\n",
              "      <th>Ship Date</th>\n",
              "      <th>Ship Mode</th>\n",
              "      <th>Customer ID</th>\n",
              "      <th>Customer Name</th>\n",
              "      <th>Segment</th>\n",
              "      <th>City</th>\n",
              "      <th>State</th>\n",
              "      <th>Country</th>\n",
              "      <th>Postal Code</th>\n",
              "      <th>Market</th>\n",
              "      <th>Region</th>\n",
              "      <th>Product ID</th>\n",
              "      <th>Category</th>\n",
              "      <th>Sub-Category</th>\n",
              "      <th>Product Name</th>\n",
              "      <th>Sales</th>\n",
              "      <th>Quantity</th>\n",
              "      <th>Discount</th>\n",
              "      <th>Profit</th>\n",
              "      <th>Shipping Cost</th>\n",
              "      <th>Order Priority</th>\n",
              "    </tr>\n",
              "  </thead>\n",
              "  <tbody>\n",
              "    <tr>\n",
              "      <th>0</th>\n",
              "      <td>32298</td>\n",
              "      <td>CA-2016-124891</td>\n",
              "      <td>2016-07-31</td>\n",
              "      <td>2016-07-31</td>\n",
              "      <td>Same Day</td>\n",
              "      <td>RH-19495</td>\n",
              "      <td>Rick Hansen</td>\n",
              "      <td>Consumer</td>\n",
              "      <td>New York City</td>\n",
              "      <td>New York</td>\n",
              "      <td>United States</td>\n",
              "      <td>10024.0</td>\n",
              "      <td>US</td>\n",
              "      <td>East</td>\n",
              "      <td>TEC-AC-10003033</td>\n",
              "      <td>Technology</td>\n",
              "      <td>Accessories</td>\n",
              "      <td>Plantronics CS510 - Over-the-Head monaural Wir...</td>\n",
              "      <td>2309.650</td>\n",
              "      <td>7</td>\n",
              "      <td>0.0</td>\n",
              "      <td>762.1845</td>\n",
              "      <td>933.57</td>\n",
              "      <td>Critical</td>\n",
              "    </tr>\n",
              "    <tr>\n",
              "      <th>1</th>\n",
              "      <td>26341</td>\n",
              "      <td>IN-2017-77878</td>\n",
              "      <td>2017-02-05</td>\n",
              "      <td>2017-02-07</td>\n",
              "      <td>Second Class</td>\n",
              "      <td>JR-16210</td>\n",
              "      <td>Justin Ritter</td>\n",
              "      <td>Corporate</td>\n",
              "      <td>Wollongong</td>\n",
              "      <td>New South Wales</td>\n",
              "      <td>Australia</td>\n",
              "      <td>NaN</td>\n",
              "      <td>APAC</td>\n",
              "      <td>Oceania</td>\n",
              "      <td>FUR-CH-10003950</td>\n",
              "      <td>Furniture</td>\n",
              "      <td>Chairs</td>\n",
              "      <td>Novimex Executive Leather Armchair, Black</td>\n",
              "      <td>3709.395</td>\n",
              "      <td>9</td>\n",
              "      <td>0.1</td>\n",
              "      <td>-288.7650</td>\n",
              "      <td>923.63</td>\n",
              "      <td>Critical</td>\n",
              "    </tr>\n",
              "    <tr>\n",
              "      <th>2</th>\n",
              "      <td>25330</td>\n",
              "      <td>IN-2017-71249</td>\n",
              "      <td>2017-10-17</td>\n",
              "      <td>2017-10-18</td>\n",
              "      <td>First Class</td>\n",
              "      <td>CR-12730</td>\n",
              "      <td>Craig Reiter</td>\n",
              "      <td>Consumer</td>\n",
              "      <td>Brisbane</td>\n",
              "      <td>Queensland</td>\n",
              "      <td>Australia</td>\n",
              "      <td>NaN</td>\n",
              "      <td>APAC</td>\n",
              "      <td>Oceania</td>\n",
              "      <td>TEC-PH-10004664</td>\n",
              "      <td>Technology</td>\n",
              "      <td>Phones</td>\n",
              "      <td>Nokia Smart Phone, with Caller ID</td>\n",
              "      <td>5175.171</td>\n",
              "      <td>9</td>\n",
              "      <td>0.1</td>\n",
              "      <td>919.9710</td>\n",
              "      <td>915.49</td>\n",
              "      <td>Medium</td>\n",
              "    </tr>\n",
              "    <tr>\n",
              "      <th>3</th>\n",
              "      <td>13524</td>\n",
              "      <td>ES-2017-1579342</td>\n",
              "      <td>2017-01-28</td>\n",
              "      <td>2017-01-30</td>\n",
              "      <td>First Class</td>\n",
              "      <td>KM-16375</td>\n",
              "      <td>Katherine Murray</td>\n",
              "      <td>Home Office</td>\n",
              "      <td>Berlin</td>\n",
              "      <td>Berlin</td>\n",
              "      <td>Germany</td>\n",
              "      <td>NaN</td>\n",
              "      <td>EU</td>\n",
              "      <td>Central</td>\n",
              "      <td>TEC-PH-10004583</td>\n",
              "      <td>Technology</td>\n",
              "      <td>Phones</td>\n",
              "      <td>Motorola Smart Phone, Cordless</td>\n",
              "      <td>2892.510</td>\n",
              "      <td>5</td>\n",
              "      <td>0.1</td>\n",
              "      <td>-96.5400</td>\n",
              "      <td>910.16</td>\n",
              "      <td>Medium</td>\n",
              "    </tr>\n",
              "    <tr>\n",
              "      <th>4</th>\n",
              "      <td>47221</td>\n",
              "      <td>SG-2017-4320</td>\n",
              "      <td>2017-11-05</td>\n",
              "      <td>2017-11-06</td>\n",
              "      <td>Same Day</td>\n",
              "      <td>RH-9495</td>\n",
              "      <td>Rick Hansen</td>\n",
              "      <td>Consumer</td>\n",
              "      <td>Dakar</td>\n",
              "      <td>Dakar</td>\n",
              "      <td>Senegal</td>\n",
              "      <td>NaN</td>\n",
              "      <td>Africa</td>\n",
              "      <td>Africa</td>\n",
              "      <td>TEC-SHA-10000501</td>\n",
              "      <td>Technology</td>\n",
              "      <td>Copiers</td>\n",
              "      <td>Sharp Wireless Fax, High-Speed</td>\n",
              "      <td>2832.960</td>\n",
              "      <td>8</td>\n",
              "      <td>0.0</td>\n",
              "      <td>311.5200</td>\n",
              "      <td>903.04</td>\n",
              "      <td>Critical</td>\n",
              "    </tr>\n",
              "  </tbody>\n",
              "</table>\n",
              "</div>"
            ],
            "text/plain": [
              "   Row ID         Order ID  Order Date  ...    Profit Shipping Cost Order Priority\n",
              "0   32298   CA-2016-124891  2016-07-31  ...  762.1845        933.57       Critical\n",
              "1   26341    IN-2017-77878  2017-02-05  ... -288.7650        923.63       Critical\n",
              "2   25330    IN-2017-71249  2017-10-17  ...  919.9710        915.49         Medium\n",
              "3   13524  ES-2017-1579342  2017-01-28  ...  -96.5400        910.16         Medium\n",
              "4   47221     SG-2017-4320  2017-11-05  ...  311.5200        903.04       Critical\n",
              "\n",
              "[5 rows x 24 columns]"
            ]
          },
          "metadata": {
            "tags": []
          },
          "execution_count": 3
        }
      ]
    },
    {
      "cell_type": "code",
      "metadata": {
        "id": "0-AJr_Chy8R9",
        "colab_type": "code",
        "outputId": "a2f51576-bdfb-4cd7-b7fc-04891af38fe0",
        "colab": {
          "base_uri": "https://localhost:8080/",
          "height": 34
        }
      },
      "source": [
        "# Shape of retail data:\n",
        "\n",
        "retail_data.shape"
      ],
      "execution_count": 0,
      "outputs": [
        {
          "output_type": "execute_result",
          "data": {
            "text/plain": [
              "(51290, 24)"
            ]
          },
          "metadata": {
            "tags": []
          },
          "execution_count": 4
        }
      ]
    },
    {
      "cell_type": "code",
      "metadata": {
        "id": "qDt_EhrZ0BW5",
        "colab_type": "code",
        "outputId": "0880b072-bf56-47f7-c465-c1cdaec849c9",
        "colab": {
          "base_uri": "https://localhost:8080/",
          "height": 122
        }
      },
      "source": [
        "# Columns:\n",
        "\n",
        "retail_data.columns"
      ],
      "execution_count": 0,
      "outputs": [
        {
          "output_type": "execute_result",
          "data": {
            "text/plain": [
              "Index(['Row ID', 'Order ID', 'Order Date', 'Ship Date', 'Ship Mode',\n",
              "       'Customer ID', 'Customer Name', 'Segment', 'City', 'State', 'Country',\n",
              "       'Postal Code', 'Market', 'Region', 'Product ID', 'Category',\n",
              "       'Sub-Category', 'Product Name', 'Sales', 'Quantity', 'Discount',\n",
              "       'Profit', 'Shipping Cost', 'Order Priority'],\n",
              "      dtype='object')"
            ]
          },
          "metadata": {
            "tags": []
          },
          "execution_count": 5
        }
      ]
    },
    {
      "cell_type": "code",
      "metadata": {
        "id": "IRFZUKP10DvZ",
        "colab_type": "code",
        "outputId": "03507634-71b6-4ebc-a8ed-48fabfa44fe1",
        "colab": {
          "base_uri": "https://localhost:8080/",
          "height": 34
        }
      },
      "source": [
        "# Look at date column:\n",
        "\n",
        "retail_data['Order Date'].dtype"
      ],
      "execution_count": 0,
      "outputs": [
        {
          "output_type": "execute_result",
          "data": {
            "text/plain": [
              "dtype('O')"
            ]
          },
          "metadata": {
            "tags": []
          },
          "execution_count": 6
        }
      ]
    },
    {
      "cell_type": "code",
      "metadata": {
        "id": "4rLt1uY00s7j",
        "colab_type": "code",
        "outputId": "97ec1250-a9a5-4094-9114-4a8ff61d0b99",
        "colab": {
          "base_uri": "https://localhost:8080/",
          "height": 34
        }
      },
      "source": [
        "# Look at ship date column:\n",
        "# Dates not in datetime format.\n",
        "\n",
        "retail_data['Ship Date'].dtype"
      ],
      "execution_count": 0,
      "outputs": [
        {
          "output_type": "execute_result",
          "data": {
            "text/plain": [
              "dtype('O')"
            ]
          },
          "metadata": {
            "tags": []
          },
          "execution_count": 7
        }
      ]
    },
    {
      "cell_type": "markdown",
      "metadata": {
        "id": "ADWnSjpdW1KQ",
        "colab_type": "text"
      },
      "source": [
        "## Convert Times To DateTime"
      ]
    },
    {
      "cell_type": "code",
      "metadata": {
        "id": "LmD_btjotl0b",
        "colab_type": "code",
        "colab": {}
      },
      "source": [
        "retail_data['Order Date'] = pd.to_datetime(retail_data['Order Date'])\n",
        "\n",
        "retail_data['Ship Date'] = pd.to_datetime(retail_data['Ship Date'])"
      ],
      "execution_count": 0,
      "outputs": []
    },
    {
      "cell_type": "code",
      "metadata": {
        "id": "gw69HVdmvq_T",
        "colab_type": "code",
        "outputId": "17e71636-029e-4cd9-deab-d4a68e58e939",
        "colab": {
          "base_uri": "https://localhost:8080/",
          "height": 527
        }
      },
      "source": [
        "# Check that Order Date & Ship Date are indeed datetimes.\n",
        "\n",
        "retail_data.info()"
      ],
      "execution_count": 0,
      "outputs": [
        {
          "output_type": "stream",
          "text": [
            "<class 'pandas.core.frame.DataFrame'>\n",
            "RangeIndex: 51290 entries, 0 to 51289\n",
            "Data columns (total 24 columns):\n",
            "Row ID            51290 non-null int64\n",
            "Order ID          51290 non-null object\n",
            "Order Date        51290 non-null datetime64[ns]\n",
            "Ship Date         51290 non-null datetime64[ns]\n",
            "Ship Mode         51290 non-null object\n",
            "Customer ID       51290 non-null object\n",
            "Customer Name     51290 non-null object\n",
            "Segment           51290 non-null object\n",
            "City              51290 non-null object\n",
            "State             51290 non-null object\n",
            "Country           51290 non-null object\n",
            "Postal Code       9994 non-null float64\n",
            "Market            51290 non-null object\n",
            "Region            51290 non-null object\n",
            "Product ID        51290 non-null object\n",
            "Category          51290 non-null object\n",
            "Sub-Category      51290 non-null object\n",
            "Product Name      51290 non-null object\n",
            "Sales             51290 non-null float64\n",
            "Quantity          51290 non-null int64\n",
            "Discount          51290 non-null float64\n",
            "Profit            51290 non-null float64\n",
            "Shipping Cost     51290 non-null float64\n",
            "Order Priority    51290 non-null object\n",
            "dtypes: datetime64[ns](2), float64(5), int64(2), object(15)\n",
            "memory usage: 9.4+ MB\n"
          ],
          "name": "stdout"
        }
      ]
    },
    {
      "cell_type": "code",
      "metadata": {
        "id": "ex3jzL5UUwsR",
        "colab_type": "code",
        "outputId": "51f656c0-798c-4562-c589-df23931bb529",
        "colab": {
          "base_uri": "https://localhost:8080/",
          "height": 140
        }
      },
      "source": [
        "# Look at Order Date info.\n",
        "\n",
        "retail_data['Order Date'].describe()"
      ],
      "execution_count": 0,
      "outputs": [
        {
          "output_type": "execute_result",
          "data": {
            "text/plain": [
              "count                   51290\n",
              "unique                   1430\n",
              "top       2018-06-18 00:00:00\n",
              "freq                      135\n",
              "first     2015-01-01 00:00:00\n",
              "last      2018-12-31 00:00:00\n",
              "Name: Order Date, dtype: object"
            ]
          },
          "metadata": {
            "tags": []
          },
          "execution_count": 10
        }
      ]
    },
    {
      "cell_type": "code",
      "metadata": {
        "id": "4wB5pwdqU9C4",
        "colab_type": "code",
        "outputId": "00960e9b-e33e-4bf9-cfa4-927e9f64a9b2",
        "colab": {
          "base_uri": "https://localhost:8080/",
          "height": 140
        }
      },
      "source": [
        "# Look at Ship Date info.\n",
        "\n",
        "retail_data['Ship Date'].describe()"
      ],
      "execution_count": 0,
      "outputs": [
        {
          "output_type": "execute_result",
          "data": {
            "text/plain": [
              "count                   51290\n",
              "unique                   1460\n",
              "top       2018-11-22 00:00:00\n",
              "freq                      130\n",
              "first     2015-01-01 00:00:00\n",
              "last      2018-12-31 00:00:00\n",
              "Name: Ship Date, dtype: object"
            ]
          },
          "metadata": {
            "tags": []
          },
          "execution_count": 11
        }
      ]
    },
    {
      "cell_type": "markdown",
      "metadata": {
        "id": "mEA_B5R0aLdW",
        "colab_type": "text"
      },
      "source": [
        "## Number Of Orders Per Month"
      ]
    },
    {
      "cell_type": "code",
      "metadata": {
        "id": "RjrYdsukd-_y",
        "colab_type": "code",
        "colab": {}
      },
      "source": [
        "# Trying groupby on datetimes:\n",
        "# Obtain counts for each month\n",
        "# Reference: https://stackoverflow.com/questions/18233107/pandas-convert-datetime-to-end-of-month\n",
        "\n",
        "retail_data['Order_Date_Month'] = retail_data['Order Date'].astype('datetime64[M]')"
      ],
      "execution_count": 0,
      "outputs": []
    },
    {
      "cell_type": "code",
      "metadata": {
        "id": "VexWVOTaZTVw",
        "colab_type": "code",
        "outputId": "f2476535-7e9e-4fe9-dbee-009aa1637527",
        "colab": {
          "base_uri": "https://localhost:8080/",
          "height": 402
        }
      },
      "source": [
        "# Check dates:\n",
        "\n",
        "retail_data.head(3)"
      ],
      "execution_count": 0,
      "outputs": [
        {
          "output_type": "execute_result",
          "data": {
            "text/html": [
              "<div>\n",
              "<style scoped>\n",
              "    .dataframe tbody tr th:only-of-type {\n",
              "        vertical-align: middle;\n",
              "    }\n",
              "\n",
              "    .dataframe tbody tr th {\n",
              "        vertical-align: top;\n",
              "    }\n",
              "\n",
              "    .dataframe thead th {\n",
              "        text-align: right;\n",
              "    }\n",
              "</style>\n",
              "<table border=\"1\" class=\"dataframe\">\n",
              "  <thead>\n",
              "    <tr style=\"text-align: right;\">\n",
              "      <th></th>\n",
              "      <th>Row ID</th>\n",
              "      <th>Order ID</th>\n",
              "      <th>Order Date</th>\n",
              "      <th>Ship Date</th>\n",
              "      <th>Ship Mode</th>\n",
              "      <th>Customer ID</th>\n",
              "      <th>Customer Name</th>\n",
              "      <th>Segment</th>\n",
              "      <th>City</th>\n",
              "      <th>State</th>\n",
              "      <th>Country</th>\n",
              "      <th>Postal Code</th>\n",
              "      <th>Market</th>\n",
              "      <th>Region</th>\n",
              "      <th>Product ID</th>\n",
              "      <th>Category</th>\n",
              "      <th>Sub-Category</th>\n",
              "      <th>Product Name</th>\n",
              "      <th>Sales</th>\n",
              "      <th>Quantity</th>\n",
              "      <th>Discount</th>\n",
              "      <th>Profit</th>\n",
              "      <th>Shipping Cost</th>\n",
              "      <th>Order Priority</th>\n",
              "      <th>Order_Date_Month</th>\n",
              "    </tr>\n",
              "  </thead>\n",
              "  <tbody>\n",
              "    <tr>\n",
              "      <th>0</th>\n",
              "      <td>32298</td>\n",
              "      <td>CA-2016-124891</td>\n",
              "      <td>2016-07-31</td>\n",
              "      <td>2016-07-31</td>\n",
              "      <td>Same Day</td>\n",
              "      <td>RH-19495</td>\n",
              "      <td>Rick Hansen</td>\n",
              "      <td>Consumer</td>\n",
              "      <td>New York City</td>\n",
              "      <td>New York</td>\n",
              "      <td>United States</td>\n",
              "      <td>10024.0</td>\n",
              "      <td>US</td>\n",
              "      <td>East</td>\n",
              "      <td>TEC-AC-10003033</td>\n",
              "      <td>Technology</td>\n",
              "      <td>Accessories</td>\n",
              "      <td>Plantronics CS510 - Over-the-Head monaural Wir...</td>\n",
              "      <td>2309.650</td>\n",
              "      <td>7</td>\n",
              "      <td>0.0</td>\n",
              "      <td>762.1845</td>\n",
              "      <td>933.57</td>\n",
              "      <td>Critical</td>\n",
              "      <td>2016-07-01</td>\n",
              "    </tr>\n",
              "    <tr>\n",
              "      <th>1</th>\n",
              "      <td>26341</td>\n",
              "      <td>IN-2017-77878</td>\n",
              "      <td>2017-02-05</td>\n",
              "      <td>2017-02-07</td>\n",
              "      <td>Second Class</td>\n",
              "      <td>JR-16210</td>\n",
              "      <td>Justin Ritter</td>\n",
              "      <td>Corporate</td>\n",
              "      <td>Wollongong</td>\n",
              "      <td>New South Wales</td>\n",
              "      <td>Australia</td>\n",
              "      <td>NaN</td>\n",
              "      <td>APAC</td>\n",
              "      <td>Oceania</td>\n",
              "      <td>FUR-CH-10003950</td>\n",
              "      <td>Furniture</td>\n",
              "      <td>Chairs</td>\n",
              "      <td>Novimex Executive Leather Armchair, Black</td>\n",
              "      <td>3709.395</td>\n",
              "      <td>9</td>\n",
              "      <td>0.1</td>\n",
              "      <td>-288.7650</td>\n",
              "      <td>923.63</td>\n",
              "      <td>Critical</td>\n",
              "      <td>2017-02-01</td>\n",
              "    </tr>\n",
              "    <tr>\n",
              "      <th>2</th>\n",
              "      <td>25330</td>\n",
              "      <td>IN-2017-71249</td>\n",
              "      <td>2017-10-17</td>\n",
              "      <td>2017-10-18</td>\n",
              "      <td>First Class</td>\n",
              "      <td>CR-12730</td>\n",
              "      <td>Craig Reiter</td>\n",
              "      <td>Consumer</td>\n",
              "      <td>Brisbane</td>\n",
              "      <td>Queensland</td>\n",
              "      <td>Australia</td>\n",
              "      <td>NaN</td>\n",
              "      <td>APAC</td>\n",
              "      <td>Oceania</td>\n",
              "      <td>TEC-PH-10004664</td>\n",
              "      <td>Technology</td>\n",
              "      <td>Phones</td>\n",
              "      <td>Nokia Smart Phone, with Caller ID</td>\n",
              "      <td>5175.171</td>\n",
              "      <td>9</td>\n",
              "      <td>0.1</td>\n",
              "      <td>919.9710</td>\n",
              "      <td>915.49</td>\n",
              "      <td>Medium</td>\n",
              "      <td>2017-10-01</td>\n",
              "    </tr>\n",
              "  </tbody>\n",
              "</table>\n",
              "</div>"
            ],
            "text/plain": [
              "   Row ID        Order ID  ... Order Priority Order_Date_Month\n",
              "0   32298  CA-2016-124891  ...       Critical       2016-07-01\n",
              "1   26341   IN-2017-77878  ...       Critical       2017-02-01\n",
              "2   25330   IN-2017-71249  ...         Medium       2017-10-01\n",
              "\n",
              "[3 rows x 25 columns]"
            ]
          },
          "metadata": {
            "tags": []
          },
          "execution_count": 13
        }
      ]
    },
    {
      "cell_type": "code",
      "metadata": {
        "id": "m1XbiDbvag-V",
        "colab_type": "code",
        "outputId": "eb03a4b3-6eb5-4119-c4ba-039e9403422a",
        "colab": {
          "base_uri": "https://localhost:8080/",
          "height": 263
        }
      },
      "source": [
        "# Trying groupby on datetimes:\n",
        "# Obtain counts for each day.\n",
        "\n",
        "num_orders_permonth = retail_data.groupby('Order_Date_Month')['Row ID'].count()\n",
        "\n",
        "num_orders_permonth.head(12)"
      ],
      "execution_count": 0,
      "outputs": [
        {
          "output_type": "execute_result",
          "data": {
            "text/plain": [
              "Order_Date_Month\n",
              "2015-01-01     433\n",
              "2015-02-01     378\n",
              "2015-03-01     539\n",
              "2015-04-01     564\n",
              "2015-05-01     566\n",
              "2015-06-01     917\n",
              "2015-07-01     495\n",
              "2015-08-01     878\n",
              "2015-09-01    1052\n",
              "2015-10-01     774\n",
              "2015-11-01    1139\n",
              "2015-12-01    1263\n",
              "Name: Row ID, dtype: int64"
            ]
          },
          "metadata": {
            "tags": []
          },
          "execution_count": 14
        }
      ]
    },
    {
      "cell_type": "code",
      "metadata": {
        "id": "RP4-WGhKa41z",
        "colab_type": "code",
        "outputId": "4050a13a-946b-41ca-b7f2-5468ae185a95",
        "colab": {
          "base_uri": "https://localhost:8080/",
          "height": 359
        }
      },
      "source": [
        "# Line Plot On Number Of Orders Over Time\n",
        "\n",
        "plt.style.use('ggplot')\n",
        "\n",
        "num_orders_permonth.plot()\n",
        "plt.xlabel('\\n Order Date')\n",
        "plt.ylabel('Number Of Orders \\n')\n",
        "\n",
        "# Vertical lines at start of each year\n",
        "plt.axvline(x = '2016-01-01', linewidth=2, color='blue', alpha = 0.2) \n",
        "plt.axvline(x = '2017-01-01', linewidth=2, color='blue', alpha = 0.2)\n",
        "plt.axvline(x = '2018-01-01', linewidth=2, color='blue', alpha = 0.2)\n",
        "plt.title('Number Of Orders Per Month \\n')"
      ],
      "execution_count": 0,
      "outputs": [
        {
          "output_type": "execute_result",
          "data": {
            "text/plain": [
              "Text(0.5, 1.0, 'Number Of Orders Per Month \\n')"
            ]
          },
          "metadata": {
            "tags": []
          },
          "execution_count": 15
        },
        {
          "output_type": "display_data",
          "data": {
            "image/png": "[encoded data removed]",
            "text/plain": [
              "<Figure size 432x288 with 1 Axes>"
            ]
          },
          "metadata": {
            "tags": []
          }
        }
      ]
    },
    {
      "cell_type": "markdown",
      "metadata": {
        "id": "cYAnT0eLehC8",
        "colab_type": "text"
      },
      "source": [
        "With this lineplot for over the months, it is even more clearer that there is steady growth in the number of orders. The peak number of orders during each year occurs at around November & December. Black Friday shopping sales and Holidays shopping (in the Western countries) are very possible factors."
      ]
    },
    {
      "cell_type": "markdown",
      "metadata": {
        "id": "rsmUM5yqu56v",
        "colab_type": "text"
      },
      "source": [
        "## A Look At Sales"
      ]
    },
    {
      "cell_type": "code",
      "metadata": {
        "id": "omWuZEJhklHb",
        "colab_type": "code",
        "outputId": "f468fc1b-959d-427b-bc7d-d858f080272c",
        "colab": {
          "base_uri": "https://localhost:8080/",
          "height": 175
        }
      },
      "source": [
        "# Sales column\n",
        "\n",
        "retail_data['Sales'].describe()"
      ],
      "execution_count": 0,
      "outputs": [
        {
          "output_type": "execute_result",
          "data": {
            "text/plain": [
              "count    51290.000000\n",
              "mean       246.490581\n",
              "std        487.565361\n",
              "min          0.444000\n",
              "25%         30.758625\n",
              "50%         85.053000\n",
              "75%        251.053200\n",
              "max      22638.480000\n",
              "Name: Sales, dtype: float64"
            ]
          },
          "metadata": {
            "tags": []
          },
          "execution_count": 16
        }
      ]
    },
    {
      "cell_type": "markdown",
      "metadata": {
        "id": "AIiCocyAofx9",
        "colab_type": "text"
      },
      "source": [
        "### Sales Plot For Each Month "
      ]
    },
    {
      "cell_type": "code",
      "metadata": {
        "id": "xgnxlBLbshbU",
        "colab_type": "code",
        "outputId": "d19bcc64-9b37-49f6-ecc1-0f0b4d1385bd",
        "colab": {
          "base_uri": "https://localhost:8080/",
          "height": 263
        }
      },
      "source": [
        "# Obtain monthly order sales\n",
        "\n",
        "sales_permonth = retail_data.groupby('Order_Date_Month')['Sales'].sum()\n",
        "\n",
        "sales_permonth.head(12)"
      ],
      "execution_count": 0,
      "outputs": [
        {
          "output_type": "execute_result",
          "data": {
            "text/plain": [
              "Order_Date_Month\n",
              "2015-01-01     98898.48886\n",
              "2015-02-01     91152.15698\n",
              "2015-03-01    145729.36736\n",
              "2015-04-01    116915.76418\n",
              "2015-05-01    146747.83610\n",
              "2015-06-01    215207.38022\n",
              "2015-07-01    115510.41912\n",
              "2015-08-01    207581.49122\n",
              "2015-09-01    290214.45534\n",
              "2015-10-01    199071.26404\n",
              "2015-11-01    298496.53752\n",
              "2015-12-01    333925.73460\n",
              "Name: Sales, dtype: float64"
            ]
          },
          "metadata": {
            "tags": []
          },
          "execution_count": 17
        }
      ]
    },
    {
      "cell_type": "code",
      "metadata": {
        "id": "6lcwfU13oiWe",
        "colab_type": "code",
        "outputId": "6ccc602f-bd3c-479e-dc7e-7c2b4398ba52",
        "colab": {
          "base_uri": "https://localhost:8080/",
          "height": 359
        }
      },
      "source": [
        "# Sales Plot For Each Month\n",
        "\n",
        "# Style:\n",
        "\n",
        "sns.set_style('darkgrid')\n",
        "\n",
        "# Have ci = False to remove confidence intervals.\n",
        "sales_permonth.plot()\n",
        "plt.xlabel('\\n Order Date')\n",
        "plt.ylabel('Sales ($ USD) \\n')\n",
        "\n",
        "# Vertical lines at start of each year\n",
        "plt.axvline(x = '2016-01-01', linewidth=2, color='green', alpha = 0.2) \n",
        "plt.axvline(x = '2017-01-01', linewidth=2, color='green', alpha = 0.2)\n",
        "plt.axvline(x = '2018-01-01', linewidth=2, color='green', alpha = 0.2)\n",
        "\n",
        "# Title\n",
        "plt.title('Order Sales Monthly\\n')"
      ],
      "execution_count": 0,
      "outputs": [
        {
          "output_type": "execute_result",
          "data": {
            "text/plain": [
              "Text(0.5, 1.0, 'Order Sales Monthly\\n')"
            ]
          },
          "metadata": {
            "tags": []
          },
          "execution_count": 18
        },
        {
          "output_type": "display_data",
          "data": {
            "image/png": "[encoded data removed]",
            "text/plain": [
              "<Figure size 432x288 with 1 Axes>"
            ]
          },
          "metadata": {
            "tags": []
          }
        }
      ]
    },
    {
      "cell_type": "markdown",
      "metadata": {
        "id": "d3pc0ftPxZQA",
        "colab_type": "text"
      },
      "source": [
        "**Observations**\n",
        "\n",
        "Peak Sales for the year usually occur at around August/September and the Holiday Seasons. August & September are important months as it is back to school season for many of the developed countries with Australia and Brazil starting school outside of these two months."
      ]
    },
    {
      "cell_type": "markdown",
      "metadata": {
        "id": "IcbReVAatp3d",
        "colab_type": "text"
      },
      "source": [
        "## A Look At Profits"
      ]
    },
    {
      "cell_type": "code",
      "metadata": {
        "id": "t8DtMwBDtVS2",
        "colab_type": "code",
        "outputId": "e6fb85a0-6854-4e36-ad72-4f6130c83409",
        "colab": {
          "base_uri": "https://localhost:8080/",
          "height": 175
        }
      },
      "source": [
        "# Profit Column\n",
        "\n",
        "retail_data['Profit'].describe()"
      ],
      "execution_count": 0,
      "outputs": [
        {
          "output_type": "execute_result",
          "data": {
            "text/plain": [
              "count    51290.000000\n",
              "mean        28.610982\n",
              "std        174.340972\n",
              "min      -6599.978000\n",
              "25%          0.000000\n",
              "50%          9.240000\n",
              "75%         36.810000\n",
              "max       8399.976000\n",
              "Name: Profit, dtype: float64"
            ]
          },
          "metadata": {
            "tags": []
          },
          "execution_count": 19
        }
      ]
    },
    {
      "cell_type": "markdown",
      "metadata": {
        "id": "bubBG1Dy332K",
        "colab_type": "text"
      },
      "source": [
        "### Profits Per Month \n",
        "\n",
        "Profits are the sales minus the costs. Investigating the amount of profits over time for each month."
      ]
    },
    {
      "cell_type": "code",
      "metadata": {
        "id": "W1EbiSI44PFl",
        "colab_type": "code",
        "colab": {}
      },
      "source": [
        "# Group by Month and find total profit for each month:\n",
        "\n",
        "order_profits_monthly = retail_data.groupby(['Order_Date_Month'])['Profit'].sum()"
      ],
      "execution_count": 0,
      "outputs": []
    },
    {
      "cell_type": "code",
      "metadata": {
        "id": "HIl74x6P4afr",
        "colab_type": "code",
        "outputId": "9d0d940f-ee36-46f2-ef3b-c9cc4adb555d",
        "colab": {
          "base_uri": "https://localhost:8080/",
          "height": 140
        }
      },
      "source": [
        "order_profits_monthly.head()"
      ],
      "execution_count": 0,
      "outputs": [
        {
          "output_type": "execute_result",
          "data": {
            "text/plain": [
              "Order_Date_Month\n",
              "2015-01-01     8321.80096\n",
              "2015-02-01    12417.90698\n",
              "2015-03-01    15303.56826\n",
              "2015-04-01    12902.32438\n",
              "2015-05-01    12183.82870\n",
              "Name: Profit, dtype: float64"
            ]
          },
          "metadata": {
            "tags": []
          },
          "execution_count": 21
        }
      ]
    },
    {
      "cell_type": "code",
      "metadata": {
        "id": "kvvdiXiL4Jhu",
        "colab_type": "code",
        "outputId": "e048511a-6144-4770-a23d-098407304102",
        "colab": {
          "base_uri": "https://localhost:8080/",
          "height": 331
        }
      },
      "source": [
        "# Monthly Profits On Orders Plot\n",
        "\n",
        "plt.style.use('ggplot')\n",
        "\n",
        "order_profits_monthly.plot()\n",
        "plt.xlabel('\\n Order Date')\n",
        "plt.ylabel('Profit ($ USD) \\n')\n",
        "# Vertical lines at start of each year\n",
        "plt.axvline(x = '2016-01-01', linewidth=2, color='blue', alpha = 0.15) \n",
        "plt.axvline(x = '2017-01-01', linewidth=2, color='blue', alpha = 0.15)\n",
        "plt.axvline(x = '2018-01-01', linewidth=2, color='blue', alpha = 0.15)\n",
        "\n",
        "# Title\n",
        "plt.title('Monthly Profits On Orders\\n')\n",
        "\n",
        "# Tight Layout:\n",
        "\n",
        "plt.autoscale()\n",
        "\n",
        "# Save image (bbox_inches = tight gives labels):\n",
        "# Reference: https://stackoverflow.com/questions/6774086/why-is-my-xlabel-cut-off-in-my-matplotlib-plot\n",
        "\n",
        "plt.savefig('monthly_orderProfits.png', dpi=200, bbox_inches = \"tight\")\n",
        "\n",
        "# Show:\n",
        "\n",
        "plt.show()"
      ],
      "execution_count": 0,
      "outputs": [
        {
          "output_type": "display_data",
          "data": {
            "image/png": "[encoded data removed]",
            "text/plain": [
              "<Figure size 432x288 with 1 Axes>"
            ]
          },
          "metadata": {
            "tags": []
          }
        }
      ]
    },
    {
      "cell_type": "markdown",
      "metadata": {
        "id": "9i7g39z1EsGi",
        "colab_type": "text"
      },
      "source": [
        "### Year Over Year Growth"
      ]
    },
    {
      "cell_type": "code",
      "metadata": {
        "id": "kGC2zvMJC2eU",
        "colab_type": "code",
        "outputId": "048dda1e-bbc9-4424-b257-4ecba5ed8f6a",
        "colab": {
          "base_uri": "https://localhost:8080/",
          "height": 568
        }
      },
      "source": [
        "# Trying groupby on datetimes:\n",
        "# Obtain counts for each year\n",
        "# Reference: https://stackoverflow.com/questions/18233107/pandas-convert-datetime-to-end-of-month\n",
        "\n",
        "retail_data['Order_Date_Year'] = retail_data['Order Date'].astype('datetime64[Y]')\n",
        "\n",
        "retail_data.head()"
      ],
      "execution_count": 0,
      "outputs": [
        {
          "output_type": "execute_result",
          "data": {
            "text/html": [
              "<div>\n",
              "<style scoped>\n",
              "    .dataframe tbody tr th:only-of-type {\n",
              "        vertical-align: middle;\n",
              "    }\n",
              "\n",
              "    .dataframe tbody tr th {\n",
              "        vertical-align: top;\n",
              "    }\n",
              "\n",
              "    .dataframe thead th {\n",
              "        text-align: right;\n",
              "    }\n",
              "</style>\n",
              "<table border=\"1\" class=\"dataframe\">\n",
              "  <thead>\n",
              "    <tr style=\"text-align: right;\">\n",
              "      <th></th>\n",
              "      <th>Row ID</th>\n",
              "      <th>Order ID</th>\n",
              "      <th>Order Date</th>\n",
              "      <th>Ship Date</th>\n",
              "      <th>Ship Mode</th>\n",
              "      <th>Customer ID</th>\n",
              "      <th>Customer Name</th>\n",
              "      <th>Segment</th>\n",
              "      <th>City</th>\n",
              "      <th>State</th>\n",
              "      <th>Country</th>\n",
              "      <th>Postal Code</th>\n",
              "      <th>Market</th>\n",
              "      <th>Region</th>\n",
              "      <th>Product ID</th>\n",
              "      <th>Category</th>\n",
              "      <th>Sub-Category</th>\n",
              "      <th>Product Name</th>\n",
              "      <th>Sales</th>\n",
              "      <th>Quantity</th>\n",
              "      <th>Discount</th>\n",
              "      <th>Profit</th>\n",
              "      <th>Shipping Cost</th>\n",
              "      <th>Order Priority</th>\n",
              "      <th>Order_Date_Month</th>\n",
              "      <th>Order_Date_Year</th>\n",
              "    </tr>\n",
              "  </thead>\n",
              "  <tbody>\n",
              "    <tr>\n",
              "      <th>0</th>\n",
              "      <td>32298</td>\n",
              "      <td>CA-2016-124891</td>\n",
              "      <td>2016-07-31</td>\n",
              "      <td>2016-07-31</td>\n",
              "      <td>Same Day</td>\n",
              "      <td>RH-19495</td>\n",
              "      <td>Rick Hansen</td>\n",
              "      <td>Consumer</td>\n",
              "      <td>New York City</td>\n",
              "      <td>New York</td>\n",
              "      <td>United States</td>\n",
              "      <td>10024.0</td>\n",
              "      <td>US</td>\n",
              "      <td>East</td>\n",
              "      <td>TEC-AC-10003033</td>\n",
              "      <td>Technology</td>\n",
              "      <td>Accessories</td>\n",
              "      <td>Plantronics CS510 - Over-the-Head monaural Wir...</td>\n",
              "      <td>2309.650</td>\n",
              "      <td>7</td>\n",
              "      <td>0.0</td>\n",
              "      <td>762.1845</td>\n",
              "      <td>933.57</td>\n",
              "      <td>Critical</td>\n",
              "      <td>2016-07-01</td>\n",
              "      <td>2016-01-01</td>\n",
              "    </tr>\n",
              "    <tr>\n",
              "      <th>1</th>\n",
              "      <td>26341</td>\n",
              "      <td>IN-2017-77878</td>\n",
              "      <td>2017-02-05</td>\n",
              "      <td>2017-02-07</td>\n",
              "      <td>Second Class</td>\n",
              "      <td>JR-16210</td>\n",
              "      <td>Justin Ritter</td>\n",
              "      <td>Corporate</td>\n",
              "      <td>Wollongong</td>\n",
              "      <td>New South Wales</td>\n",
              "      <td>Australia</td>\n",
              "      <td>NaN</td>\n",
              "      <td>APAC</td>\n",
              "      <td>Oceania</td>\n",
              "      <td>FUR-CH-10003950</td>\n",
              "      <td>Furniture</td>\n",
              "      <td>Chairs</td>\n",
              "      <td>Novimex Executive Leather Armchair, Black</td>\n",
              "      <td>3709.395</td>\n",
              "      <td>9</td>\n",
              "      <td>0.1</td>\n",
              "      <td>-288.7650</td>\n",
              "      <td>923.63</td>\n",
              "      <td>Critical</td>\n",
              "      <td>2017-02-01</td>\n",
              "      <td>2017-01-01</td>\n",
              "    </tr>\n",
              "    <tr>\n",
              "      <th>2</th>\n",
              "      <td>25330</td>\n",
              "      <td>IN-2017-71249</td>\n",
              "      <td>2017-10-17</td>\n",
              "      <td>2017-10-18</td>\n",
              "      <td>First Class</td>\n",
              "      <td>CR-12730</td>\n",
              "      <td>Craig Reiter</td>\n",
              "      <td>Consumer</td>\n",
              "      <td>Brisbane</td>\n",
              "      <td>Queensland</td>\n",
              "      <td>Australia</td>\n",
              "      <td>NaN</td>\n",
              "      <td>APAC</td>\n",
              "      <td>Oceania</td>\n",
              "      <td>TEC-PH-10004664</td>\n",
              "      <td>Technology</td>\n",
              "      <td>Phones</td>\n",
              "      <td>Nokia Smart Phone, with Caller ID</td>\n",
              "      <td>5175.171</td>\n",
              "      <td>9</td>\n",
              "      <td>0.1</td>\n",
              "      <td>919.9710</td>\n",
              "      <td>915.49</td>\n",
              "      <td>Medium</td>\n",
              "      <td>2017-10-01</td>\n",
              "      <td>2017-01-01</td>\n",
              "    </tr>\n",
              "    <tr>\n",
              "      <th>3</th>\n",
              "      <td>13524</td>\n",
              "      <td>ES-2017-1579342</td>\n",
              "      <td>2017-01-28</td>\n",
              "      <td>2017-01-30</td>\n",
              "      <td>First Class</td>\n",
              "      <td>KM-16375</td>\n",
              "      <td>Katherine Murray</td>\n",
              "      <td>Home Office</td>\n",
              "      <td>Berlin</td>\n",
              "      <td>Berlin</td>\n",
              "      <td>Germany</td>\n",
              "      <td>NaN</td>\n",
              "      <td>EU</td>\n",
              "      <td>Central</td>\n",
              "      <td>TEC-PH-10004583</td>\n",
              "      <td>Technology</td>\n",
              "      <td>Phones</td>\n",
              "      <td>Motorola Smart Phone, Cordless</td>\n",
              "      <td>2892.510</td>\n",
              "      <td>5</td>\n",
              "      <td>0.1</td>\n",
              "      <td>-96.5400</td>\n",
              "      <td>910.16</td>\n",
              "      <td>Medium</td>\n",
              "      <td>2017-01-01</td>\n",
              "      <td>2017-01-01</td>\n",
              "    </tr>\n",
              "    <tr>\n",
              "      <th>4</th>\n",
              "      <td>47221</td>\n",
              "      <td>SG-2017-4320</td>\n",
              "      <td>2017-11-05</td>\n",
              "      <td>2017-11-06</td>\n",
              "      <td>Same Day</td>\n",
              "      <td>RH-9495</td>\n",
              "      <td>Rick Hansen</td>\n",
              "      <td>Consumer</td>\n",
              "      <td>Dakar</td>\n",
              "      <td>Dakar</td>\n",
              "      <td>Senegal</td>\n",
              "      <td>NaN</td>\n",
              "      <td>Africa</td>\n",
              "      <td>Africa</td>\n",
              "      <td>TEC-SHA-10000501</td>\n",
              "      <td>Technology</td>\n",
              "      <td>Copiers</td>\n",
              "      <td>Sharp Wireless Fax, High-Speed</td>\n",
              "      <td>2832.960</td>\n",
              "      <td>8</td>\n",
              "      <td>0.0</td>\n",
              "      <td>311.5200</td>\n",
              "      <td>903.04</td>\n",
              "      <td>Critical</td>\n",
              "      <td>2017-11-01</td>\n",
              "      <td>2017-01-01</td>\n",
              "    </tr>\n",
              "  </tbody>\n",
              "</table>\n",
              "</div>"
            ],
            "text/plain": [
              "   Row ID         Order ID  ... Order_Date_Month Order_Date_Year\n",
              "0   32298   CA-2016-124891  ...       2016-07-01      2016-01-01\n",
              "1   26341    IN-2017-77878  ...       2017-02-01      2017-01-01\n",
              "2   25330    IN-2017-71249  ...       2017-10-01      2017-01-01\n",
              "3   13524  ES-2017-1579342  ...       2017-01-01      2017-01-01\n",
              "4   47221     SG-2017-4320  ...       2017-11-01      2017-01-01\n",
              "\n",
              "[5 rows x 26 columns]"
            ]
          },
          "metadata": {
            "tags": []
          },
          "execution_count": 23
        }
      ]
    },
    {
      "cell_type": "code",
      "metadata": {
        "id": "FNM0v1VhDeXI",
        "colab_type": "code",
        "outputId": "81129a94-567a-4b06-bb75-4b5d0b8d6b54",
        "colab": {
          "base_uri": "https://localhost:8080/",
          "height": 122
        }
      },
      "source": [
        "# Group by Month and find total profit for each month:\n",
        "\n",
        "order_profits_annual = retail_data.groupby(['Order_Date_Year'])['Profit'].sum()\n",
        "\n",
        "order_profits_annual"
      ],
      "execution_count": 0,
      "outputs": [
        {
          "output_type": "execute_result",
          "data": {
            "text/plain": [
              "Order_Date_Year\n",
              "2015-01-01    248940.81154\n",
              "2016-01-01    307415.27910\n",
              "2017-01-01    406935.23018\n",
              "2018-01-01    504165.97046\n",
              "Name: Profit, dtype: float64"
            ]
          },
          "metadata": {
            "tags": []
          },
          "execution_count": 24
        }
      ]
    },
    {
      "cell_type": "code",
      "metadata": {
        "id": "yWddYbeXDjb-",
        "colab_type": "code",
        "outputId": "f05503c9-801f-4e0c-e9a5-c45b41b15fae",
        "colab": {
          "base_uri": "https://localhost:8080/",
          "height": 122
        }
      },
      "source": [
        "# Take differences:\n",
        "\n",
        "order_profits_annual.diff()"
      ],
      "execution_count": 0,
      "outputs": [
        {
          "output_type": "execute_result",
          "data": {
            "text/plain": [
              "Order_Date_Year\n",
              "2015-01-01            NaN\n",
              "2016-01-01    58474.46756\n",
              "2017-01-01    99519.95108\n",
              "2018-01-01    97230.74028\n",
              "Name: Profit, dtype: float64"
            ]
          },
          "metadata": {
            "tags": []
          },
          "execution_count": 25
        }
      ]
    },
    {
      "cell_type": "markdown",
      "metadata": {
        "id": "FTqPP_ItXzeE",
        "colab_type": "text"
      },
      "source": [
        "## Counts (Number Of Orders) By Category "
      ]
    },
    {
      "cell_type": "code",
      "metadata": {
        "id": "YsSVXW3m00Hm",
        "colab_type": "code",
        "outputId": "f59ed125-9ed0-49b3-d756-dc0d8c0059e7",
        "colab": {
          "base_uri": "https://localhost:8080/",
          "height": 105
        }
      },
      "source": [
        "# Check out .groupby Category:\n",
        "# We have furniture, office supplies and technology.\n",
        "\n",
        "category_order_counts = retail_data.groupby('Category')['Row ID'].count().sort_values(ascending = False)\n",
        "\n",
        "category_order_counts"
      ],
      "execution_count": 0,
      "outputs": [
        {
          "output_type": "execute_result",
          "data": {
            "text/plain": [
              "Category\n",
              "Office Supplies    31273\n",
              "Technology         10141\n",
              "Furniture           9876\n",
              "Name: Row ID, dtype: int64"
            ]
          },
          "metadata": {
            "tags": []
          },
          "execution_count": 26
        }
      ]
    },
    {
      "cell_type": "code",
      "metadata": {
        "id": "vEp7HjhfRR9K",
        "colab_type": "code",
        "outputId": "88b7700a-26e7-4b34-e618-884777768e42",
        "colab": {
          "base_uri": "https://localhost:8080/",
          "height": 34
        }
      },
      "source": [
        "# Total number of orders.\n",
        "\n",
        "category_order_counts.sum()"
      ],
      "execution_count": 0,
      "outputs": [
        {
          "output_type": "execute_result",
          "data": {
            "text/plain": [
              "51290"
            ]
          },
          "metadata": {
            "tags": []
          },
          "execution_count": 27
        }
      ]
    },
    {
      "cell_type": "markdown",
      "metadata": {
        "id": "5EMh2ZPjwa0i",
        "colab_type": "text"
      },
      "source": [
        "### Pie Chart"
      ]
    },
    {
      "cell_type": "code",
      "metadata": {
        "id": "dpCgtqwCwcsq",
        "colab_type": "code",
        "outputId": "d4658437-20e6-4756-a063-7f2d86160e6e",
        "colab": {
          "base_uri": "https://localhost:8080/",
          "height": 297
        }
      },
      "source": [
        "# Run a pie chart for Categories:\n",
        "# Reference: https://www.youtube.com/watch?v=MPiz50TsyF0\n",
        "# Reference: https://stackoverflow.com/questions/6170246/how-do-i-use-matplotlib-autopct\n",
        "\n",
        "pie_labels = ['Office Supplies', 'Technology', 'Furniture']\n",
        "\n",
        "def make_autopct(values):\n",
        "    def my_autopct(pct):\n",
        "        total = sum(values)\n",
        "        val=int((pct*total/100.0) + 0.5)\n",
        "        return '{p:.0f}% ({v:d})'.format(p=pct,v=val)\n",
        "    return my_autopct\n",
        "\n",
        "plt.pie(category_order_counts, labels = pie_labels, \n",
        "        autopct = make_autopct(category_order_counts),\n",
        "        startangle = 30,\n",
        "        colors = ['#D8D028', '#85AD4E', '#D18C14'])\n",
        "\n",
        "plt.title('Order Counts By Category\\n', size = 14)\n",
        "\n",
        "plt.tight_layout()\n",
        "plt.savefig('pie_catgCounts.png', dpi = 300)\n",
        "plt.show()\n"
      ],
      "execution_count": 0,
      "outputs": [
        {
          "output_type": "display_data",
          "data": {
            "image/png": "[encoded data removed]",
            "text/plain": [
              "<Figure size 432x288 with 1 Axes>"
            ]
          },
          "metadata": {
            "tags": []
          }
        }
      ]
    },
    {
      "cell_type": "markdown",
      "metadata": {
        "id": "vKvvLB1jX42A",
        "colab_type": "text"
      },
      "source": [
        "## Counts By Sub Category\n",
        "\n",
        "I could put some of this data in a slide or mention some of these sub-categories in the Counts By Category section."
      ]
    },
    {
      "cell_type": "code",
      "metadata": {
        "id": "RaaLAG059w3-",
        "colab_type": "code",
        "outputId": "0b6918e2-1871-4c49-96a4-ab29bf277792",
        "colab": {
          "base_uri": "https://localhost:8080/",
          "height": 351
        }
      },
      "source": [
        "# Look at sub-categories:\n",
        "\n",
        "retail_data.groupby('Sub-Category')['Row ID'].count()"
      ],
      "execution_count": 0,
      "outputs": [
        {
          "output_type": "execute_result",
          "data": {
            "text/plain": [
              "Sub-Category\n",
              "Accessories    3075\n",
              "Appliances     1755\n",
              "Art            4883\n",
              "Binders        6152\n",
              "Bookcases      2411\n",
              "Chairs         3434\n",
              "Copiers        2223\n",
              "Envelopes      2435\n",
              "Fasteners      2420\n",
              "Furnishings    3170\n",
              "Labels         2606\n",
              "Machines       1486\n",
              "Paper          3538\n",
              "Phones         3357\n",
              "Storage        5059\n",
              "Supplies       2425\n",
              "Tables          861\n",
              "Name: Row ID, dtype: int64"
            ]
          },
          "metadata": {
            "tags": []
          },
          "execution_count": 29
        }
      ]
    },
    {
      "cell_type": "code",
      "metadata": {
        "id": "I7Ip8oRS-Z4S",
        "colab_type": "code",
        "outputId": "32bf41ee-ce41-4f4c-a419-bbc89ababe94",
        "colab": {
          "base_uri": "https://localhost:8080/",
          "height": 351
        }
      },
      "source": [
        "# Look at sub-categories:\n",
        "\n",
        "retail_data.groupby('Sub-Category')['Row ID'].count().sort_values(ascending = False)"
      ],
      "execution_count": 0,
      "outputs": [
        {
          "output_type": "execute_result",
          "data": {
            "text/plain": [
              "Sub-Category\n",
              "Binders        6152\n",
              "Storage        5059\n",
              "Art            4883\n",
              "Paper          3538\n",
              "Chairs         3434\n",
              "Phones         3357\n",
              "Furnishings    3170\n",
              "Accessories    3075\n",
              "Labels         2606\n",
              "Envelopes      2435\n",
              "Supplies       2425\n",
              "Fasteners      2420\n",
              "Bookcases      2411\n",
              "Copiers        2223\n",
              "Appliances     1755\n",
              "Machines       1486\n",
              "Tables          861\n",
              "Name: Row ID, dtype: int64"
            ]
          },
          "metadata": {
            "tags": []
          },
          "execution_count": 30
        }
      ]
    },
    {
      "cell_type": "code",
      "metadata": {
        "id": "dipiN24tqRiA",
        "colab_type": "code",
        "outputId": "b2433beb-64ba-4aa1-9c0e-d63ca89d5c2e",
        "colab": {
          "base_uri": "https://localhost:8080/",
          "height": 417
        }
      },
      "source": [
        "# Find Categories for the top five sub-categories:\n",
        "\n",
        "top_five_subcatg = ['Binders', 'Storage', 'Art', 'Paper', 'Chairs']\n",
        "\n",
        "retail_data[retail_data['Sub-Category'].isin(top_five_subcatg)].loc[:, ['Category', 'Sub-Category']].head(12)"
      ],
      "execution_count": 0,
      "outputs": [
        {
          "output_type": "execute_result",
          "data": {
            "text/html": [
              "<div>\n",
              "<style scoped>\n",
              "    .dataframe tbody tr th:only-of-type {\n",
              "        vertical-align: middle;\n",
              "    }\n",
              "\n",
              "    .dataframe tbody tr th {\n",
              "        vertical-align: top;\n",
              "    }\n",
              "\n",
              "    .dataframe thead th {\n",
              "        text-align: right;\n",
              "    }\n",
              "</style>\n",
              "<table border=\"1\" class=\"dataframe\">\n",
              "  <thead>\n",
              "    <tr style=\"text-align: right;\">\n",
              "      <th></th>\n",
              "      <th>Category</th>\n",
              "      <th>Sub-Category</th>\n",
              "    </tr>\n",
              "  </thead>\n",
              "  <tbody>\n",
              "    <tr>\n",
              "      <th>1</th>\n",
              "      <td>Furniture</td>\n",
              "      <td>Chairs</td>\n",
              "    </tr>\n",
              "    <tr>\n",
              "      <th>6</th>\n",
              "      <td>Furniture</td>\n",
              "      <td>Chairs</td>\n",
              "    </tr>\n",
              "    <tr>\n",
              "      <th>8</th>\n",
              "      <td>Office Supplies</td>\n",
              "      <td>Binders</td>\n",
              "    </tr>\n",
              "    <tr>\n",
              "      <th>13</th>\n",
              "      <td>Furniture</td>\n",
              "      <td>Chairs</td>\n",
              "    </tr>\n",
              "    <tr>\n",
              "      <th>22</th>\n",
              "      <td>Furniture</td>\n",
              "      <td>Chairs</td>\n",
              "    </tr>\n",
              "    <tr>\n",
              "      <th>29</th>\n",
              "      <td>Furniture</td>\n",
              "      <td>Chairs</td>\n",
              "    </tr>\n",
              "    <tr>\n",
              "      <th>32</th>\n",
              "      <td>Furniture</td>\n",
              "      <td>Chairs</td>\n",
              "    </tr>\n",
              "    <tr>\n",
              "      <th>45</th>\n",
              "      <td>Office Supplies</td>\n",
              "      <td>Binders</td>\n",
              "    </tr>\n",
              "    <tr>\n",
              "      <th>46</th>\n",
              "      <td>Furniture</td>\n",
              "      <td>Chairs</td>\n",
              "    </tr>\n",
              "    <tr>\n",
              "      <th>47</th>\n",
              "      <td>Furniture</td>\n",
              "      <td>Chairs</td>\n",
              "    </tr>\n",
              "    <tr>\n",
              "      <th>49</th>\n",
              "      <td>Furniture</td>\n",
              "      <td>Chairs</td>\n",
              "    </tr>\n",
              "    <tr>\n",
              "      <th>50</th>\n",
              "      <td>Office Supplies</td>\n",
              "      <td>Binders</td>\n",
              "    </tr>\n",
              "  </tbody>\n",
              "</table>\n",
              "</div>"
            ],
            "text/plain": [
              "           Category Sub-Category\n",
              "1         Furniture       Chairs\n",
              "6         Furniture       Chairs\n",
              "8   Office Supplies      Binders\n",
              "13        Furniture       Chairs\n",
              "22        Furniture       Chairs\n",
              "29        Furniture       Chairs\n",
              "32        Furniture       Chairs\n",
              "45  Office Supplies      Binders\n",
              "46        Furniture       Chairs\n",
              "47        Furniture       Chairs\n",
              "49        Furniture       Chairs\n",
              "50  Office Supplies      Binders"
            ]
          },
          "metadata": {
            "tags": []
          },
          "execution_count": 31
        }
      ]
    },
    {
      "cell_type": "markdown",
      "metadata": {
        "id": "gGLRdrlvp-Ta",
        "colab_type": "text"
      },
      "source": [
        "### Top Five Sub-Categories\n",
        "\n",
        "1. Binders (Office Supplies)\n",
        "2. Storage (Office Supplies)\n",
        "3. Art (Office Supplies)\n",
        "4. Paper (Office Supplies)\n",
        "5. Chairs (Furniture)"
      ]
    },
    {
      "cell_type": "code",
      "metadata": {
        "id": "Nv8k2-anWf8x",
        "colab_type": "code",
        "outputId": "3707b7ac-d807-4cd2-f598-6fb8ff23b486",
        "colab": {
          "base_uri": "https://localhost:8080/",
          "height": 351
        }
      },
      "source": [
        "# Sort order counts for each sub category in category.\n",
        "\n",
        "retail_data.groupby(['Category'])['Sub-Category'].value_counts(ascending = False)"
      ],
      "execution_count": 0,
      "outputs": [
        {
          "output_type": "execute_result",
          "data": {
            "text/plain": [
              "Category         Sub-Category\n",
              "Furniture        Chairs          3434\n",
              "                 Furnishings     3170\n",
              "                 Bookcases       2411\n",
              "                 Tables           861\n",
              "Office Supplies  Binders         6152\n",
              "                 Storage         5059\n",
              "                 Art             4883\n",
              "                 Paper           3538\n",
              "                 Labels          2606\n",
              "                 Envelopes       2435\n",
              "                 Supplies        2425\n",
              "                 Fasteners       2420\n",
              "                 Appliances      1755\n",
              "Technology       Phones          3357\n",
              "                 Accessories     3075\n",
              "                 Copiers         2223\n",
              "                 Machines        1486\n",
              "Name: Sub-Category, dtype: int64"
            ]
          },
          "metadata": {
            "tags": []
          },
          "execution_count": 32
        }
      ]
    },
    {
      "cell_type": "markdown",
      "metadata": {
        "id": "0or1mDSeYJIH",
        "colab_type": "text"
      },
      "source": [
        "## Groupby Counts For Region"
      ]
    },
    {
      "cell_type": "markdown",
      "metadata": {
        "id": "left42ThX-xC",
        "colab_type": "text"
      },
      "source": [
        "I could point out top three sub-categories in each category. Maybe look into best selling products."
      ]
    },
    {
      "cell_type": "code",
      "metadata": {
        "id": "CuoYfFOA3hoI",
        "colab_type": "code",
        "outputId": "67fd09bb-69bc-40d9-fde2-56e27669b4c3",
        "colab": {
          "base_uri": "https://localhost:8080/",
          "height": 281
        }
      },
      "source": [
        "# Look at .groupby Region:\n",
        "\n",
        "retail_data.groupby('Region')['Row ID'].count()"
      ],
      "execution_count": 0,
      "outputs": [
        {
          "output_type": "execute_result",
          "data": {
            "text/plain": [
              "Region\n",
              "Africa             4587\n",
              "Canada              384\n",
              "Caribbean          1690\n",
              "Central           11117\n",
              "Central Asia       2048\n",
              "EMEA               5029\n",
              "East               2848\n",
              "North              4785\n",
              "North Asia         2338\n",
              "Oceania            3487\n",
              "South              6645\n",
              "Southeast Asia     3129\n",
              "West               3203\n",
              "Name: Row ID, dtype: int64"
            ]
          },
          "metadata": {
            "tags": []
          },
          "execution_count": 33
        }
      ]
    },
    {
      "cell_type": "markdown",
      "metadata": {
        "id": "ACp9z8aZ4aEE",
        "colab_type": "text"
      },
      "source": [
        "Not sure if I want to groupby region. It is not known what is Central, East, South, West in terms of countries."
      ]
    },
    {
      "cell_type": "markdown",
      "metadata": {
        "id": "C0jRDzjWYPVP",
        "colab_type": "text"
      },
      "source": [
        "## Groupby Counts For Market (*)"
      ]
    },
    {
      "cell_type": "code",
      "metadata": {
        "id": "7bIdocGF4IPo",
        "colab_type": "code",
        "outputId": "9d21262b-ea54-4614-e0f4-afd0e2f462e2",
        "colab": {
          "base_uri": "https://localhost:8080/",
          "height": 175
        }
      },
      "source": [
        "# Look at groupby Market\n",
        "\n",
        "retail_data.groupby('Market')['Row ID'].count().sort_values(ascending = False)"
      ],
      "execution_count": 0,
      "outputs": [
        {
          "output_type": "execute_result",
          "data": {
            "text/plain": [
              "Market\n",
              "APAC      11002\n",
              "LATAM     10294\n",
              "EU        10000\n",
              "US         9994\n",
              "EMEA       5029\n",
              "Africa     4587\n",
              "Canada      384\n",
              "Name: Row ID, dtype: int64"
            ]
          },
          "metadata": {
            "tags": []
          },
          "execution_count": 34
        }
      ]
    },
    {
      "cell_type": "markdown",
      "metadata": {
        "id": "nr8jCuPvnB3d",
        "colab_type": "text"
      },
      "source": [
        "* APAC = Asia - Pacific\n",
        "* LATAM = Latin America\n",
        "* EU = European Union\n",
        "* US = United States\n",
        "* EMEA = Europe, Middle East & Africa"
      ]
    },
    {
      "cell_type": "markdown",
      "metadata": {
        "id": "mcGcQaGTm7rK",
        "colab_type": "text"
      },
      "source": [
        "### Counts By City"
      ]
    },
    {
      "cell_type": "code",
      "metadata": {
        "id": "izLK_nuHm-ec",
        "colab_type": "code",
        "outputId": "b815da96-0ac4-4271-ffb6-c89cb27a000a",
        "colab": {
          "base_uri": "https://localhost:8080/",
          "height": 404
        }
      },
      "source": [
        "retail_data.groupby('City')['Row ID'].count().sort_values(ascending = False).head(20)"
      ],
      "execution_count": 0,
      "outputs": [
        {
          "output_type": "execute_result",
          "data": {
            "text/plain": [
              "City\n",
              "New York City    915\n",
              "Los Angeles      747\n",
              "Philadelphia     537\n",
              "San Francisco    510\n",
              "Santo Domingo    443\n",
              "Manila           432\n",
              "Seattle          428\n",
              "Houston          377\n",
              "Tegucigalpa      362\n",
              "Jakarta          337\n",
              "Managua          336\n",
              "Lagos            333\n",
              "Chicago          314\n",
              "Istanbul         314\n",
              "Mexico City      300\n",
              "Bangkok          287\n",
              "London           281\n",
              "Sydney           271\n",
              "Cairo            248\n",
              "Vienna           245\n",
              "Name: Row ID, dtype: int64"
            ]
          },
          "metadata": {
            "tags": []
          },
          "execution_count": 35
        }
      ]
    },
    {
      "cell_type": "markdown",
      "metadata": {
        "id": "BSW72OGKndSe",
        "colab_type": "text"
      },
      "source": [
        "### Counts By Country (*)\n",
        "\n"
      ]
    },
    {
      "cell_type": "code",
      "metadata": {
        "id": "dNXTGCj7nkQ5",
        "colab_type": "code",
        "outputId": "197319eb-e16e-441b-ae27-e0fa1fe2e55b",
        "colab": {
          "base_uri": "https://localhost:8080/",
          "height": 263
        }
      },
      "source": [
        "retail_data.groupby('Country')['Row ID'].count().sort_values(ascending = False).head(12)"
      ],
      "execution_count": 0,
      "outputs": [
        {
          "output_type": "execute_result",
          "data": {
            "text/plain": [
              "Country\n",
              "United States     9994\n",
              "Australia         2837\n",
              "France            2827\n",
              "Mexico            2644\n",
              "Germany           2065\n",
              "China             1880\n",
              "United Kingdom    1633\n",
              "Brazil            1599\n",
              "India             1555\n",
              "Indonesia         1390\n",
              "Turkey            1378\n",
              "Italy             1108\n",
              "Name: Row ID, dtype: int64"
            ]
          },
          "metadata": {
            "tags": []
          },
          "execution_count": 36
        }
      ]
    },
    {
      "cell_type": "markdown",
      "metadata": {
        "id": "bmDIvcZlnyDu",
        "colab_type": "text"
      },
      "source": [
        "The United States is a big market as a region and as a country.\n",
        "\n",
        "Maybe look at Turkey to see if it in Europe / EU or Asia.\n",
        "\n",
        "**Top 10 Countries**\n",
        "\n",
        "* USA (North America)\n",
        "* Australia (APAC)\n",
        "* France (EU)\n",
        "* Mexico (North America)\n",
        "* Germany (EU)\n",
        "* China (APAC)\n",
        "* UK (EU)\n",
        "* Brazil (LATAM)\n",
        "* India (APAC)\n",
        "* Indonesia (APAC)\n"
      ]
    },
    {
      "cell_type": "markdown",
      "metadata": {
        "id": "vOAWi9k55Qn9",
        "colab_type": "text"
      },
      "source": [
        "### Group By Market & Country "
      ]
    },
    {
      "cell_type": "code",
      "metadata": {
        "id": "hm6-vGs8MQSw",
        "colab_type": "code",
        "outputId": "f5fa36c4-a083-4a01-86a6-814f64fdec91",
        "colab": {
          "base_uri": "https://localhost:8080/",
          "height": 140
        }
      },
      "source": [
        "groupby_market_country = retail_data.groupby(['Market'])['Country'].value_counts(ascending = False)\n",
        "\n",
        "groupby_market_country.head()"
      ],
      "execution_count": 0,
      "outputs": [
        {
          "output_type": "execute_result",
          "data": {
            "text/plain": [
              "Market  Country    \n",
              "APAC    Australia      2837\n",
              "        China          1880\n",
              "        India          1555\n",
              "        Indonesia      1390\n",
              "        Philippines     681\n",
              "Name: Country, dtype: int64"
            ]
          },
          "metadata": {
            "tags": []
          },
          "execution_count": 37
        }
      ]
    },
    {
      "cell_type": "markdown",
      "metadata": {
        "id": "VayqtOi8N6sY",
        "colab_type": "text"
      },
      "source": [
        "Out of curiousity, it was worth a look. Top countries for each market are in the most frequent orders by country."
      ]
    },
    {
      "cell_type": "markdown",
      "metadata": {
        "id": "OWRlLAFAOLx3",
        "colab_type": "text"
      },
      "source": [
        "### Group By Country & City\n",
        "\n",
        "Out of curiousity I want to explore grouping by country and city."
      ]
    },
    {
      "cell_type": "code",
      "metadata": {
        "id": "eK6ywhN0Op7f",
        "colab_type": "code",
        "outputId": "442870ed-dbc9-4939-b06c-c572cb614475",
        "colab": {
          "base_uri": "https://localhost:8080/",
          "height": 404
        }
      },
      "source": [
        "retail_data.groupby(['Country'])['City'].value_counts(ascending = False).head(20)"
      ],
      "execution_count": 0,
      "outputs": [
        {
          "output_type": "execute_result",
          "data": {
            "text/plain": [
              "Country      City       \n",
              "Afghanistan  Kabul          41\n",
              "             Herat           5\n",
              "             Jalalabad       5\n",
              "             Kandahar        4\n",
              "Albania      Vlore           6\n",
              "             Shkoder         4\n",
              "             Korce           3\n",
              "             Durres          2\n",
              "             Elbasan         1\n",
              "Algeria      Algiers        55\n",
              "             Oran           37\n",
              "             Annaba         20\n",
              "             Constantine    12\n",
              "             Guelma         11\n",
              "             Saida          10\n",
              "             Batna           8\n",
              "             Messaad         8\n",
              "             Skikda          6\n",
              "             Baraki          4\n",
              "             Mostaganem      4\n",
              "Name: City, dtype: int64"
            ]
          },
          "metadata": {
            "tags": []
          },
          "execution_count": 38
        }
      ]
    },
    {
      "cell_type": "markdown",
      "metadata": {
        "id": "HkQwuRPpO2aZ",
        "colab_type": "text"
      },
      "source": [
        "This output is not helpful. I will try to associate top countries with their respective top cities for most frequent orders."
      ]
    },
    {
      "cell_type": "code",
      "metadata": {
        "id": "YQjaTVh6PBjz",
        "colab_type": "code",
        "outputId": "9b7f1903-7ca6-45bb-9144-7f13c1dc7a90",
        "colab": {
          "base_uri": "https://localhost:8080/",
          "height": 585
        }
      },
      "source": [
        "# Top Ten Countries:\n",
        "\n",
        "# Top ten countries\n",
        "top_ten_countries = ['United States', 'Australia', 'France', 'Mexico',\n",
        "                     'Germany', 'China', 'United Kingdom',\n",
        "                     'Brazil', 'India', 'Indonesia']\n",
        "\n",
        "top_ten_freq_countries_orders = retail_data[retail_data['Country'].isin(top_ten_countries)]\n",
        "\n",
        "top_ten_freq_countries_orders.head()"
      ],
      "execution_count": 0,
      "outputs": [
        {
          "output_type": "execute_result",
          "data": {
            "text/html": [
              "<div>\n",
              "<style scoped>\n",
              "    .dataframe tbody tr th:only-of-type {\n",
              "        vertical-align: middle;\n",
              "    }\n",
              "\n",
              "    .dataframe tbody tr th {\n",
              "        vertical-align: top;\n",
              "    }\n",
              "\n",
              "    .dataframe thead th {\n",
              "        text-align: right;\n",
              "    }\n",
              "</style>\n",
              "<table border=\"1\" class=\"dataframe\">\n",
              "  <thead>\n",
              "    <tr style=\"text-align: right;\">\n",
              "      <th></th>\n",
              "      <th>Row ID</th>\n",
              "      <th>Order ID</th>\n",
              "      <th>Order Date</th>\n",
              "      <th>Ship Date</th>\n",
              "      <th>Ship Mode</th>\n",
              "      <th>Customer ID</th>\n",
              "      <th>Customer Name</th>\n",
              "      <th>Segment</th>\n",
              "      <th>City</th>\n",
              "      <th>State</th>\n",
              "      <th>Country</th>\n",
              "      <th>Postal Code</th>\n",
              "      <th>Market</th>\n",
              "      <th>Region</th>\n",
              "      <th>Product ID</th>\n",
              "      <th>Category</th>\n",
              "      <th>Sub-Category</th>\n",
              "      <th>Product Name</th>\n",
              "      <th>Sales</th>\n",
              "      <th>Quantity</th>\n",
              "      <th>Discount</th>\n",
              "      <th>Profit</th>\n",
              "      <th>Shipping Cost</th>\n",
              "      <th>Order Priority</th>\n",
              "      <th>Order_Date_Month</th>\n",
              "      <th>Order_Date_Year</th>\n",
              "    </tr>\n",
              "  </thead>\n",
              "  <tbody>\n",
              "    <tr>\n",
              "      <th>0</th>\n",
              "      <td>32298</td>\n",
              "      <td>CA-2016-124891</td>\n",
              "      <td>2016-07-31</td>\n",
              "      <td>2016-07-31</td>\n",
              "      <td>Same Day</td>\n",
              "      <td>RH-19495</td>\n",
              "      <td>Rick Hansen</td>\n",
              "      <td>Consumer</td>\n",
              "      <td>New York City</td>\n",
              "      <td>New York</td>\n",
              "      <td>United States</td>\n",
              "      <td>10024.0</td>\n",
              "      <td>US</td>\n",
              "      <td>East</td>\n",
              "      <td>TEC-AC-10003033</td>\n",
              "      <td>Technology</td>\n",
              "      <td>Accessories</td>\n",
              "      <td>Plantronics CS510 - Over-the-Head monaural Wir...</td>\n",
              "      <td>2309.650</td>\n",
              "      <td>7</td>\n",
              "      <td>0.0</td>\n",
              "      <td>762.1845</td>\n",
              "      <td>933.57</td>\n",
              "      <td>Critical</td>\n",
              "      <td>2016-07-01</td>\n",
              "      <td>2016-01-01</td>\n",
              "    </tr>\n",
              "    <tr>\n",
              "      <th>1</th>\n",
              "      <td>26341</td>\n",
              "      <td>IN-2017-77878</td>\n",
              "      <td>2017-02-05</td>\n",
              "      <td>2017-02-07</td>\n",
              "      <td>Second Class</td>\n",
              "      <td>JR-16210</td>\n",
              "      <td>Justin Ritter</td>\n",
              "      <td>Corporate</td>\n",
              "      <td>Wollongong</td>\n",
              "      <td>New South Wales</td>\n",
              "      <td>Australia</td>\n",
              "      <td>NaN</td>\n",
              "      <td>APAC</td>\n",
              "      <td>Oceania</td>\n",
              "      <td>FUR-CH-10003950</td>\n",
              "      <td>Furniture</td>\n",
              "      <td>Chairs</td>\n",
              "      <td>Novimex Executive Leather Armchair, Black</td>\n",
              "      <td>3709.395</td>\n",
              "      <td>9</td>\n",
              "      <td>0.1</td>\n",
              "      <td>-288.7650</td>\n",
              "      <td>923.63</td>\n",
              "      <td>Critical</td>\n",
              "      <td>2017-02-01</td>\n",
              "      <td>2017-01-01</td>\n",
              "    </tr>\n",
              "    <tr>\n",
              "      <th>2</th>\n",
              "      <td>25330</td>\n",
              "      <td>IN-2017-71249</td>\n",
              "      <td>2017-10-17</td>\n",
              "      <td>2017-10-18</td>\n",
              "      <td>First Class</td>\n",
              "      <td>CR-12730</td>\n",
              "      <td>Craig Reiter</td>\n",
              "      <td>Consumer</td>\n",
              "      <td>Brisbane</td>\n",
              "      <td>Queensland</td>\n",
              "      <td>Australia</td>\n",
              "      <td>NaN</td>\n",
              "      <td>APAC</td>\n",
              "      <td>Oceania</td>\n",
              "      <td>TEC-PH-10004664</td>\n",
              "      <td>Technology</td>\n",
              "      <td>Phones</td>\n",
              "      <td>Nokia Smart Phone, with Caller ID</td>\n",
              "      <td>5175.171</td>\n",
              "      <td>9</td>\n",
              "      <td>0.1</td>\n",
              "      <td>919.9710</td>\n",
              "      <td>915.49</td>\n",
              "      <td>Medium</td>\n",
              "      <td>2017-10-01</td>\n",
              "      <td>2017-01-01</td>\n",
              "    </tr>\n",
              "    <tr>\n",
              "      <th>3</th>\n",
              "      <td>13524</td>\n",
              "      <td>ES-2017-1579342</td>\n",
              "      <td>2017-01-28</td>\n",
              "      <td>2017-01-30</td>\n",
              "      <td>First Class</td>\n",
              "      <td>KM-16375</td>\n",
              "      <td>Katherine Murray</td>\n",
              "      <td>Home Office</td>\n",
              "      <td>Berlin</td>\n",
              "      <td>Berlin</td>\n",
              "      <td>Germany</td>\n",
              "      <td>NaN</td>\n",
              "      <td>EU</td>\n",
              "      <td>Central</td>\n",
              "      <td>TEC-PH-10004583</td>\n",
              "      <td>Technology</td>\n",
              "      <td>Phones</td>\n",
              "      <td>Motorola Smart Phone, Cordless</td>\n",
              "      <td>2892.510</td>\n",
              "      <td>5</td>\n",
              "      <td>0.1</td>\n",
              "      <td>-96.5400</td>\n",
              "      <td>910.16</td>\n",
              "      <td>Medium</td>\n",
              "      <td>2017-01-01</td>\n",
              "      <td>2017-01-01</td>\n",
              "    </tr>\n",
              "    <tr>\n",
              "      <th>5</th>\n",
              "      <td>22732</td>\n",
              "      <td>IN-2017-42360</td>\n",
              "      <td>2017-06-28</td>\n",
              "      <td>2017-07-01</td>\n",
              "      <td>Second Class</td>\n",
              "      <td>JM-15655</td>\n",
              "      <td>Jim Mitchum</td>\n",
              "      <td>Corporate</td>\n",
              "      <td>Sydney</td>\n",
              "      <td>New South Wales</td>\n",
              "      <td>Australia</td>\n",
              "      <td>NaN</td>\n",
              "      <td>APAC</td>\n",
              "      <td>Oceania</td>\n",
              "      <td>TEC-PH-10000030</td>\n",
              "      <td>Technology</td>\n",
              "      <td>Phones</td>\n",
              "      <td>Samsung Smart Phone, with Caller ID</td>\n",
              "      <td>2862.675</td>\n",
              "      <td>5</td>\n",
              "      <td>0.1</td>\n",
              "      <td>763.2750</td>\n",
              "      <td>897.35</td>\n",
              "      <td>Critical</td>\n",
              "      <td>2017-06-01</td>\n",
              "      <td>2017-01-01</td>\n",
              "    </tr>\n",
              "  </tbody>\n",
              "</table>\n",
              "</div>"
            ],
            "text/plain": [
              "   Row ID         Order ID  ... Order_Date_Month Order_Date_Year\n",
              "0   32298   CA-2016-124891  ...       2016-07-01      2016-01-01\n",
              "1   26341    IN-2017-77878  ...       2017-02-01      2017-01-01\n",
              "2   25330    IN-2017-71249  ...       2017-10-01      2017-01-01\n",
              "3   13524  ES-2017-1579342  ...       2017-01-01      2017-01-01\n",
              "5   22732    IN-2017-42360  ...       2017-06-01      2017-01-01\n",
              "\n",
              "[5 rows x 26 columns]"
            ]
          },
          "metadata": {
            "tags": []
          },
          "execution_count": 39
        }
      ]
    },
    {
      "cell_type": "markdown",
      "metadata": {
        "id": "GYjjBew9iXUb",
        "colab_type": "text"
      },
      "source": [
        "## Taking A Look At Products\n",
        "\n",
        "Out of curiousity, I wanted to look at product counts. It ended up being not so interesting."
      ]
    },
    {
      "cell_type": "code",
      "metadata": {
        "id": "m1vpyUP6Cwq8",
        "colab_type": "code",
        "outputId": "cb176f09-31c5-4ba3-a461-158f25ae3861",
        "colab": {
          "base_uri": "https://localhost:8080/",
          "height": 228
        }
      },
      "source": [
        "# groupby Product Name with count and sort_values\n",
        "\n",
        "retail_data.groupby('Product Name')['Row ID'].count().sort_values(ascending = False).head(10)"
      ],
      "execution_count": 0,
      "outputs": [
        {
          "output_type": "execute_result",
          "data": {
            "text/plain": [
              "Product Name\n",
              "Staples                                  227\n",
              "Cardinal Index Tab, Clear                 92\n",
              "Eldon File Cart, Single Width             90\n",
              "Rogers File Cart, Single Width            84\n",
              "Ibico Index Tab, Clear                    83\n",
              "Sanford Pencil Sharpener, Water Color     80\n",
              "Smead File Cart, Single Width             77\n",
              "Stanley Pencil Sharpener, Water Color     75\n",
              "Acco Index Tab, Clear                     75\n",
              "Avery Index Tab, Clear                    74\n",
              "Name: Row ID, dtype: int64"
            ]
          },
          "metadata": {
            "tags": []
          },
          "execution_count": 40
        }
      ]
    },
    {
      "cell_type": "markdown",
      "metadata": {
        "id": "u7k1P1TP8aDv",
        "colab_type": "text"
      },
      "source": [
        "## Profits By Category (*)\n",
        "\n",
        "Sept. 20, 2019 - I realized I could use this as information to present. "
      ]
    },
    {
      "cell_type": "code",
      "metadata": {
        "id": "7pB0lFqp8zNY",
        "colab_type": "code",
        "outputId": "8a3da2bb-9afa-48a5-fe08-e3de9cc7a2fb",
        "colab": {
          "base_uri": "https://localhost:8080/",
          "height": 568
        }
      },
      "source": [
        "# Retail data preview:\n",
        "\n",
        "retail_data.head()"
      ],
      "execution_count": 0,
      "outputs": [
        {
          "output_type": "execute_result",
          "data": {
            "text/html": [
              "<div>\n",
              "<style scoped>\n",
              "    .dataframe tbody tr th:only-of-type {\n",
              "        vertical-align: middle;\n",
              "    }\n",
              "\n",
              "    .dataframe tbody tr th {\n",
              "        vertical-align: top;\n",
              "    }\n",
              "\n",
              "    .dataframe thead th {\n",
              "        text-align: right;\n",
              "    }\n",
              "</style>\n",
              "<table border=\"1\" class=\"dataframe\">\n",
              "  <thead>\n",
              "    <tr style=\"text-align: right;\">\n",
              "      <th></th>\n",
              "      <th>Row ID</th>\n",
              "      <th>Order ID</th>\n",
              "      <th>Order Date</th>\n",
              "      <th>Ship Date</th>\n",
              "      <th>Ship Mode</th>\n",
              "      <th>Customer ID</th>\n",
              "      <th>Customer Name</th>\n",
              "      <th>Segment</th>\n",
              "      <th>City</th>\n",
              "      <th>State</th>\n",
              "      <th>Country</th>\n",
              "      <th>Postal Code</th>\n",
              "      <th>Market</th>\n",
              "      <th>Region</th>\n",
              "      <th>Product ID</th>\n",
              "      <th>Category</th>\n",
              "      <th>Sub-Category</th>\n",
              "      <th>Product Name</th>\n",
              "      <th>Sales</th>\n",
              "      <th>Quantity</th>\n",
              "      <th>Discount</th>\n",
              "      <th>Profit</th>\n",
              "      <th>Shipping Cost</th>\n",
              "      <th>Order Priority</th>\n",
              "      <th>Order_Date_Month</th>\n",
              "      <th>Order_Date_Year</th>\n",
              "    </tr>\n",
              "  </thead>\n",
              "  <tbody>\n",
              "    <tr>\n",
              "      <th>0</th>\n",
              "      <td>32298</td>\n",
              "      <td>CA-2016-124891</td>\n",
              "      <td>2016-07-31</td>\n",
              "      <td>2016-07-31</td>\n",
              "      <td>Same Day</td>\n",
              "      <td>RH-19495</td>\n",
              "      <td>Rick Hansen</td>\n",
              "      <td>Consumer</td>\n",
              "      <td>New York City</td>\n",
              "      <td>New York</td>\n",
              "      <td>United States</td>\n",
              "      <td>10024.0</td>\n",
              "      <td>US</td>\n",
              "      <td>East</td>\n",
              "      <td>TEC-AC-10003033</td>\n",
              "      <td>Technology</td>\n",
              "      <td>Accessories</td>\n",
              "      <td>Plantronics CS510 - Over-the-Head monaural Wir...</td>\n",
              "      <td>2309.650</td>\n",
              "      <td>7</td>\n",
              "      <td>0.0</td>\n",
              "      <td>762.1845</td>\n",
              "      <td>933.57</td>\n",
              "      <td>Critical</td>\n",
              "      <td>2016-07-01</td>\n",
              "      <td>2016-01-01</td>\n",
              "    </tr>\n",
              "    <tr>\n",
              "      <th>1</th>\n",
              "      <td>26341</td>\n",
              "      <td>IN-2017-77878</td>\n",
              "      <td>2017-02-05</td>\n",
              "      <td>2017-02-07</td>\n",
              "      <td>Second Class</td>\n",
              "      <td>JR-16210</td>\n",
              "      <td>Justin Ritter</td>\n",
              "      <td>Corporate</td>\n",
              "      <td>Wollongong</td>\n",
              "      <td>New South Wales</td>\n",
              "      <td>Australia</td>\n",
              "      <td>NaN</td>\n",
              "      <td>APAC</td>\n",
              "      <td>Oceania</td>\n",
              "      <td>FUR-CH-10003950</td>\n",
              "      <td>Furniture</td>\n",
              "      <td>Chairs</td>\n",
              "      <td>Novimex Executive Leather Armchair, Black</td>\n",
              "      <td>3709.395</td>\n",
              "      <td>9</td>\n",
              "      <td>0.1</td>\n",
              "      <td>-288.7650</td>\n",
              "      <td>923.63</td>\n",
              "      <td>Critical</td>\n",
              "      <td>2017-02-01</td>\n",
              "      <td>2017-01-01</td>\n",
              "    </tr>\n",
              "    <tr>\n",
              "      <th>2</th>\n",
              "      <td>25330</td>\n",
              "      <td>IN-2017-71249</td>\n",
              "      <td>2017-10-17</td>\n",
              "      <td>2017-10-18</td>\n",
              "      <td>First Class</td>\n",
              "      <td>CR-12730</td>\n",
              "      <td>Craig Reiter</td>\n",
              "      <td>Consumer</td>\n",
              "      <td>Brisbane</td>\n",
              "      <td>Queensland</td>\n",
              "      <td>Australia</td>\n",
              "      <td>NaN</td>\n",
              "      <td>APAC</td>\n",
              "      <td>Oceania</td>\n",
              "      <td>TEC-PH-10004664</td>\n",
              "      <td>Technology</td>\n",
              "      <td>Phones</td>\n",
              "      <td>Nokia Smart Phone, with Caller ID</td>\n",
              "      <td>5175.171</td>\n",
              "      <td>9</td>\n",
              "      <td>0.1</td>\n",
              "      <td>919.9710</td>\n",
              "      <td>915.49</td>\n",
              "      <td>Medium</td>\n",
              "      <td>2017-10-01</td>\n",
              "      <td>2017-01-01</td>\n",
              "    </tr>\n",
              "    <tr>\n",
              "      <th>3</th>\n",
              "      <td>13524</td>\n",
              "      <td>ES-2017-1579342</td>\n",
              "      <td>2017-01-28</td>\n",
              "      <td>2017-01-30</td>\n",
              "      <td>First Class</td>\n",
              "      <td>KM-16375</td>\n",
              "      <td>Katherine Murray</td>\n",
              "      <td>Home Office</td>\n",
              "      <td>Berlin</td>\n",
              "      <td>Berlin</td>\n",
              "      <td>Germany</td>\n",
              "      <td>NaN</td>\n",
              "      <td>EU</td>\n",
              "      <td>Central</td>\n",
              "      <td>TEC-PH-10004583</td>\n",
              "      <td>Technology</td>\n",
              "      <td>Phones</td>\n",
              "      <td>Motorola Smart Phone, Cordless</td>\n",
              "      <td>2892.510</td>\n",
              "      <td>5</td>\n",
              "      <td>0.1</td>\n",
              "      <td>-96.5400</td>\n",
              "      <td>910.16</td>\n",
              "      <td>Medium</td>\n",
              "      <td>2017-01-01</td>\n",
              "      <td>2017-01-01</td>\n",
              "    </tr>\n",
              "    <tr>\n",
              "      <th>4</th>\n",
              "      <td>47221</td>\n",
              "      <td>SG-2017-4320</td>\n",
              "      <td>2017-11-05</td>\n",
              "      <td>2017-11-06</td>\n",
              "      <td>Same Day</td>\n",
              "      <td>RH-9495</td>\n",
              "      <td>Rick Hansen</td>\n",
              "      <td>Consumer</td>\n",
              "      <td>Dakar</td>\n",
              "      <td>Dakar</td>\n",
              "      <td>Senegal</td>\n",
              "      <td>NaN</td>\n",
              "      <td>Africa</td>\n",
              "      <td>Africa</td>\n",
              "      <td>TEC-SHA-10000501</td>\n",
              "      <td>Technology</td>\n",
              "      <td>Copiers</td>\n",
              "      <td>Sharp Wireless Fax, High-Speed</td>\n",
              "      <td>2832.960</td>\n",
              "      <td>8</td>\n",
              "      <td>0.0</td>\n",
              "      <td>311.5200</td>\n",
              "      <td>903.04</td>\n",
              "      <td>Critical</td>\n",
              "      <td>2017-11-01</td>\n",
              "      <td>2017-01-01</td>\n",
              "    </tr>\n",
              "  </tbody>\n",
              "</table>\n",
              "</div>"
            ],
            "text/plain": [
              "   Row ID         Order ID  ... Order_Date_Month Order_Date_Year\n",
              "0   32298   CA-2016-124891  ...       2016-07-01      2016-01-01\n",
              "1   26341    IN-2017-77878  ...       2017-02-01      2017-01-01\n",
              "2   25330    IN-2017-71249  ...       2017-10-01      2017-01-01\n",
              "3   13524  ES-2017-1579342  ...       2017-01-01      2017-01-01\n",
              "4   47221     SG-2017-4320  ...       2017-11-01      2017-01-01\n",
              "\n",
              "[5 rows x 26 columns]"
            ]
          },
          "metadata": {
            "tags": []
          },
          "execution_count": 41
        }
      ]
    },
    {
      "cell_type": "code",
      "metadata": {
        "id": "NIKRJX2O85iZ",
        "colab_type": "code",
        "outputId": "d4f521b1-7c79-4ad8-d535-683d701c9f4d",
        "colab": {
          "base_uri": "https://localhost:8080/",
          "height": 105
        }
      },
      "source": [
        "# Group By Category and Compute total profits:\n",
        "\n",
        "groupby_catg_totalprofits = retail_data.groupby(['Category'])['Profit'].sum()\n",
        "\n",
        "groupby_catg_totalprofits"
      ],
      "execution_count": 0,
      "outputs": [
        {
          "output_type": "execute_result",
          "data": {
            "text/plain": [
              "Category\n",
              "Furniture          285204.72380\n",
              "Office Supplies    518473.83430\n",
              "Technology         663778.73318\n",
              "Name: Profit, dtype: float64"
            ]
          },
          "metadata": {
            "tags": []
          },
          "execution_count": 42
        }
      ]
    },
    {
      "cell_type": "code",
      "metadata": {
        "id": "Ln0XfIlyGWYR",
        "colab_type": "code",
        "outputId": "44034bfe-01a7-4bff-fb98-9cc2ca8138b2",
        "colab": {
          "base_uri": "https://localhost:8080/",
          "height": 34
        }
      },
      "source": [
        "total_profits = retail_data['Profit'].sum()\n",
        "\n",
        "total_profits"
      ],
      "execution_count": 0,
      "outputs": [
        {
          "output_type": "execute_result",
          "data": {
            "text/plain": [
              "1467457.29128"
            ]
          },
          "metadata": {
            "tags": []
          },
          "execution_count": 43
        }
      ]
    },
    {
      "cell_type": "code",
      "metadata": {
        "id": "Om9yMgfvGb_5",
        "colab_type": "code",
        "outputId": "1cb65678-d37f-494f-9305-b9560966f9e2",
        "colab": {
          "base_uri": "https://localhost:8080/",
          "height": 34
        }
      },
      "source": [
        "# Should match the above.\n",
        "\n",
        "groupby_catg_totalprofits.sum()"
      ],
      "execution_count": 0,
      "outputs": [
        {
          "output_type": "execute_result",
          "data": {
            "text/plain": [
              "1467457.291280001"
            ]
          },
          "metadata": {
            "tags": []
          },
          "execution_count": 44
        }
      ]
    },
    {
      "cell_type": "markdown",
      "metadata": {
        "id": "vlEYHL2c90xO",
        "colab_type": "text"
      },
      "source": [
        "### Pie Chart"
      ]
    },
    {
      "cell_type": "code",
      "metadata": {
        "id": "Lsjbr3uw9Mfq",
        "colab_type": "code",
        "outputId": "fed1c9d9-9dfa-4000-ef4a-03df8d2ecfaf",
        "colab": {
          "base_uri": "https://localhost:8080/",
          "height": 297
        }
      },
      "source": [
        "# Pie Chart Of Profits By Category\n",
        "\n",
        "# Run a pie chart for Categories:\n",
        "# Reference: https://www.youtube.com/watch?v=MPiz50TsyF0\n",
        "# Reference: https://stackoverflow.com/questions/6170246/how-do-i-use-matplotlib-autopct\n",
        "\n",
        "pie_labels = ['Office Supplies', 'Technology', 'Furniture']\n",
        "\n",
        "def make_autopct(values):\n",
        "    def my_autopct(pct):\n",
        "        total = sum(values)\n",
        "        val=int((pct*total/100.0) + 0.5)\n",
        "        return '{p:.0f}% (${v:d})'.format(p=pct,v=val)\n",
        "    return my_autopct\n",
        "\n",
        "plt.pie(groupby_catg_totalprofits, labels = pie_labels, \n",
        "        autopct = make_autopct(groupby_catg_totalprofits),\n",
        "        startangle = 58,\n",
        "        colors = ['#D8D028', '#85AD4E', '#D18C14'],\n",
        "        )\n",
        "\n",
        "plt.title('Total Profits By Category (2015-2018)\\n', size = 14)\n",
        "\n",
        "plt.tight_layout()\n",
        "plt.show()"
      ],
      "execution_count": 0,
      "outputs": [
        {
          "output_type": "display_data",
          "data": {
            "image/png": "[encoded data removed]",
            "text/plain": [
              "<Figure size 432x288 with 1 Axes>"
            ]
          },
          "metadata": {
            "tags": []
          }
        }
      ]
    },
    {
      "cell_type": "markdown",
      "metadata": {
        "id": "8k84EmthQs2T",
        "colab_type": "text"
      },
      "source": [
        "### Line Plots With All Three Categories (*)"
      ]
    },
    {
      "cell_type": "markdown",
      "metadata": {
        "id": "_Yp19j_-Vrgi",
        "colab_type": "text"
      },
      "source": [
        "**Office Supplies**"
      ]
    },
    {
      "cell_type": "code",
      "metadata": {
        "id": "zEigRxT7TlDA",
        "colab_type": "code",
        "outputId": "76bcc8d7-b5ae-46be-e1df-6deb249edec6",
        "colab": {
          "base_uri": "https://localhost:8080/",
          "height": 385
        }
      },
      "source": [
        "# Retail data with office supplies only:\n",
        "\n",
        "retail_data_office = retail_data[retail_data['Category'] == 'Office Supplies']\n",
        "\n",
        "retail_data_office.head(3)\n"
      ],
      "execution_count": 0,
      "outputs": [
        {
          "output_type": "execute_result",
          "data": {
            "text/html": [
              "<div>\n",
              "<style scoped>\n",
              "    .dataframe tbody tr th:only-of-type {\n",
              "        vertical-align: middle;\n",
              "    }\n",
              "\n",
              "    .dataframe tbody tr th {\n",
              "        vertical-align: top;\n",
              "    }\n",
              "\n",
              "    .dataframe thead th {\n",
              "        text-align: right;\n",
              "    }\n",
              "</style>\n",
              "<table border=\"1\" class=\"dataframe\">\n",
              "  <thead>\n",
              "    <tr style=\"text-align: right;\">\n",
              "      <th></th>\n",
              "      <th>Row ID</th>\n",
              "      <th>Order ID</th>\n",
              "      <th>Order Date</th>\n",
              "      <th>Ship Date</th>\n",
              "      <th>Ship Mode</th>\n",
              "      <th>Customer ID</th>\n",
              "      <th>Customer Name</th>\n",
              "      <th>Segment</th>\n",
              "      <th>City</th>\n",
              "      <th>State</th>\n",
              "      <th>Country</th>\n",
              "      <th>Postal Code</th>\n",
              "      <th>Market</th>\n",
              "      <th>Region</th>\n",
              "      <th>Product ID</th>\n",
              "      <th>Category</th>\n",
              "      <th>Sub-Category</th>\n",
              "      <th>Product Name</th>\n",
              "      <th>Sales</th>\n",
              "      <th>Quantity</th>\n",
              "      <th>Discount</th>\n",
              "      <th>Profit</th>\n",
              "      <th>Shipping Cost</th>\n",
              "      <th>Order Priority</th>\n",
              "      <th>Order_Date_Month</th>\n",
              "      <th>Order_Date_Year</th>\n",
              "    </tr>\n",
              "  </thead>\n",
              "  <tbody>\n",
              "    <tr>\n",
              "      <th>8</th>\n",
              "      <td>40155</td>\n",
              "      <td>CA-2018-135909</td>\n",
              "      <td>2018-10-14</td>\n",
              "      <td>2018-10-21</td>\n",
              "      <td>Standard Class</td>\n",
              "      <td>JW-15220</td>\n",
              "      <td>Jane Waco</td>\n",
              "      <td>Corporate</td>\n",
              "      <td>Sacramento</td>\n",
              "      <td>California</td>\n",
              "      <td>United States</td>\n",
              "      <td>95823.0</td>\n",
              "      <td>US</td>\n",
              "      <td>West</td>\n",
              "      <td>OFF-BI-10003527</td>\n",
              "      <td>Office Supplies</td>\n",
              "      <td>Binders</td>\n",
              "      <td>Fellowes PB500 Electric Punch Plastic Comb Bin...</td>\n",
              "      <td>5083.96</td>\n",
              "      <td>5</td>\n",
              "      <td>0.2</td>\n",
              "      <td>1906.485</td>\n",
              "      <td>867.69</td>\n",
              "      <td>Low</td>\n",
              "      <td>2018-10-01</td>\n",
              "      <td>2018-01-01</td>\n",
              "    </tr>\n",
              "    <tr>\n",
              "      <th>10</th>\n",
              "      <td>34577</td>\n",
              "      <td>CA-2015-102988</td>\n",
              "      <td>2015-04-05</td>\n",
              "      <td>2015-04-09</td>\n",
              "      <td>Second Class</td>\n",
              "      <td>GM-14695</td>\n",
              "      <td>Greg Maxwell</td>\n",
              "      <td>Corporate</td>\n",
              "      <td>Alexandria</td>\n",
              "      <td>Virginia</td>\n",
              "      <td>United States</td>\n",
              "      <td>22304.0</td>\n",
              "      <td>US</td>\n",
              "      <td>South</td>\n",
              "      <td>OFF-SU-10002881</td>\n",
              "      <td>Office Supplies</td>\n",
              "      <td>Supplies</td>\n",
              "      <td>Martin Yale Chadless Opener Electric Letter Op...</td>\n",
              "      <td>4164.05</td>\n",
              "      <td>5</td>\n",
              "      <td>0.0</td>\n",
              "      <td>83.281</td>\n",
              "      <td>846.54</td>\n",
              "      <td>High</td>\n",
              "      <td>2015-04-01</td>\n",
              "      <td>2015-01-01</td>\n",
              "    </tr>\n",
              "    <tr>\n",
              "      <th>14</th>\n",
              "      <td>27704</td>\n",
              "      <td>IN-2017-73951</td>\n",
              "      <td>2017-06-06</td>\n",
              "      <td>2017-06-08</td>\n",
              "      <td>Second Class</td>\n",
              "      <td>PF-19120</td>\n",
              "      <td>Peter Fuller</td>\n",
              "      <td>Consumer</td>\n",
              "      <td>Mudanjiang</td>\n",
              "      <td>Heilongjiang</td>\n",
              "      <td>China</td>\n",
              "      <td>NaN</td>\n",
              "      <td>APAC</td>\n",
              "      <td>North Asia</td>\n",
              "      <td>OFF-AP-10003500</td>\n",
              "      <td>Office Supplies</td>\n",
              "      <td>Appliances</td>\n",
              "      <td>KitchenAid Microwave, White</td>\n",
              "      <td>3701.52</td>\n",
              "      <td>12</td>\n",
              "      <td>0.0</td>\n",
              "      <td>1036.080</td>\n",
              "      <td>804.54</td>\n",
              "      <td>Critical</td>\n",
              "      <td>2017-06-01</td>\n",
              "      <td>2017-01-01</td>\n",
              "    </tr>\n",
              "  </tbody>\n",
              "</table>\n",
              "</div>"
            ],
            "text/plain": [
              "    Row ID        Order ID  ... Order_Date_Month Order_Date_Year\n",
              "8    40155  CA-2018-135909  ...       2018-10-01      2018-01-01\n",
              "10   34577  CA-2015-102988  ...       2015-04-01      2015-01-01\n",
              "14   27704   IN-2017-73951  ...       2017-06-01      2017-01-01\n",
              "\n",
              "[3 rows x 26 columns]"
            ]
          },
          "metadata": {
            "tags": []
          },
          "execution_count": 46
        }
      ]
    },
    {
      "cell_type": "code",
      "metadata": {
        "id": "q228yadDV4OJ",
        "colab_type": "code",
        "outputId": "1388e96a-2678-4c88-fa6c-b5b25cf15e82",
        "colab": {
          "base_uri": "https://localhost:8080/",
          "height": 140
        }
      },
      "source": [
        "# From retail data with office supplies only, group by month and find \n",
        "# total profits for each month.\n",
        "\n",
        "office_supp_mth_profits = retail_data_office.groupby(['Order_Date_Month'])['Profit'].sum()\n",
        "\n",
        "office_supp_mth_profits.head()"
      ],
      "execution_count": 0,
      "outputs": [
        {
          "output_type": "execute_result",
          "data": {
            "text/plain": [
              "Order_Date_Month\n",
              "2015-01-01    4573.7381\n",
              "2015-02-01    2336.1860\n",
              "2015-03-01    6411.4282\n",
              "2015-04-01    5678.5985\n",
              "2015-05-01    5082.5060\n",
              "Name: Profit, dtype: float64"
            ]
          },
          "metadata": {
            "tags": []
          },
          "execution_count": 47
        }
      ]
    },
    {
      "cell_type": "markdown",
      "metadata": {
        "id": "CpzEH_bPV-dG",
        "colab_type": "text"
      },
      "source": [
        "**Furniture**"
      ]
    },
    {
      "cell_type": "code",
      "metadata": {
        "id": "E9iVin07V0th",
        "colab_type": "code",
        "outputId": "a7a67080-e760-4d75-ff7d-17ffc8894b16",
        "colab": {
          "base_uri": "https://localhost:8080/",
          "height": 550
        }
      },
      "source": [
        "# Retail data with furniture only:\n",
        "\n",
        "retail_data_furn = retail_data[retail_data['Category'] == 'Furniture']\n",
        "\n",
        "retail_data_furn.head()"
      ],
      "execution_count": 0,
      "outputs": [
        {
          "output_type": "execute_result",
          "data": {
            "text/html": [
              "<div>\n",
              "<style scoped>\n",
              "    .dataframe tbody tr th:only-of-type {\n",
              "        vertical-align: middle;\n",
              "    }\n",
              "\n",
              "    .dataframe tbody tr th {\n",
              "        vertical-align: top;\n",
              "    }\n",
              "\n",
              "    .dataframe thead th {\n",
              "        text-align: right;\n",
              "    }\n",
              "</style>\n",
              "<table border=\"1\" class=\"dataframe\">\n",
              "  <thead>\n",
              "    <tr style=\"text-align: right;\">\n",
              "      <th></th>\n",
              "      <th>Row ID</th>\n",
              "      <th>Order ID</th>\n",
              "      <th>Order Date</th>\n",
              "      <th>Ship Date</th>\n",
              "      <th>Ship Mode</th>\n",
              "      <th>Customer ID</th>\n",
              "      <th>Customer Name</th>\n",
              "      <th>Segment</th>\n",
              "      <th>City</th>\n",
              "      <th>State</th>\n",
              "      <th>Country</th>\n",
              "      <th>Postal Code</th>\n",
              "      <th>Market</th>\n",
              "      <th>Region</th>\n",
              "      <th>Product ID</th>\n",
              "      <th>Category</th>\n",
              "      <th>Sub-Category</th>\n",
              "      <th>Product Name</th>\n",
              "      <th>Sales</th>\n",
              "      <th>Quantity</th>\n",
              "      <th>Discount</th>\n",
              "      <th>Profit</th>\n",
              "      <th>Shipping Cost</th>\n",
              "      <th>Order Priority</th>\n",
              "      <th>Order_Date_Month</th>\n",
              "      <th>Order_Date_Year</th>\n",
              "    </tr>\n",
              "  </thead>\n",
              "  <tbody>\n",
              "    <tr>\n",
              "      <th>1</th>\n",
              "      <td>26341</td>\n",
              "      <td>IN-2017-77878</td>\n",
              "      <td>2017-02-05</td>\n",
              "      <td>2017-02-07</td>\n",
              "      <td>Second Class</td>\n",
              "      <td>JR-16210</td>\n",
              "      <td>Justin Ritter</td>\n",
              "      <td>Corporate</td>\n",
              "      <td>Wollongong</td>\n",
              "      <td>New South Wales</td>\n",
              "      <td>Australia</td>\n",
              "      <td>NaN</td>\n",
              "      <td>APAC</td>\n",
              "      <td>Oceania</td>\n",
              "      <td>FUR-CH-10003950</td>\n",
              "      <td>Furniture</td>\n",
              "      <td>Chairs</td>\n",
              "      <td>Novimex Executive Leather Armchair, Black</td>\n",
              "      <td>3709.395</td>\n",
              "      <td>9</td>\n",
              "      <td>0.1</td>\n",
              "      <td>-288.7650</td>\n",
              "      <td>923.63</td>\n",
              "      <td>Critical</td>\n",
              "      <td>2017-02-01</td>\n",
              "      <td>2017-01-01</td>\n",
              "    </tr>\n",
              "    <tr>\n",
              "      <th>6</th>\n",
              "      <td>30570</td>\n",
              "      <td>IN-2015-81826</td>\n",
              "      <td>2015-11-07</td>\n",
              "      <td>2015-11-09</td>\n",
              "      <td>First Class</td>\n",
              "      <td>TS-21340</td>\n",
              "      <td>Toby Swindell</td>\n",
              "      <td>Consumer</td>\n",
              "      <td>Porirua</td>\n",
              "      <td>Wellington</td>\n",
              "      <td>New Zealand</td>\n",
              "      <td>NaN</td>\n",
              "      <td>APAC</td>\n",
              "      <td>Oceania</td>\n",
              "      <td>FUR-CH-10004050</td>\n",
              "      <td>Furniture</td>\n",
              "      <td>Chairs</td>\n",
              "      <td>Novimex Executive Leather Armchair, Adjustable</td>\n",
              "      <td>1822.080</td>\n",
              "      <td>4</td>\n",
              "      <td>0.0</td>\n",
              "      <td>564.8400</td>\n",
              "      <td>894.77</td>\n",
              "      <td>Critical</td>\n",
              "      <td>2015-11-01</td>\n",
              "      <td>2015-01-01</td>\n",
              "    </tr>\n",
              "    <tr>\n",
              "      <th>7</th>\n",
              "      <td>31192</td>\n",
              "      <td>IN-2016-86369</td>\n",
              "      <td>2016-04-14</td>\n",
              "      <td>2016-04-18</td>\n",
              "      <td>Standard Class</td>\n",
              "      <td>MB-18085</td>\n",
              "      <td>Mick Brown</td>\n",
              "      <td>Consumer</td>\n",
              "      <td>Hamilton</td>\n",
              "      <td>Waikato</td>\n",
              "      <td>New Zealand</td>\n",
              "      <td>NaN</td>\n",
              "      <td>APAC</td>\n",
              "      <td>Oceania</td>\n",
              "      <td>FUR-TA-10002958</td>\n",
              "      <td>Furniture</td>\n",
              "      <td>Tables</td>\n",
              "      <td>Chromcraft Conference Table, Fully Assembled</td>\n",
              "      <td>5244.840</td>\n",
              "      <td>6</td>\n",
              "      <td>0.0</td>\n",
              "      <td>996.4800</td>\n",
              "      <td>878.38</td>\n",
              "      <td>High</td>\n",
              "      <td>2016-04-01</td>\n",
              "      <td>2016-01-01</td>\n",
              "    </tr>\n",
              "    <tr>\n",
              "      <th>9</th>\n",
              "      <td>40936</td>\n",
              "      <td>CA-2016-116638</td>\n",
              "      <td>2016-01-28</td>\n",
              "      <td>2016-01-31</td>\n",
              "      <td>Second Class</td>\n",
              "      <td>JH-15985</td>\n",
              "      <td>Joseph Holt</td>\n",
              "      <td>Consumer</td>\n",
              "      <td>Concord</td>\n",
              "      <td>North Carolina</td>\n",
              "      <td>United States</td>\n",
              "      <td>28027.0</td>\n",
              "      <td>US</td>\n",
              "      <td>South</td>\n",
              "      <td>FUR-TA-10000198</td>\n",
              "      <td>Furniture</td>\n",
              "      <td>Tables</td>\n",
              "      <td>Chromcraft Bull-Nose Wood Oval Conference Tabl...</td>\n",
              "      <td>4297.644</td>\n",
              "      <td>13</td>\n",
              "      <td>0.4</td>\n",
              "      <td>-1862.3124</td>\n",
              "      <td>865.74</td>\n",
              "      <td>Critical</td>\n",
              "      <td>2016-01-01</td>\n",
              "      <td>2016-01-01</td>\n",
              "    </tr>\n",
              "    <tr>\n",
              "      <th>11</th>\n",
              "      <td>28879</td>\n",
              "      <td>ID-2016-28402</td>\n",
              "      <td>2016-04-19</td>\n",
              "      <td>2016-04-22</td>\n",
              "      <td>First Class</td>\n",
              "      <td>AJ-10780</td>\n",
              "      <td>Anthony Jacobs</td>\n",
              "      <td>Corporate</td>\n",
              "      <td>Kabul</td>\n",
              "      <td>Kabul</td>\n",
              "      <td>Afghanistan</td>\n",
              "      <td>NaN</td>\n",
              "      <td>APAC</td>\n",
              "      <td>Central Asia</td>\n",
              "      <td>FUR-TA-10001889</td>\n",
              "      <td>Furniture</td>\n",
              "      <td>Tables</td>\n",
              "      <td>Bevis Conference Table, Fully Assembled</td>\n",
              "      <td>4626.150</td>\n",
              "      <td>5</td>\n",
              "      <td>0.0</td>\n",
              "      <td>647.5500</td>\n",
              "      <td>835.57</td>\n",
              "      <td>High</td>\n",
              "      <td>2016-04-01</td>\n",
              "      <td>2016-01-01</td>\n",
              "    </tr>\n",
              "  </tbody>\n",
              "</table>\n",
              "</div>"
            ],
            "text/plain": [
              "    Row ID        Order ID  ... Order_Date_Month Order_Date_Year\n",
              "1    26341   IN-2017-77878  ...       2017-02-01      2017-01-01\n",
              "6    30570   IN-2015-81826  ...       2015-11-01      2015-01-01\n",
              "7    31192   IN-2016-86369  ...       2016-04-01      2016-01-01\n",
              "9    40936  CA-2016-116638  ...       2016-01-01      2016-01-01\n",
              "11   28879   ID-2016-28402  ...       2016-04-01      2016-01-01\n",
              "\n",
              "[5 rows x 26 columns]"
            ]
          },
          "metadata": {
            "tags": []
          },
          "execution_count": 48
        }
      ]
    },
    {
      "cell_type": "code",
      "metadata": {
        "id": "XYBS2ZZCTv2I",
        "colab_type": "code",
        "outputId": "e8357e4a-67b9-4365-ce34-e4e7d996e8e6",
        "colab": {
          "base_uri": "https://localhost:8080/",
          "height": 140
        }
      },
      "source": [
        "# From retail data with furniture only, group by month and find \n",
        "# total profits for each month.\n",
        "\n",
        "furn_mth_profits = retail_data_furn.groupby(['Order_Date_Month'])['Profit'].sum()\n",
        "\n",
        "furn_mth_profits.head()"
      ],
      "execution_count": 0,
      "outputs": [
        {
          "output_type": "execute_result",
          "data": {
            "text/plain": [
              "Order_Date_Month\n",
              "2015-01-01     691.2009\n",
              "2015-02-01    2878.6208\n",
              "2015-03-01    4888.2878\n",
              "2015-04-01    2085.5382\n",
              "2015-05-01     546.0237\n",
              "Name: Profit, dtype: float64"
            ]
          },
          "metadata": {
            "tags": []
          },
          "execution_count": 49
        }
      ]
    },
    {
      "cell_type": "markdown",
      "metadata": {
        "id": "oq1FNtc7WGJA",
        "colab_type": "text"
      },
      "source": [
        "**Technology**"
      ]
    },
    {
      "cell_type": "code",
      "metadata": {
        "id": "lh6WNwjeWKXg",
        "colab_type": "code",
        "outputId": "f9dc4e8f-2d85-4322-be86-a688fdadc9cf",
        "colab": {
          "base_uri": "https://localhost:8080/",
          "height": 385
        }
      },
      "source": [
        "# Retail data with technology:\n",
        "\n",
        "retail_data_tech = retail_data[retail_data['Category'] == 'Technology']\n",
        "\n",
        "retail_data_tech.head(3)"
      ],
      "execution_count": 0,
      "outputs": [
        {
          "output_type": "execute_result",
          "data": {
            "text/html": [
              "<div>\n",
              "<style scoped>\n",
              "    .dataframe tbody tr th:only-of-type {\n",
              "        vertical-align: middle;\n",
              "    }\n",
              "\n",
              "    .dataframe tbody tr th {\n",
              "        vertical-align: top;\n",
              "    }\n",
              "\n",
              "    .dataframe thead th {\n",
              "        text-align: right;\n",
              "    }\n",
              "</style>\n",
              "<table border=\"1\" class=\"dataframe\">\n",
              "  <thead>\n",
              "    <tr style=\"text-align: right;\">\n",
              "      <th></th>\n",
              "      <th>Row ID</th>\n",
              "      <th>Order ID</th>\n",
              "      <th>Order Date</th>\n",
              "      <th>Ship Date</th>\n",
              "      <th>Ship Mode</th>\n",
              "      <th>Customer ID</th>\n",
              "      <th>Customer Name</th>\n",
              "      <th>Segment</th>\n",
              "      <th>City</th>\n",
              "      <th>State</th>\n",
              "      <th>Country</th>\n",
              "      <th>Postal Code</th>\n",
              "      <th>Market</th>\n",
              "      <th>Region</th>\n",
              "      <th>Product ID</th>\n",
              "      <th>Category</th>\n",
              "      <th>Sub-Category</th>\n",
              "      <th>Product Name</th>\n",
              "      <th>Sales</th>\n",
              "      <th>Quantity</th>\n",
              "      <th>Discount</th>\n",
              "      <th>Profit</th>\n",
              "      <th>Shipping Cost</th>\n",
              "      <th>Order Priority</th>\n",
              "      <th>Order_Date_Month</th>\n",
              "      <th>Order_Date_Year</th>\n",
              "    </tr>\n",
              "  </thead>\n",
              "  <tbody>\n",
              "    <tr>\n",
              "      <th>0</th>\n",
              "      <td>32298</td>\n",
              "      <td>CA-2016-124891</td>\n",
              "      <td>2016-07-31</td>\n",
              "      <td>2016-07-31</td>\n",
              "      <td>Same Day</td>\n",
              "      <td>RH-19495</td>\n",
              "      <td>Rick Hansen</td>\n",
              "      <td>Consumer</td>\n",
              "      <td>New York City</td>\n",
              "      <td>New York</td>\n",
              "      <td>United States</td>\n",
              "      <td>10024.0</td>\n",
              "      <td>US</td>\n",
              "      <td>East</td>\n",
              "      <td>TEC-AC-10003033</td>\n",
              "      <td>Technology</td>\n",
              "      <td>Accessories</td>\n",
              "      <td>Plantronics CS510 - Over-the-Head monaural Wir...</td>\n",
              "      <td>2309.650</td>\n",
              "      <td>7</td>\n",
              "      <td>0.0</td>\n",
              "      <td>762.1845</td>\n",
              "      <td>933.57</td>\n",
              "      <td>Critical</td>\n",
              "      <td>2016-07-01</td>\n",
              "      <td>2016-01-01</td>\n",
              "    </tr>\n",
              "    <tr>\n",
              "      <th>2</th>\n",
              "      <td>25330</td>\n",
              "      <td>IN-2017-71249</td>\n",
              "      <td>2017-10-17</td>\n",
              "      <td>2017-10-18</td>\n",
              "      <td>First Class</td>\n",
              "      <td>CR-12730</td>\n",
              "      <td>Craig Reiter</td>\n",
              "      <td>Consumer</td>\n",
              "      <td>Brisbane</td>\n",
              "      <td>Queensland</td>\n",
              "      <td>Australia</td>\n",
              "      <td>NaN</td>\n",
              "      <td>APAC</td>\n",
              "      <td>Oceania</td>\n",
              "      <td>TEC-PH-10004664</td>\n",
              "      <td>Technology</td>\n",
              "      <td>Phones</td>\n",
              "      <td>Nokia Smart Phone, with Caller ID</td>\n",
              "      <td>5175.171</td>\n",
              "      <td>9</td>\n",
              "      <td>0.1</td>\n",
              "      <td>919.9710</td>\n",
              "      <td>915.49</td>\n",
              "      <td>Medium</td>\n",
              "      <td>2017-10-01</td>\n",
              "      <td>2017-01-01</td>\n",
              "    </tr>\n",
              "    <tr>\n",
              "      <th>3</th>\n",
              "      <td>13524</td>\n",
              "      <td>ES-2017-1579342</td>\n",
              "      <td>2017-01-28</td>\n",
              "      <td>2017-01-30</td>\n",
              "      <td>First Class</td>\n",
              "      <td>KM-16375</td>\n",
              "      <td>Katherine Murray</td>\n",
              "      <td>Home Office</td>\n",
              "      <td>Berlin</td>\n",
              "      <td>Berlin</td>\n",
              "      <td>Germany</td>\n",
              "      <td>NaN</td>\n",
              "      <td>EU</td>\n",
              "      <td>Central</td>\n",
              "      <td>TEC-PH-10004583</td>\n",
              "      <td>Technology</td>\n",
              "      <td>Phones</td>\n",
              "      <td>Motorola Smart Phone, Cordless</td>\n",
              "      <td>2892.510</td>\n",
              "      <td>5</td>\n",
              "      <td>0.1</td>\n",
              "      <td>-96.5400</td>\n",
              "      <td>910.16</td>\n",
              "      <td>Medium</td>\n",
              "      <td>2017-01-01</td>\n",
              "      <td>2017-01-01</td>\n",
              "    </tr>\n",
              "  </tbody>\n",
              "</table>\n",
              "</div>"
            ],
            "text/plain": [
              "   Row ID         Order ID  ... Order_Date_Month Order_Date_Year\n",
              "0   32298   CA-2016-124891  ...       2016-07-01      2016-01-01\n",
              "2   25330    IN-2017-71249  ...       2017-10-01      2017-01-01\n",
              "3   13524  ES-2017-1579342  ...       2017-01-01      2017-01-01\n",
              "\n",
              "[3 rows x 26 columns]"
            ]
          },
          "metadata": {
            "tags": []
          },
          "execution_count": 50
        }
      ]
    },
    {
      "cell_type": "code",
      "metadata": {
        "id": "wRWV7GXGWMPa",
        "colab_type": "code",
        "outputId": "db655c3f-5bac-4fb0-b04d-da4af72d9ad5",
        "colab": {
          "base_uri": "https://localhost:8080/",
          "height": 140
        }
      },
      "source": [
        "# From retail data with technology only, group by month and find \n",
        "# total profits for each month.\n",
        "\n",
        "tech_mth_profits = retail_data_tech.groupby(['Order_Date_Month'])['Profit'].sum()\n",
        "\n",
        "tech_mth_profits.head()"
      ],
      "execution_count": 0,
      "outputs": [
        {
          "output_type": "execute_result",
          "data": {
            "text/plain": [
              "Order_Date_Month\n",
              "2015-01-01    3056.86196\n",
              "2015-02-01    7203.10018\n",
              "2015-03-01    4003.85226\n",
              "2015-04-01    5138.18768\n",
              "2015-05-01    6555.29900\n",
              "Name: Profit, dtype: float64"
            ]
          },
          "metadata": {
            "tags": []
          },
          "execution_count": 51
        }
      ]
    },
    {
      "cell_type": "markdown",
      "metadata": {
        "id": "Jx-5IYGCWOeT",
        "colab_type": "text"
      },
      "source": [
        "**Plotting All Three Categories Together**"
      ]
    },
    {
      "cell_type": "code",
      "metadata": {
        "id": "_JqZUgBBWfEk",
        "colab_type": "code",
        "outputId": "c5f6066a-e7d9-44ad-86bd-c8c5723c92b9",
        "colab": {
          "base_uri": "https://localhost:8080/",
          "height": 297
        }
      },
      "source": [
        "# Line Plots With All Three Categories\n",
        "\n",
        "plt.style.use('seaborn-white')\n",
        "\n",
        "sns.lineplot(x = office_supp_mth_profits.index, y = office_supp_mth_profits, \n",
        "             color = 'blue', label = \"Office Supplies\",\n",
        "             alpha = 0.8)\n",
        "sns.lineplot(x = furn_mth_profits.index, y = furn_mth_profits, \n",
        "             color = 'green', label = 'Furniture',\n",
        "             alpha = 0.8)\n",
        "sns.lineplot(x = tech_mth_profits.index, y = tech_mth_profits, \n",
        "             color = '#DF3A01', label = 'Technology',\n",
        "             alpha = 0.8)\n",
        "\n",
        "# Horizontal line at y = 0 for zero profit.\n",
        "\n",
        "plt.axhline(y = 0, color = 'red', alpha = 0.2)\n",
        "\n",
        "\n",
        "# Labels:\n",
        "\n",
        "plt.xlabel('\\n Order Date')\n",
        "plt.ylabel('Profit ($ USD) \\n')\n",
        "plt.title('Monthly Order Profits By Category \\n')\n",
        "plt.xticks(rotation = 30)\n",
        "\n",
        "# Tight layout:\n",
        "plt.tight_layout()\n",
        "\n",
        "plt.autoscale()\n",
        "plt.savefig('monthly_orderProfits_catg.png', dpi=300, bbox_inches = \"tight\")\n",
        "\n",
        "plt.show()"
      ],
      "execution_count": 0,
      "outputs": [
        {
          "output_type": "display_data",
          "data": {
            "image/png": "[encoded data removed]",
            "text/plain": [
              "<Figure size 432x288 with 1 Axes>"
            ]
          },
          "metadata": {
            "tags": []
          }
        }
      ]
    },
    {
      "cell_type": "code",
      "metadata": {
        "id": "nJH1dmRAM8qX",
        "colab_type": "code",
        "outputId": "2098e2b6-297a-4275-9565-d2273f310663",
        "colab": {
          "base_uri": "https://localhost:8080/",
          "height": 434
        }
      },
      "source": [
        "## A Better Plot Than The Above For Comparison\n",
        "\n",
        "# Set style:\n",
        "\n",
        "plt.style.use('seaborn-whitegrid')\n",
        "\n",
        "\n",
        "# Subplots\n",
        "\n",
        "fig, axes = plt.subplots(figsize = (10, 5), \n",
        "                                    nrows = 1, \n",
        "                                    ncols = 3,\n",
        "                                    sharex = True,\n",
        "                                    sharey = True)\n",
        "\n",
        "# fig = overall figure\n",
        "# ax1 = axis object for left plot\n",
        "# ax2 = axis object for center plot\n",
        "# ax3 = axis object for right plot\n",
        "\n",
        "# Left plot\n",
        "sns.lineplot(x = office_supp_mth_profits.index, y = office_supp_mth_profits, \n",
        "             color = 'black',\n",
        "             alpha = 0.8,\n",
        "             ax = axes[0])\n",
        "\n",
        "# Center Plot\n",
        "sns.lineplot(x = furn_mth_profits.index, y = furn_mth_profits, \n",
        "             color = 'green', \n",
        "             alpha = 0.8,\n",
        "             ax = axes[1])\n",
        "\n",
        "# Right Plot\n",
        "sns.lineplot(x = tech_mth_profits.index, y = tech_mth_profits, \n",
        "             color = '#DF3A01', \n",
        "             alpha = 0.8,\n",
        "             ax = axes[2])\n",
        "\n",
        "# Vertical light blue lines to separate years:\n",
        "\n",
        "for i in range(3):\n",
        "  axes[i].axvline(x = '2018-01-01', linewidth=2, color='blue', alpha = 0.10)\n",
        "  axes[i].axvline(x = '2017-01-01', linewidth=2, color='blue', alpha = 0.10)\n",
        "  axes[i].axvline(x = '2016-01-01', linewidth=2, color='blue', alpha = 0.10)\n",
        "\n",
        "# Set titles:\n",
        "\n",
        "axes[0].set_title('Office Supplies \\n')\n",
        "\n",
        "axes[1].set_title('Furniture \\n')\n",
        "\n",
        "axes[2].set_title('Technology \\n')\n",
        "\n",
        "# y-axis Label:\n",
        "\n",
        "axes[0].set_ylabel(\"Profits ($USD) \\n\")\n",
        "\n",
        "# x-axis labels for labelling and rotation:\n",
        "# https://stackoverflow.com/questions/31186019/rotate-tick-labels-in-subplot-pyplot-matplotlib-gridspec\n",
        "\n",
        "for j in range(3):\n",
        "  axes[j].set_xlabel('\\n Order Date')\n",
        "  axes[j].tick_params(axis = 'x', labelrotation = 90)\n",
        "\n",
        "# Main title:\n",
        "plt.suptitle('Monthly Order Profits \\n', \n",
        "             size = 20, \n",
        "             y = 1.15)\n",
        "\n",
        "plt.tight_layout()\n",
        "\n",
        "\n",
        "# Save figure:\n",
        "\n",
        "plt.autoscale()\n",
        "plt.savefig('monthly_orderProfits_catg.png', dpi=300, bbox_inches = \"tight\")\n",
        "\n",
        "plt.show()"
      ],
      "execution_count": 0,
      "outputs": [
        {
          "output_type": "display_data",
          "data": {
            "image/png": "[encoded data removed]",
            "text/plain": [
              "<Figure size 720x360 with 3 Axes>"
            ]
          },
          "metadata": {
            "tags": []
          }
        }
      ]
    },
    {
      "cell_type": "markdown",
      "metadata": {
        "id": "X_ywHKjm6mmr",
        "colab_type": "text"
      },
      "source": [
        "# ARIMA Model Fit & Forecasting On Monthly Sales\n",
        "\n",
        "\n",
        "Recall that in the brief the global sales team would like forecasts on sales & profit for 2019 Q3.\n",
        "\n",
        "They would like to know sales and profit by category by month.\n",
        "\n",
        "Three main categories are office supplies, furniture and technology.\n"
      ]
    },
    {
      "cell_type": "code",
      "metadata": {
        "id": "-qunhGBrrA1j",
        "colab_type": "code",
        "colab": {}
      },
      "source": [
        "from statsmodels.graphics.tsaplots import plot_acf\n",
        "from statsmodels.graphics.tsaplots import plot_pacf"
      ],
      "execution_count": 0,
      "outputs": []
    },
    {
      "cell_type": "markdown",
      "metadata": {
        "id": "rpU9LPSAe8x0",
        "colab_type": "text"
      },
      "source": [
        "## Model Fit On Sales"
      ]
    },
    {
      "cell_type": "code",
      "metadata": {
        "id": "gL_JoNcs5Aoi",
        "colab_type": "code",
        "outputId": "8ce0e412-af63-4278-cd9c-74bf45b087bd",
        "colab": {
          "base_uri": "https://localhost:8080/",
          "height": 263
        }
      },
      "source": [
        "# Look at monthly sales data:\n",
        "\n",
        "sales_permonth.head(12)"
      ],
      "execution_count": 0,
      "outputs": [
        {
          "output_type": "execute_result",
          "data": {
            "text/plain": [
              "Order_Date_Month\n",
              "2015-01-01     98898.48886\n",
              "2015-02-01     91152.15698\n",
              "2015-03-01    145729.36736\n",
              "2015-04-01    116915.76418\n",
              "2015-05-01    146747.83610\n",
              "2015-06-01    215207.38022\n",
              "2015-07-01    115510.41912\n",
              "2015-08-01    207581.49122\n",
              "2015-09-01    290214.45534\n",
              "2015-10-01    199071.26404\n",
              "2015-11-01    298496.53752\n",
              "2015-12-01    333925.73460\n",
              "Name: Sales, dtype: float64"
            ]
          },
          "metadata": {
            "tags": []
          },
          "execution_count": 54
        }
      ]
    },
    {
      "cell_type": "markdown",
      "metadata": {
        "id": "hL53GJFq6Y0Z",
        "colab_type": "text"
      },
      "source": [
        "### Check ACF & PACF Plot"
      ]
    },
    {
      "cell_type": "code",
      "metadata": {
        "id": "t93pYZ8c6XV5",
        "colab_type": "code",
        "outputId": "1fd1885c-deca-4835-a15d-d940fd367eb5",
        "colab": {
          "base_uri": "https://localhost:8080/",
          "height": 541
        }
      },
      "source": [
        "# plot_acf function with 95% confidence (set alpha a 0.05)\n",
        "# Reference: https://www.datasciencesmachinelearning.com/2019/01/arimasarima-in-python.html\n",
        "\n",
        "plot_acf(sales_permonth, lags = 20, alpha = 0.05)"
      ],
      "execution_count": 0,
      "outputs": [
        {
          "output_type": "execute_result",
          "data": {
            "image/png": "[encoded data removed]",
            "text/plain": [
              "<Figure size 432x288 with 1 Axes>"
            ]
          },
          "metadata": {
            "tags": []
          },
          "execution_count": 55
        },
        {
          "output_type": "display_data",
          "data": {
            "image/png": "[encoded data removed]",
            "text/plain": [
              "<Figure size 432x288 with 1 Axes>"
            ]
          },
          "metadata": {
            "tags": []
          }
        }
      ]
    },
    {
      "cell_type": "code",
      "metadata": {
        "id": "wPourF7h63TD",
        "colab_type": "code",
        "outputId": "2d686a0a-6c53-4564-8a93-f722e63bc86b",
        "colab": {
          "base_uri": "https://localhost:8080/",
          "height": 879
        }
      },
      "source": [
        "# plot_pacf function with 95% confidence (set alpha at 0.05)\n",
        "\n",
        "sales_permonth_diff = sales_permonth.diff()\n",
        "\n",
        "sales_permonth_diff = sales_permonth_diff.dropna()\n",
        "\n",
        "sales_permonth_diff"
      ],
      "execution_count": 0,
      "outputs": [
        {
          "output_type": "execute_result",
          "data": {
            "text/plain": [
              "Order_Date_Month\n",
              "2015-02-01     -7746.33188\n",
              "2015-03-01     54577.21038\n",
              "2015-04-01    -28813.60318\n",
              "2015-05-01     29832.07192\n",
              "2015-06-01     68459.54412\n",
              "2015-07-01    -99696.96110\n",
              "2015-08-01     92071.07210\n",
              "2015-09-01     82632.96412\n",
              "2015-10-01    -91143.19130\n",
              "2015-11-01     99425.27348\n",
              "2015-12-01     35429.19708\n",
              "2016-01-01   -198145.01436\n",
              "2016-02-01    -35270.50326\n",
              "2016-03-01     62566.55418\n",
              "2016-04-01     -2024.50164\n",
              "2016-05-01     47312.62172\n",
              "2016-06-01     47810.80718\n",
              "2016-07-01   -110938.91330\n",
              "2016-08-01    157906.15726\n",
              "2016-09-01    -13753.77674\n",
              "2016-10-01    -36449.31544\n",
              "2016-11-01     70572.56670\n",
              "2016-12-01     14744.54970\n",
              "2017-01-01   -139071.05922\n",
              "2017-02-01    -31946.25698\n",
              "2017-03-01     31354.37972\n",
              "2017-04-01    -20772.71328\n",
              "2017-05-01     82677.24786\n",
              "2017-06-01    136021.04720\n",
              "2017-07-01   -166590.65990\n",
              "2017-08-01     96559.83736\n",
              "2017-09-01     50130.45632\n",
              "2017-10-01    -83212.60280\n",
              "2017-11-01     80582.71722\n",
              "2017-12-01     31465.01792\n",
              "2018-01-01   -164185.82236\n",
              "2018-02-01    -56431.20010\n",
              "2018-03-01     78263.41706\n",
              "2018-04-01    -20328.91132\n",
              "2018-05-01     45629.18484\n",
              "2018-06-01    113413.01696\n",
              "2018-07-01   -143108.38262\n",
              "2018-08-01    197914.26188\n",
              "2018-09-01     24537.30134\n",
              "2018-10-01    -58390.61454\n",
              "2018-11-01    132512.39784\n",
              "2018-12-01    -52135.33352\n",
              "Name: Sales, dtype: float64"
            ]
          },
          "metadata": {
            "tags": []
          },
          "execution_count": 56
        }
      ]
    },
    {
      "cell_type": "code",
      "metadata": {
        "id": "1yAQ9B3T7U7u",
        "colab_type": "code",
        "outputId": "39ca2ff1-078c-4221-d436-411b76a9d100",
        "colab": {
          "base_uri": "https://localhost:8080/",
          "height": 541
        }
      },
      "source": [
        "# Plot pacf with acf on differenced data:\n",
        "\n",
        "plot_acf(sales_permonth_diff, lags = 20, alpha = 0.05)"
      ],
      "execution_count": 0,
      "outputs": [
        {
          "output_type": "execute_result",
          "data": {
            "image/png": "[encoded data removed]",
            "text/plain": [
              "<Figure size 432x288 with 1 Axes>"
            ]
          },
          "metadata": {
            "tags": []
          },
          "execution_count": 57
        },
        {
          "output_type": "display_data",
          "data": {
            "image/png": "[encoded data removed]",
            "text/plain": [
              "<Figure size 432x288 with 1 Axes>"
            ]
          },
          "metadata": {
            "tags": []
          }
        }
      ]
    },
    {
      "cell_type": "markdown",
      "metadata": {
        "id": "UIrWnPG37qSQ",
        "colab_type": "text"
      },
      "source": [
        "### Adj. Dickey-Fuller Tests\n"
      ]
    },
    {
      "cell_type": "code",
      "metadata": {
        "id": "mPTxZUAh7yee",
        "colab_type": "code",
        "colab": {}
      },
      "source": [
        "from statsmodels.tsa.stattools import adfuller"
      ],
      "execution_count": 0,
      "outputs": []
    },
    {
      "cell_type": "code",
      "metadata": {
        "id": "OynGngN775QA",
        "colab_type": "code",
        "outputId": "d76d1e3a-1ccd-464e-9a9a-aec9c05ba0de",
        "colab": {
          "base_uri": "https://localhost:8080/",
          "height": 157
        }
      },
      "source": [
        "# Reference: https://www.datasciencesmachinelearning.com/2018/12/time-series-basic-concepts.html\n",
        "\n",
        "adj_dfuller_results = adfuller(sales_permonth)\n",
        "\n",
        "print(f'ADF Test Statistic: {adj_dfuller_results[0]:.3f}')\n",
        "print(f'p-value: {adj_dfuller_results[1]:.3f}')\n",
        "print(f'Number Of Lags: {adj_dfuller_results[2]:.0f}')\n",
        "print(f'Number Of Observations Used: {adj_dfuller_results[3]:.0f}')\n",
        "print('Critical values for test statistic.')\n",
        "for key, value in adj_dfuller_results[4].items():\n",
        "  print(f'{key}: {value:.2f}')"
      ],
      "execution_count": 0,
      "outputs": [
        {
          "output_type": "stream",
          "text": [
            "ADF Test Statistic: 0.618\n",
            "p-value: 0.988\n",
            "Number Of Lags: 10\n",
            "Number Of Observations Used: 37\n",
            "Critical values for test statistic.\n",
            "1%: -3.62\n",
            "5%: -2.94\n",
            "10%: -2.61\n"
          ],
          "name": "stdout"
        }
      ]
    },
    {
      "cell_type": "markdown",
      "metadata": {
        "id": "tApJXkeF-LrB",
        "colab_type": "text"
      },
      "source": [
        "From the Adjusted Dickey-Fuller Test I fail to reject the null hypothesis of the data being stationary. The data is **not stationary**.\n",
        "\n",
        "I would need to difference the `sales_per_month` variable and run the Dickey-Fuller test again."
      ]
    },
    {
      "cell_type": "code",
      "metadata": {
        "id": "ovBgMbxY-f2H",
        "colab_type": "code",
        "outputId": "3ef07332-98eb-423f-90af-36eb55df155b",
        "colab": {
          "base_uri": "https://localhost:8080/",
          "height": 157
        }
      },
      "source": [
        "adj_dfuller_results2 = adfuller(sales_permonth_diff)\n",
        "\n",
        "print(f'ADF Test Statistic: {adj_dfuller_results2[0]:.3f}')\n",
        "print(f'p-value: {adj_dfuller_results2[1]:.3f}')\n",
        "print(f'Number Of Lags: {adj_dfuller_results2[2]:.0f}')\n",
        "print(f'Number Of Observations Used: {adj_dfuller_results2[3]:.0f}')\n",
        "print('Critical values for test statistic.')\n",
        "for key, value in adj_dfuller_results2[4].items():\n",
        "  print(f'{key}: {value:.2f}')"
      ],
      "execution_count": 0,
      "outputs": [
        {
          "output_type": "stream",
          "text": [
            "ADF Test Statistic: -8.602\n",
            "p-value: 0.000\n",
            "Number Of Lags: 10\n",
            "Number Of Observations Used: 36\n",
            "Critical values for test statistic.\n",
            "1%: -3.63\n",
            "5%: -2.95\n",
            "10%: -2.61\n"
          ],
          "name": "stdout"
        }
      ]
    },
    {
      "cell_type": "markdown",
      "metadata": {
        "id": "GkvImi_PE18K",
        "colab_type": "text"
      },
      "source": [
        "The p-value is less than 5% meaning that the test is significant. The model is now stationary (root/solution is outside unit circle) from Adjusted Dickey Fuller test. Only one differencing is required."
      ]
    },
    {
      "cell_type": "markdown",
      "metadata": {
        "id": "kOqmwvfIsXia",
        "colab_type": "text"
      },
      "source": [
        "### Train Test Split"
      ]
    },
    {
      "cell_type": "code",
      "metadata": {
        "id": "4JzvaHPbsiv4",
        "colab_type": "code",
        "outputId": "a5faa0be-4883-44e5-d784-db1f8fcfea10",
        "colab": {
          "base_uri": "https://localhost:8080/",
          "height": 140
        }
      },
      "source": [
        "# Train Data: Sales Per Month 2015 - 2017 Years\n",
        "\n",
        "train_sales_permonth = sales_permonth[sales_permonth.index < '2018-01-01']\n",
        "\n",
        "train_sales_permonth.head()"
      ],
      "execution_count": 0,
      "outputs": [
        {
          "output_type": "execute_result",
          "data": {
            "text/plain": [
              "Order_Date_Month\n",
              "2015-01-01     98898.48886\n",
              "2015-02-01     91152.15698\n",
              "2015-03-01    145729.36736\n",
              "2015-04-01    116915.76418\n",
              "2015-05-01    146747.83610\n",
              "Name: Sales, dtype: float64"
            ]
          },
          "metadata": {
            "tags": []
          },
          "execution_count": 61
        }
      ]
    },
    {
      "cell_type": "code",
      "metadata": {
        "id": "-MYnK3vysb-z",
        "colab_type": "code",
        "outputId": "587d87de-752c-438c-a5b3-a9c24499b47f",
        "colab": {
          "base_uri": "https://localhost:8080/",
          "height": 263
        }
      },
      "source": [
        "# Test Data: Sales Per Month 2018 Year only\n",
        "\n",
        "test_sales_permonth = sales_permonth[sales_permonth.index >= '2018-01-01']\n",
        "\n",
        "test_sales_permonth"
      ],
      "execution_count": 0,
      "outputs": [
        {
          "output_type": "execute_result",
          "data": {
            "text/plain": [
              "Order_Date_Month\n",
              "2018-01-01    241268.55566\n",
              "2018-02-01    184837.35556\n",
              "2018-03-01    263100.77262\n",
              "2018-04-01    242771.86130\n",
              "2018-05-01    288401.04614\n",
              "2018-06-01    401814.06310\n",
              "2018-07-01    258705.68048\n",
              "2018-08-01    456619.94236\n",
              "2018-09-01    481157.24370\n",
              "2018-10-01    422766.62916\n",
              "2018-11-01    555279.02700\n",
              "2018-12-01    503143.69348\n",
              "Name: Sales, dtype: float64"
            ]
          },
          "metadata": {
            "tags": []
          },
          "execution_count": 62
        }
      ]
    },
    {
      "cell_type": "markdown",
      "metadata": {
        "id": "bPjgfmGiGyhD",
        "colab_type": "text"
      },
      "source": [
        "### Testing Out auto.arima"
      ]
    },
    {
      "cell_type": "code",
      "metadata": {
        "id": "ae6dlGLPJP1l",
        "colab_type": "code",
        "outputId": "9f5e9ae5-6b66-4c5d-8346-76bf6c9f3b0b",
        "colab": {
          "base_uri": "https://localhost:8080/",
          "height": 318
        }
      },
      "source": [
        "pip install pyramid-arima"
      ],
      "execution_count": 0,
      "outputs": [
        {
          "output_type": "stream",
          "text": [
            "Collecting pyramid-arima\n",
            "\u001b[?25l  Downloading https://files.pythonhosted.org/packages/5c/84/57422f2a6ade3161c586545e38b518ba1b7ab30ee4a4acc29110c0aba2bc/pyramid_arima-0.9.0-cp36-cp36m-manylinux1_x86_64.whl (597kB)\n",
            "\u001b[K     |████████████████████████████████| 604kB 5.0MB/s \n",
            "\u001b[?25hRequirement already satisfied: statsmodels>=0.9.0 in /usr/local/lib/python3.6/dist-packages (from pyramid-arima) (0.10.1)\n",
            "Requirement already satisfied: scipy>=0.9 in /usr/local/lib/python3.6/dist-packages (from pyramid-arima) (1.3.1)\n",
            "Requirement already satisfied: scikit-learn>=0.17 in /usr/local/lib/python3.6/dist-packages (from pyramid-arima) (0.21.3)\n",
            "Requirement already satisfied: pandas>=0.19 in /usr/local/lib/python3.6/dist-packages (from pyramid-arima) (0.24.2)\n",
            "Requirement already satisfied: numpy>=1.10 in /usr/local/lib/python3.6/dist-packages (from pyramid-arima) (1.16.5)\n",
            "Requirement already satisfied: Cython>=0.23 in /usr/local/lib/python3.6/dist-packages (from pyramid-arima) (0.29.13)\n",
            "Requirement already satisfied: patsy>=0.4.0 in /usr/local/lib/python3.6/dist-packages (from statsmodels>=0.9.0->pyramid-arima) (0.5.1)\n",
            "Requirement already satisfied: joblib>=0.11 in /usr/local/lib/python3.6/dist-packages (from scikit-learn>=0.17->pyramid-arima) (0.13.2)\n",
            "Requirement already satisfied: pytz>=2011k in /usr/local/lib/python3.6/dist-packages (from pandas>=0.19->pyramid-arima) (2018.9)\n",
            "Requirement already satisfied: python-dateutil>=2.5.0 in /usr/local/lib/python3.6/dist-packages (from pandas>=0.19->pyramid-arima) (2.5.3)\n",
            "Requirement already satisfied: six in /usr/local/lib/python3.6/dist-packages (from patsy>=0.4.0->statsmodels>=0.9.0->pyramid-arima) (1.12.0)\n",
            "Installing collected packages: pyramid-arima\n",
            "Successfully installed pyramid-arima-0.9.0\n"
          ],
          "name": "stdout"
        }
      ]
    },
    {
      "cell_type": "code",
      "metadata": {
        "id": "PeVLKH5yG03W",
        "colab_type": "code",
        "outputId": "0541fc37-7e58-405a-cbe4-722737c05cc6",
        "colab": {
          "base_uri": "https://localhost:8080/",
          "height": 318
        }
      },
      "source": [
        "from pyramid.arima import auto_arima"
      ],
      "execution_count": 0,
      "outputs": [
        {
          "output_type": "stream",
          "text": [
            "/usr/local/lib/python3.6/dist-packages/sklearn/externals/six.py:31: DeprecationWarning: The module is deprecated in version 0.21 and will be removed in version 0.23 since we've dropped support for Python 2.7. Please rely on the official version of six (https://pypi.org/project/six/).\n",
            "  \"(https://pypi.org/project/six/).\", DeprecationWarning)\n",
            "/usr/local/lib/python3.6/dist-packages/sklearn/externals/joblib/__init__.py:15: DeprecationWarning: sklearn.externals.joblib is deprecated in 0.21 and will be removed in 0.23. Please import this functionality directly from joblib, which can be installed with: pip install joblib. If this warning is raised when loading pickled models, you may need to re-serialize those models with scikit-learn 0.21+.\n",
            "  warnings.warn(msg, category=DeprecationWarning)\n",
            "/usr/local/lib/python3.6/dist-packages/pyramid/__init__.py:68: UserWarning: \n",
            "    The 'pyramid' package will be migrating to a new namespace beginning in \n",
            "    version 1.0.0: 'pmdarima'. This is due to a package name collision with the\n",
            "    Pyramid web framework. For more information, see Issue #34:\n",
            "    \n",
            "        https://github.com/tgsmith61591/pyramid/issues/34\n",
            "        \n",
            "    The package will subsequently be installable via the name 'pmdarima'; the\n",
            "    only functional change to the user will be the import name. All imports\n",
            "    from 'pyramid' will change to 'pmdarima'.\n",
            "    \n",
            "  \"\"\", UserWarning)\n"
          ],
          "name": "stderr"
        }
      ]
    },
    {
      "cell_type": "code",
      "metadata": {
        "id": "V6zG31DCG3Nr",
        "colab_type": "code",
        "outputId": "b3645beb-6dfe-4378-deaa-1c16c357f58f",
        "colab": {
          "base_uri": "https://localhost:8080/",
          "height": 705
        }
      },
      "source": [
        "# auto_arima with default 'kpss' & AIC test gives SARIMA(2, 1, 0)(1, 0, 0, 12)\n",
        "\n",
        "auto_arima(train_sales_permonth, m = 12, stepwise = True, trace = True)"
      ],
      "execution_count": 0,
      "outputs": [
        {
          "output_type": "stream",
          "text": [
            "/usr/local/lib/python3.6/dist-packages/pyramid/arima/auto.py:864: ModelFitWarning: Unable to fit ARIMA for order=(2, 1, 2) seasonal_order=(1, 0, 1, 12); data is likely non-stationary. (if you do not want to see these warnings, run with error_action=\"ignore\")\n",
            "  ModelFitWarning)\n",
            "/usr/local/lib/python3.6/dist-packages/pyramid/arima/auto.py:864: ModelFitWarning: Unable to fit ARIMA for order=(0, 1, 1) seasonal_order=(0, 0, 1, 12); data is likely non-stationary. (if you do not want to see these warnings, run with error_action=\"ignore\")\n",
            "  ModelFitWarning)\n",
            "/usr/local/lib/python3.6/dist-packages/statsmodels/tsa/statespace/sarimax.py:981: UserWarning: Non-stationary starting seasonal autoregressive Using zeros as starting parameters.\n",
            "  warn('Non-stationary starting seasonal autoregressive'\n"
          ],
          "name": "stderr"
        },
        {
          "output_type": "stream",
          "text": [
            "Fit ARIMA: order=(2, 1, 2) seasonal_order=(1, 0, 1, 12); AIC=nan, BIC=nan, Fit time=nan seconds\n",
            "Fit ARIMA: order=(0, 1, 0) seasonal_order=(0, 0, 0, 12); AIC=896.814, BIC=899.925, Fit time=0.063 seconds\n",
            "Fit ARIMA: order=(1, 1, 0) seasonal_order=(1, 0, 0, 12); AIC=889.722, BIC=895.944, Fit time=0.074 seconds\n",
            "Fit ARIMA: order=(0, 1, 1) seasonal_order=(0, 0, 1, 12); AIC=nan, BIC=nan, Fit time=nan seconds\n",
            "Fit ARIMA: order=(1, 1, 0) seasonal_order=(0, 0, 0, 12); AIC=894.550, BIC=899.216, Fit time=0.025 seconds\n",
            "Fit ARIMA: order=(1, 1, 0) seasonal_order=(2, 0, 0, 12); AIC=891.705, BIC=899.482, Fit time=0.182 seconds\n",
            "Fit ARIMA: order=(1, 1, 0) seasonal_order=(1, 0, 1, 12); AIC=nan, BIC=nan, Fit time=nan seconds\n",
            "Fit ARIMA: order=(1, 1, 0) seasonal_order=(2, 0, 1, 12); AIC=nan, BIC=nan, Fit time=nan seconds\n",
            "Fit ARIMA: order=(0, 1, 0) seasonal_order=(1, 0, 0, 12); AIC=890.682, BIC=895.348, Fit time=0.169 seconds\n"
          ],
          "name": "stdout"
        },
        {
          "output_type": "stream",
          "text": [
            "/usr/local/lib/python3.6/dist-packages/pyramid/arima/auto.py:864: ModelFitWarning: Unable to fit ARIMA for order=(1, 1, 0) seasonal_order=(1, 0, 1, 12); data is likely non-stationary. (if you do not want to see these warnings, run with error_action=\"ignore\")\n",
            "  ModelFitWarning)\n",
            "/usr/local/lib/python3.6/dist-packages/pyramid/arima/auto.py:864: ModelFitWarning: Unable to fit ARIMA for order=(1, 1, 0) seasonal_order=(2, 0, 1, 12); data is likely non-stationary. (if you do not want to see these warnings, run with error_action=\"ignore\")\n",
            "  ModelFitWarning)\n"
          ],
          "name": "stderr"
        },
        {
          "output_type": "stream",
          "text": [
            "Fit ARIMA: order=(2, 1, 0) seasonal_order=(1, 0, 0, 12); AIC=885.363, BIC=893.140, Fit time=0.117 seconds\n",
            "Fit ARIMA: order=(2, 1, 1) seasonal_order=(1, 0, 0, 12); AIC=885.412, BIC=894.744, Fit time=0.149 seconds\n",
            "Fit ARIMA: order=(3, 1, 1) seasonal_order=(1, 0, 0, 12); AIC=887.306, BIC=898.193, Fit time=0.185 seconds\n",
            "Fit ARIMA: order=(2, 1, 0) seasonal_order=(0, 0, 0, 12); AIC=888.730, BIC=894.951, Fit time=0.034 seconds\n"
          ],
          "name": "stdout"
        },
        {
          "output_type": "stream",
          "text": [
            "/usr/local/lib/python3.6/dist-packages/statsmodels/tsa/statespace/sarimax.py:981: UserWarning: Non-stationary starting seasonal autoregressive Using zeros as starting parameters.\n",
            "  warn('Non-stationary starting seasonal autoregressive'\n"
          ],
          "name": "stderr"
        },
        {
          "output_type": "stream",
          "text": [
            "Fit ARIMA: order=(2, 1, 0) seasonal_order=(2, 0, 0, 12); AIC=887.191, BIC=896.523, Fit time=0.236 seconds\n",
            "Fit ARIMA: order=(2, 1, 0) seasonal_order=(1, 0, 1, 12); AIC=nan, BIC=nan, Fit time=nan seconds\n",
            "Fit ARIMA: order=(2, 1, 0) seasonal_order=(2, 0, 1, 12); AIC=nan, BIC=nan, Fit time=nan seconds\n",
            "Fit ARIMA: order=(3, 1, 0) seasonal_order=(1, 0, 0, 12); AIC=885.759, BIC=895.091, Fit time=0.115 seconds\n",
            "Total fit time: 1.402 seconds\n"
          ],
          "name": "stdout"
        },
        {
          "output_type": "stream",
          "text": [
            "/usr/local/lib/python3.6/dist-packages/pyramid/arima/auto.py:864: ModelFitWarning: Unable to fit ARIMA for order=(2, 1, 0) seasonal_order=(1, 0, 1, 12); data is likely non-stationary. (if you do not want to see these warnings, run with error_action=\"ignore\")\n",
            "  ModelFitWarning)\n",
            "/usr/local/lib/python3.6/dist-packages/pyramid/arima/auto.py:864: ModelFitWarning: Unable to fit ARIMA for order=(2, 1, 0) seasonal_order=(2, 0, 1, 12); data is likely non-stationary. (if you do not want to see these warnings, run with error_action=\"ignore\")\n",
            "  ModelFitWarning)\n"
          ],
          "name": "stderr"
        },
        {
          "output_type": "execute_result",
          "data": {
            "text/plain": [
              "ARIMA(callback=None, disp=0, maxiter=50, method=None, order=(2, 1, 0),\n",
              "      out_of_sample_size=0, scoring='mse', scoring_args={},\n",
              "      seasonal_order=(1, 0, 0, 12), solver='lbfgs', start_params=None,\n",
              "      suppress_warnings=False, transparams=True, trend='c')"
            ]
          },
          "metadata": {
            "tags": []
          },
          "execution_count": 65
        }
      ]
    },
    {
      "cell_type": "code",
      "metadata": {
        "id": "40DDWOU9G5TT",
        "colab_type": "code",
        "outputId": "8296e36a-a2f2-445e-c5b1-e496795c0810",
        "colab": {
          "base_uri": "https://localhost:8080/",
          "height": 1000
        }
      },
      "source": [
        "# auto_arima with adjusted dickey fuller test gives SARIMA(3, 0, 2)(1, 0, 0, 12)\n",
        "# default is AIC:\n",
        "\n",
        "auto_arima(train_sales_permonth, test =  'adf', m = 12, stepwise = True, trace = True)"
      ],
      "execution_count": 0,
      "outputs": [
        {
          "output_type": "stream",
          "text": [
            "Fit ARIMA: order=(2, 0, 2) seasonal_order=(1, 0, 1, 12); AIC=nan, BIC=nan, Fit time=nan seconds\n",
            "Fit ARIMA: order=(0, 0, 0) seasonal_order=(0, 0, 0, 12); AIC=927.775, BIC=930.942, Fit time=0.008 seconds\n"
          ],
          "name": "stdout"
        },
        {
          "output_type": "stream",
          "text": [
            "/usr/local/lib/python3.6/dist-packages/pyramid/arima/auto.py:864: ModelFitWarning: Unable to fit ARIMA for order=(2, 0, 2) seasonal_order=(1, 0, 1, 12); data is likely non-stationary. (if you do not want to see these warnings, run with error_action=\"ignore\")\n",
            "  ModelFitWarning)\n",
            "/usr/local/lib/python3.6/dist-packages/statsmodels/tsa/statespace/sarimax.py:981: UserWarning: Non-stationary starting seasonal autoregressive Using zeros as starting parameters.\n",
            "  warn('Non-stationary starting seasonal autoregressive'\n",
            "/usr/local/lib/python3.6/dist-packages/pyramid/arima/auto.py:864: ModelFitWarning: Unable to fit ARIMA for order=(0, 0, 1) seasonal_order=(0, 0, 1, 12); data is likely non-stationary. (if you do not want to see these warnings, run with error_action=\"ignore\")\n",
            "  ModelFitWarning)\n",
            "/usr/local/lib/python3.6/dist-packages/statsmodels/tsa/statespace/sarimax.py:981: UserWarning: Non-stationary starting seasonal autoregressive Using zeros as starting parameters.\n",
            "  warn('Non-stationary starting seasonal autoregressive'\n"
          ],
          "name": "stderr"
        },
        {
          "output_type": "stream",
          "text": [
            "Fit ARIMA: order=(1, 0, 0) seasonal_order=(1, 0, 0, 12); AIC=911.237, BIC=917.571, Fit time=0.081 seconds\n",
            "Fit ARIMA: order=(0, 0, 1) seasonal_order=(0, 0, 1, 12); AIC=nan, BIC=nan, Fit time=nan seconds\n",
            "Fit ARIMA: order=(1, 0, 0) seasonal_order=(0, 0, 0, 12); AIC=917.748, BIC=922.499, Fit time=0.019 seconds\n",
            "Fit ARIMA: order=(1, 0, 0) seasonal_order=(2, 0, 0, 12); AIC=912.098, BIC=920.016, Fit time=0.224 seconds\n",
            "Fit ARIMA: order=(1, 0, 0) seasonal_order=(1, 0, 1, 12); AIC=nan, BIC=nan, Fit time=nan seconds\n",
            "Fit ARIMA: order=(1, 0, 0) seasonal_order=(2, 0, 1, 12); AIC=nan, BIC=nan, Fit time=nan seconds\n",
            "Fit ARIMA: order=(0, 0, 0) seasonal_order=(1, 0, 0, 12); AIC=928.592, BIC=933.343, Fit time=0.041 seconds\n",
            "Fit ARIMA: order=(2, 0, 0) seasonal_order=(1, 0, 0, 12); AIC=912.611, BIC=920.529, Fit time=0.087 seconds\n"
          ],
          "name": "stdout"
        },
        {
          "output_type": "stream",
          "text": [
            "/usr/local/lib/python3.6/dist-packages/pyramid/arima/auto.py:864: ModelFitWarning: Unable to fit ARIMA for order=(1, 0, 0) seasonal_order=(1, 0, 1, 12); data is likely non-stationary. (if you do not want to see these warnings, run with error_action=\"ignore\")\n",
            "  ModelFitWarning)\n",
            "/usr/local/lib/python3.6/dist-packages/pyramid/arima/auto.py:864: ModelFitWarning: Unable to fit ARIMA for order=(1, 0, 0) seasonal_order=(2, 0, 1, 12); data is likely non-stationary. (if you do not want to see these warnings, run with error_action=\"ignore\")\n",
            "  ModelFitWarning)\n",
            "/usr/local/lib/python3.6/dist-packages/statsmodels/tsa/statespace/sarimax.py:981: UserWarning: Non-stationary starting seasonal autoregressive Using zeros as starting parameters.\n",
            "  warn('Non-stationary starting seasonal autoregressive'\n",
            "/usr/local/lib/python3.6/dist-packages/statsmodels/tsa/statespace/sarimax.py:981: UserWarning: Non-stationary starting seasonal autoregressive Using zeros as starting parameters.\n",
            "  warn('Non-stationary starting seasonal autoregressive'\n",
            "/usr/local/lib/python3.6/dist-packages/statsmodels/tsa/statespace/sarimax.py:981: UserWarning: Non-stationary starting seasonal autoregressive Using zeros as starting parameters.\n",
            "  warn('Non-stationary starting seasonal autoregressive'\n"
          ],
          "name": "stderr"
        },
        {
          "output_type": "stream",
          "text": [
            "Fit ARIMA: order=(1, 0, 1) seasonal_order=(1, 0, 0, 12); AIC=907.199, BIC=915.117, Fit time=0.104 seconds\n"
          ],
          "name": "stdout"
        },
        {
          "output_type": "stream",
          "text": [
            "/usr/local/lib/python3.6/dist-packages/statsmodels/tsa/statespace/sarimax.py:981: UserWarning: Non-stationary starting seasonal autoregressive Using zeros as starting parameters.\n",
            "  warn('Non-stationary starting seasonal autoregressive'\n"
          ],
          "name": "stderr"
        },
        {
          "output_type": "stream",
          "text": [
            "Fit ARIMA: order=(2, 0, 2) seasonal_order=(1, 0, 0, 12); AIC=910.274, BIC=921.359, Fit time=0.223 seconds\n",
            "Fit ARIMA: order=(1, 0, 1) seasonal_order=(0, 0, 0, 12); AIC=919.215, BIC=925.549, Fit time=0.030 seconds\n"
          ],
          "name": "stdout"
        },
        {
          "output_type": "stream",
          "text": [
            "/usr/local/lib/python3.6/dist-packages/statsmodels/tsa/statespace/sarimax.py:981: UserWarning: Non-stationary starting seasonal autoregressive Using zeros as starting parameters.\n",
            "  warn('Non-stationary starting seasonal autoregressive'\n"
          ],
          "name": "stderr"
        },
        {
          "output_type": "stream",
          "text": [
            "Fit ARIMA: order=(1, 0, 1) seasonal_order=(2, 0, 0, 12); AIC=909.195, BIC=918.696, Fit time=0.318 seconds\n",
            "Fit ARIMA: order=(1, 0, 1) seasonal_order=(1, 0, 1, 12); AIC=nan, BIC=nan, Fit time=nan seconds\n",
            "Fit ARIMA: order=(1, 0, 1) seasonal_order=(2, 0, 1, 12); AIC=nan, BIC=nan, Fit time=nan seconds\n",
            "Fit ARIMA: order=(0, 0, 1) seasonal_order=(1, 0, 0, 12); AIC=919.281, BIC=925.615, Fit time=0.064 seconds\n"
          ],
          "name": "stdout"
        },
        {
          "output_type": "stream",
          "text": [
            "/usr/local/lib/python3.6/dist-packages/pyramid/arima/auto.py:864: ModelFitWarning: Unable to fit ARIMA for order=(1, 0, 1) seasonal_order=(1, 0, 1, 12); data is likely non-stationary. (if you do not want to see these warnings, run with error_action=\"ignore\")\n",
            "  ModelFitWarning)\n",
            "/usr/local/lib/python3.6/dist-packages/pyramid/arima/auto.py:864: ModelFitWarning: Unable to fit ARIMA for order=(1, 0, 1) seasonal_order=(2, 0, 1, 12); data is likely non-stationary. (if you do not want to see these warnings, run with error_action=\"ignore\")\n",
            "  ModelFitWarning)\n",
            "/usr/local/lib/python3.6/dist-packages/statsmodels/tsa/statespace/sarimax.py:981: UserWarning: Non-stationary starting seasonal autoregressive Using zeros as starting parameters.\n",
            "  warn('Non-stationary starting seasonal autoregressive'\n",
            "/usr/local/lib/python3.6/dist-packages/statsmodels/tsa/statespace/sarimax.py:961: UserWarning: Non-invertible starting MA parameters found. Using zeros as starting parameters.\n",
            "  warn('Non-invertible starting MA parameters found.'\n",
            "/usr/local/lib/python3.6/dist-packages/statsmodels/tsa/statespace/sarimax.py:981: UserWarning: Non-stationary starting seasonal autoregressive Using zeros as starting parameters.\n",
            "  warn('Non-stationary starting seasonal autoregressive'\n"
          ],
          "name": "stderr"
        },
        {
          "output_type": "stream",
          "text": [
            "Fit ARIMA: order=(2, 0, 1) seasonal_order=(1, 0, 0, 12); AIC=905.843, BIC=915.344, Fit time=0.334 seconds\n"
          ],
          "name": "stdout"
        },
        {
          "output_type": "stream",
          "text": [
            "/usr/local/lib/python3.6/dist-packages/statsmodels/tsa/statespace/sarimax.py:981: UserWarning: Non-stationary starting seasonal autoregressive Using zeros as starting parameters.\n",
            "  warn('Non-stationary starting seasonal autoregressive'\n"
          ],
          "name": "stderr"
        },
        {
          "output_type": "stream",
          "text": [
            "Fit ARIMA: order=(3, 0, 2) seasonal_order=(1, 0, 0, 12); AIC=901.395, BIC=914.063, Fit time=0.555 seconds\n",
            "Fit ARIMA: order=(3, 0, 2) seasonal_order=(0, 0, 0, 12); AIC=905.923, BIC=917.008, Fit time=0.240 seconds\n"
          ],
          "name": "stdout"
        },
        {
          "output_type": "stream",
          "text": [
            "/usr/local/lib/python3.6/dist-packages/statsmodels/tsa/statespace/sarimax.py:981: UserWarning: Non-stationary starting seasonal autoregressive Using zeros as starting parameters.\n",
            "  warn('Non-stationary starting seasonal autoregressive'\n"
          ],
          "name": "stderr"
        },
        {
          "output_type": "stream",
          "text": [
            "Fit ARIMA: order=(3, 0, 2) seasonal_order=(2, 0, 0, 12); AIC=903.366, BIC=917.618, Fit time=1.279 seconds\n",
            "Fit ARIMA: order=(3, 0, 2) seasonal_order=(1, 0, 1, 12); AIC=nan, BIC=nan, Fit time=nan seconds\n",
            "Fit ARIMA: order=(3, 0, 2) seasonal_order=(2, 0, 1, 12); AIC=nan, BIC=nan, Fit time=nan seconds\n"
          ],
          "name": "stdout"
        },
        {
          "output_type": "stream",
          "text": [
            "/usr/local/lib/python3.6/dist-packages/pyramid/arima/auto.py:864: ModelFitWarning: Unable to fit ARIMA for order=(3, 0, 2) seasonal_order=(1, 0, 1, 12); data is likely non-stationary. (if you do not want to see these warnings, run with error_action=\"ignore\")\n",
            "  ModelFitWarning)\n",
            "/usr/local/lib/python3.6/dist-packages/pyramid/arima/auto.py:864: ModelFitWarning: Unable to fit ARIMA for order=(3, 0, 2) seasonal_order=(2, 0, 1, 12); data is likely non-stationary. (if you do not want to see these warnings, run with error_action=\"ignore\")\n",
            "  ModelFitWarning)\n",
            "/usr/local/lib/python3.6/dist-packages/statsmodels/tsa/statespace/sarimax.py:981: UserWarning: Non-stationary starting seasonal autoregressive Using zeros as starting parameters.\n",
            "  warn('Non-stationary starting seasonal autoregressive'\n"
          ],
          "name": "stderr"
        },
        {
          "output_type": "stream",
          "text": [
            "Fit ARIMA: order=(4, 0, 2) seasonal_order=(1, 0, 0, 12); AIC=903.367, BIC=917.619, Fit time=0.624 seconds\n",
            "Fit ARIMA: order=(3, 0, 1) seasonal_order=(1, 0, 0, 12); AIC=905.682, BIC=916.766, Fit time=0.197 seconds\n"
          ],
          "name": "stdout"
        },
        {
          "output_type": "stream",
          "text": [
            "/usr/local/lib/python3.6/dist-packages/statsmodels/tsa/statespace/sarimax.py:981: UserWarning: Non-stationary starting seasonal autoregressive Using zeros as starting parameters.\n",
            "  warn('Non-stationary starting seasonal autoregressive'\n",
            "/usr/local/lib/python3.6/dist-packages/statsmodels/tsa/statespace/sarimax.py:981: UserWarning: Non-stationary starting seasonal autoregressive Using zeros as starting parameters.\n",
            "  warn('Non-stationary starting seasonal autoregressive'\n"
          ],
          "name": "stderr"
        },
        {
          "output_type": "stream",
          "text": [
            "Fit ARIMA: order=(3, 0, 3) seasonal_order=(1, 0, 0, 12); AIC=906.677, BIC=920.929, Fit time=0.727 seconds\n"
          ],
          "name": "stdout"
        },
        {
          "output_type": "stream",
          "text": [
            "/usr/local/lib/python3.6/dist-packages/statsmodels/tsa/statespace/sarimax.py:949: UserWarning: Non-stationary starting autoregressive parameters found. Using zeros as starting parameters.\n",
            "  warn('Non-stationary starting autoregressive parameters'\n",
            "/usr/local/lib/python3.6/dist-packages/statsmodels/tsa/statespace/sarimax.py:981: UserWarning: Non-stationary starting seasonal autoregressive Using zeros as starting parameters.\n",
            "  warn('Non-stationary starting seasonal autoregressive'\n"
          ],
          "name": "stderr"
        },
        {
          "output_type": "stream",
          "text": [
            "Fit ARIMA: order=(4, 0, 3) seasonal_order=(1, 0, 0, 12); AIC=904.340, BIC=920.175, Fit time=0.563 seconds\n",
            "Total fit time: 5.770 seconds\n"
          ],
          "name": "stdout"
        },
        {
          "output_type": "execute_result",
          "data": {
            "text/plain": [
              "ARIMA(callback=None, disp=0, maxiter=50, method=None, order=(3, 0, 2),\n",
              "      out_of_sample_size=0, scoring='mse', scoring_args={},\n",
              "      seasonal_order=(1, 0, 0, 12), solver='lbfgs', start_params=None,\n",
              "      suppress_warnings=False, transparams=True, trend='c')"
            ]
          },
          "metadata": {
            "tags": []
          },
          "execution_count": 66
        }
      ]
    },
    {
      "cell_type": "code",
      "metadata": {
        "id": "oW8or9EOiAJR",
        "colab_type": "code",
        "outputId": "c7c0b49f-87ef-4f07-8e2a-9b272bcd4df2",
        "colab": {
          "base_uri": "https://localhost:8080/",
          "height": 1000
        }
      },
      "source": [
        "# Using auto_arima again but with BIC info criterion and adf test\n",
        "# Got SARIMA(1, 0, 1)(1, 0, 0, 12)\n",
        "\n",
        "auto_arima(train_sales_permonth, test =  'adf', m = 12, stepwise = True, trace = True,\n",
        "           information_criterion = 'bic')"
      ],
      "execution_count": 0,
      "outputs": [
        {
          "output_type": "stream",
          "text": [
            "Fit ARIMA: order=(2, 0, 2) seasonal_order=(1, 0, 1, 12); AIC=nan, BIC=nan, Fit time=nan seconds\n",
            "Fit ARIMA: order=(0, 0, 0) seasonal_order=(0, 0, 0, 12); AIC=927.775, BIC=930.942, Fit time=0.008 seconds\n",
            "Fit ARIMA: order=(1, 0, 0) seasonal_order=(1, 0, 0, 12); AIC=911.237, BIC=917.571, Fit time=0.085 seconds\n",
            "Fit ARIMA: order=(0, 0, 1) seasonal_order=(0, 0, 1, 12); AIC=nan, BIC=nan, Fit time=nan seconds\n",
            "Fit ARIMA: order=(1, 0, 0) seasonal_order=(0, 0, 0, 12); AIC=917.748, BIC=922.499, Fit time=0.020 seconds\n"
          ],
          "name": "stdout"
        },
        {
          "output_type": "stream",
          "text": [
            "/usr/local/lib/python3.6/dist-packages/pyramid/arima/auto.py:864: ModelFitWarning: Unable to fit ARIMA for order=(2, 0, 2) seasonal_order=(1, 0, 1, 12); data is likely non-stationary. (if you do not want to see these warnings, run with error_action=\"ignore\")\n",
            "  ModelFitWarning)\n",
            "/usr/local/lib/python3.6/dist-packages/statsmodels/tsa/statespace/sarimax.py:981: UserWarning: Non-stationary starting seasonal autoregressive Using zeros as starting parameters.\n",
            "  warn('Non-stationary starting seasonal autoregressive'\n",
            "/usr/local/lib/python3.6/dist-packages/pyramid/arima/auto.py:864: ModelFitWarning: Unable to fit ARIMA for order=(0, 0, 1) seasonal_order=(0, 0, 1, 12); data is likely non-stationary. (if you do not want to see these warnings, run with error_action=\"ignore\")\n",
            "  ModelFitWarning)\n",
            "/usr/local/lib/python3.6/dist-packages/statsmodels/tsa/statespace/sarimax.py:981: UserWarning: Non-stationary starting seasonal autoregressive Using zeros as starting parameters.\n",
            "  warn('Non-stationary starting seasonal autoregressive'\n"
          ],
          "name": "stderr"
        },
        {
          "output_type": "stream",
          "text": [
            "Fit ARIMA: order=(1, 0, 0) seasonal_order=(2, 0, 0, 12); AIC=912.098, BIC=920.016, Fit time=0.221 seconds\n",
            "Fit ARIMA: order=(1, 0, 0) seasonal_order=(1, 0, 1, 12); AIC=nan, BIC=nan, Fit time=nan seconds\n",
            "Fit ARIMA: order=(1, 0, 0) seasonal_order=(2, 0, 1, 12); AIC=nan, BIC=nan, Fit time=nan seconds\n",
            "Fit ARIMA: order=(0, 0, 0) seasonal_order=(1, 0, 0, 12); AIC=928.592, BIC=933.343, Fit time=0.044 seconds\n",
            "Fit ARIMA: order=(2, 0, 0) seasonal_order=(1, 0, 0, 12); AIC=912.611, BIC=920.529, Fit time=0.087 seconds\n"
          ],
          "name": "stdout"
        },
        {
          "output_type": "stream",
          "text": [
            "/usr/local/lib/python3.6/dist-packages/pyramid/arima/auto.py:864: ModelFitWarning: Unable to fit ARIMA for order=(1, 0, 0) seasonal_order=(1, 0, 1, 12); data is likely non-stationary. (if you do not want to see these warnings, run with error_action=\"ignore\")\n",
            "  ModelFitWarning)\n",
            "/usr/local/lib/python3.6/dist-packages/pyramid/arima/auto.py:864: ModelFitWarning: Unable to fit ARIMA for order=(1, 0, 0) seasonal_order=(2, 0, 1, 12); data is likely non-stationary. (if you do not want to see these warnings, run with error_action=\"ignore\")\n",
            "  ModelFitWarning)\n",
            "/usr/local/lib/python3.6/dist-packages/statsmodels/tsa/statespace/sarimax.py:981: UserWarning: Non-stationary starting seasonal autoregressive Using zeros as starting parameters.\n",
            "  warn('Non-stationary starting seasonal autoregressive'\n",
            "/usr/local/lib/python3.6/dist-packages/statsmodels/tsa/statespace/sarimax.py:981: UserWarning: Non-stationary starting seasonal autoregressive Using zeros as starting parameters.\n",
            "  warn('Non-stationary starting seasonal autoregressive'\n",
            "/usr/local/lib/python3.6/dist-packages/statsmodels/tsa/statespace/sarimax.py:981: UserWarning: Non-stationary starting seasonal autoregressive Using zeros as starting parameters.\n",
            "  warn('Non-stationary starting seasonal autoregressive'\n"
          ],
          "name": "stderr"
        },
        {
          "output_type": "stream",
          "text": [
            "Fit ARIMA: order=(1, 0, 1) seasonal_order=(1, 0, 0, 12); AIC=907.199, BIC=915.117, Fit time=0.104 seconds\n"
          ],
          "name": "stdout"
        },
        {
          "output_type": "stream",
          "text": [
            "/usr/local/lib/python3.6/dist-packages/statsmodels/tsa/statespace/sarimax.py:981: UserWarning: Non-stationary starting seasonal autoregressive Using zeros as starting parameters.\n",
            "  warn('Non-stationary starting seasonal autoregressive'\n"
          ],
          "name": "stderr"
        },
        {
          "output_type": "stream",
          "text": [
            "Fit ARIMA: order=(2, 0, 2) seasonal_order=(1, 0, 0, 12); AIC=910.274, BIC=921.359, Fit time=0.224 seconds\n",
            "Fit ARIMA: order=(1, 0, 1) seasonal_order=(0, 0, 0, 12); AIC=919.215, BIC=925.549, Fit time=0.029 seconds\n"
          ],
          "name": "stdout"
        },
        {
          "output_type": "stream",
          "text": [
            "/usr/local/lib/python3.6/dist-packages/statsmodels/tsa/statespace/sarimax.py:981: UserWarning: Non-stationary starting seasonal autoregressive Using zeros as starting parameters.\n",
            "  warn('Non-stationary starting seasonal autoregressive'\n"
          ],
          "name": "stderr"
        },
        {
          "output_type": "stream",
          "text": [
            "Fit ARIMA: order=(1, 0, 1) seasonal_order=(2, 0, 0, 12); AIC=909.195, BIC=918.696, Fit time=0.311 seconds\n",
            "Fit ARIMA: order=(1, 0, 1) seasonal_order=(1, 0, 1, 12); AIC=nan, BIC=nan, Fit time=nan seconds\n",
            "Fit ARIMA: order=(1, 0, 1) seasonal_order=(2, 0, 1, 12); AIC=nan, BIC=nan, Fit time=nan seconds\n",
            "Fit ARIMA: order=(0, 0, 1) seasonal_order=(1, 0, 0, 12); AIC=919.281, BIC=925.615, Fit time=0.067 seconds\n"
          ],
          "name": "stdout"
        },
        {
          "output_type": "stream",
          "text": [
            "/usr/local/lib/python3.6/dist-packages/pyramid/arima/auto.py:864: ModelFitWarning: Unable to fit ARIMA for order=(1, 0, 1) seasonal_order=(1, 0, 1, 12); data is likely non-stationary. (if you do not want to see these warnings, run with error_action=\"ignore\")\n",
            "  ModelFitWarning)\n",
            "/usr/local/lib/python3.6/dist-packages/pyramid/arima/auto.py:864: ModelFitWarning: Unable to fit ARIMA for order=(1, 0, 1) seasonal_order=(2, 0, 1, 12); data is likely non-stationary. (if you do not want to see these warnings, run with error_action=\"ignore\")\n",
            "  ModelFitWarning)\n",
            "/usr/local/lib/python3.6/dist-packages/statsmodels/tsa/statespace/sarimax.py:981: UserWarning: Non-stationary starting seasonal autoregressive Using zeros as starting parameters.\n",
            "  warn('Non-stationary starting seasonal autoregressive'\n",
            "/usr/local/lib/python3.6/dist-packages/statsmodels/tsa/statespace/sarimax.py:961: UserWarning: Non-invertible starting MA parameters found. Using zeros as starting parameters.\n",
            "  warn('Non-invertible starting MA parameters found.'\n",
            "/usr/local/lib/python3.6/dist-packages/statsmodels/tsa/statespace/sarimax.py:981: UserWarning: Non-stationary starting seasonal autoregressive Using zeros as starting parameters.\n",
            "  warn('Non-stationary starting seasonal autoregressive'\n"
          ],
          "name": "stderr"
        },
        {
          "output_type": "stream",
          "text": [
            "Fit ARIMA: order=(2, 0, 1) seasonal_order=(1, 0, 0, 12); AIC=905.843, BIC=915.344, Fit time=0.318 seconds\n",
            "Fit ARIMA: order=(1, 0, 2) seasonal_order=(1, 0, 0, 12); AIC=910.103, BIC=919.604, Fit time=0.190 seconds\n",
            "Total fit time: 1.741 seconds\n"
          ],
          "name": "stdout"
        },
        {
          "output_type": "stream",
          "text": [
            "/usr/local/lib/python3.6/dist-packages/statsmodels/tsa/statespace/sarimax.py:981: UserWarning: Non-stationary starting seasonal autoregressive Using zeros as starting parameters.\n",
            "  warn('Non-stationary starting seasonal autoregressive'\n"
          ],
          "name": "stderr"
        },
        {
          "output_type": "execute_result",
          "data": {
            "text/plain": [
              "ARIMA(callback=None, disp=0, maxiter=50, method=None, order=(1, 0, 1),\n",
              "      out_of_sample_size=0, scoring='mse', scoring_args={},\n",
              "      seasonal_order=(1, 0, 0, 12), solver='lbfgs', start_params=None,\n",
              "      suppress_warnings=False, transparams=True, trend='c')"
            ]
          },
          "metadata": {
            "tags": []
          },
          "execution_count": 67
        }
      ]
    },
    {
      "cell_type": "markdown",
      "metadata": {
        "id": "izP_VmIlHFfQ",
        "colab_type": "text"
      },
      "source": [
        "## SARIMA Model Fit With Train & Test Data Between Two Models"
      ]
    },
    {
      "cell_type": "markdown",
      "metadata": {
        "id": "HfWN-II0Jmla",
        "colab_type": "text"
      },
      "source": [
        "I want to compare three different models I got from `auto.arima`. These three are:\n",
        "\n",
        "1. SARIMA(2, 1, 0)(1, 0, 0, 12) with kpps stationarity test and AIC info criterion\n",
        "2. SARIMA(3, 0, 2)(1, 0, 0, 12) with adf stationarity test and AIC info criterion\n",
        "3. SARIMA(1, 0, 1)(1, 0, 0, 12) with adf stationarity test and BIC info criterion\n",
        "\n",
        "I want to use the Adjusted Dickey Fuller (adf) test for stationarity as I am familiar with it. Also, I am preferring a model with a lower BIC.\n",
        "\n",
        "But let's look at models 2 and 3 for prediction scores. "
      ]
    },
    {
      "cell_type": "code",
      "metadata": {
        "id": "c-GlgSLkJ_h4",
        "colab_type": "code",
        "colab": {}
      },
      "source": [
        "import statsmodels.api as sm"
      ],
      "execution_count": 0,
      "outputs": []
    },
    {
      "cell_type": "markdown",
      "metadata": {
        "id": "Q0ARZaN4530s",
        "colab_type": "text"
      },
      "source": [
        "Metrics to Consider After Model Fit\n",
        "\n",
        "1. Mean Squared Error Between Actual & Predicted\n",
        "2. Mean Absolute Percentage Error (MAPE)\n",
        "3. Correlation Between Predicted & Actual Values\n",
        "\n",
        "* `mape = np.mean(np.abs(forecast - actual)/np.abs(actual))  # MAPE`\n",
        "* `corr = np.corrcoef(forecast, actual)[0,1]   # corr`"
      ]
    },
    {
      "cell_type": "code",
      "metadata": {
        "id": "ZqDgu9qW7f7A",
        "colab_type": "code",
        "outputId": "9fabe576-4349-435a-fbbe-a12523cbb639",
        "colab": {
          "base_uri": "https://localhost:8080/",
          "height": 140
        }
      },
      "source": [
        "# Look at data:\n",
        "\n",
        "sales_permonth.head()"
      ],
      "execution_count": 0,
      "outputs": [
        {
          "output_type": "execute_result",
          "data": {
            "text/plain": [
              "Order_Date_Month\n",
              "2015-01-01     98898.48886\n",
              "2015-02-01     91152.15698\n",
              "2015-03-01    145729.36736\n",
              "2015-04-01    116915.76418\n",
              "2015-05-01    146747.83610\n",
              "Name: Sales, dtype: float64"
            ]
          },
          "metadata": {
            "tags": []
          },
          "execution_count": 69
        }
      ]
    },
    {
      "cell_type": "markdown",
      "metadata": {
        "id": "XkwIkbGrQf3j",
        "colab_type": "text"
      },
      "source": [
        "### Fit SARIMA(3, 0, 2)(1, 0, 0, 12) On Train Data"
      ]
    },
    {
      "cell_type": "code",
      "metadata": {
        "id": "GrQhzbjwIeIk",
        "colab_type": "code",
        "colab": {}
      },
      "source": [
        "import statsmodels.api as sm"
      ],
      "execution_count": 0,
      "outputs": []
    },
    {
      "cell_type": "code",
      "metadata": {
        "id": "JHeW0GOdIS2J",
        "colab_type": "code",
        "outputId": "bb80b6f4-963c-45b1-88f8-c5f61347ef34",
        "colab": {
          "base_uri": "https://localhost:8080/",
          "height": 292
        }
      },
      "source": [
        "# Reference: https://www.datasciencesmachinelearning.com/2019/01/arimasarima-in-python.html\n",
        "\n",
        "sarima_302_train_sales = sm.tsa.statespace.SARIMAX(train_sales_permonth,\n",
        "                                       order = (3, 0, 2),\n",
        "                                       seasonal_order = (1, 0, 0, 12),\n",
        "                                       enforce_stationarity = False,\n",
        "                                       enforce_invertibility = False)\n",
        "\n",
        "results_302_train_sales = sarima_302_train.fit()\n",
        "\n",
        "print(results_302_train_sales.summary())"
      ],
      "execution_count": 0,
      "outputs": [
        {
          "output_type": "stream",
          "text": [
            "/usr/local/lib/python3.6/dist-packages/statsmodels/tsa/base/tsa_model.py:165: ValueWarning: No frequency information was provided, so inferred frequency MS will be used.\n",
            "  % freq, ValueWarning)\n"
          ],
          "name": "stderr"
        },
        {
          "output_type": "error",
          "ename": "NameError",
          "evalue": "ignored",
          "traceback": [
            "\u001b[0;31m---------------------------------------------------------------------------\u001b[0m",
            "\u001b[0;31mNameError\u001b[0m                                 Traceback (most recent call last)",
            "\u001b[0;32m<ipython-input-71-3940103e5b1f>\u001b[0m in \u001b[0;36m<module>\u001b[0;34m()\u001b[0m\n\u001b[1;32m      6\u001b[0m                                        enforce_invertibility = False)\n\u001b[1;32m      7\u001b[0m \u001b[0;34m\u001b[0m\u001b[0m\n\u001b[0;32m----> 8\u001b[0;31m \u001b[0mresults_302_train_sales\u001b[0m \u001b[0;34m=\u001b[0m \u001b[0msarima_302_train\u001b[0m\u001b[0;34m.\u001b[0m\u001b[0mfit\u001b[0m\u001b[0;34m(\u001b[0m\u001b[0;34m)\u001b[0m\u001b[0;34m\u001b[0m\u001b[0;34m\u001b[0m\u001b[0m\n\u001b[0m\u001b[1;32m      9\u001b[0m \u001b[0;34m\u001b[0m\u001b[0m\n\u001b[1;32m     10\u001b[0m \u001b[0mprint\u001b[0m\u001b[0;34m(\u001b[0m\u001b[0mresults_302_train_sales\u001b[0m\u001b[0;34m.\u001b[0m\u001b[0msummary\u001b[0m\u001b[0;34m(\u001b[0m\u001b[0;34m)\u001b[0m\u001b[0;34m)\u001b[0m\u001b[0;34m\u001b[0m\u001b[0;34m\u001b[0m\u001b[0m\n",
            "\u001b[0;31mNameError\u001b[0m: name 'sarima_302_train' is not defined"
          ]
        }
      ]
    },
    {
      "cell_type": "code",
      "metadata": {
        "id": "uMAuo1qVImI6",
        "colab_type": "code",
        "colab": {}
      },
      "source": [
        "# Model Diganostics (Not sure why it plots twice)\n",
        "# Residuals look okay. \n",
        "\n",
        "results_302_train_sales.plot_diagnostics(figsize = (10, 9))"
      ],
      "execution_count": 0,
      "outputs": []
    },
    {
      "cell_type": "markdown",
      "metadata": {
        "id": "mn_UAyiuQXhL",
        "colab_type": "text"
      },
      "source": [
        "### Forecasts on 2018 Data (Test Data)"
      ]
    },
    {
      "cell_type": "code",
      "metadata": {
        "id": "HgAmYN8aK05J",
        "colab_type": "code",
        "colab": {}
      },
      "source": [
        "# Use .get_forecast to obtain forecasts.\n",
        "\n",
        "forecasts_sales302 = results_302_train_sales.get_forecast(steps = 12)\n",
        "\n",
        "forecasts_sales302.summary_frame()"
      ],
      "execution_count": 0,
      "outputs": []
    },
    {
      "cell_type": "code",
      "metadata": {
        "id": "S16dGV-oMOTO",
        "colab_type": "code",
        "colab": {}
      },
      "source": [
        "# Obtain forecasts from mean column.\n",
        "\n",
        "forecasts_meansales302 = forecasts_sales302.summary_frame()['mean']\n",
        "\n",
        "forecasts_meansales302"
      ],
      "execution_count": 0,
      "outputs": []
    },
    {
      "cell_type": "markdown",
      "metadata": {
        "id": "U9GZuihsNTK6",
        "colab_type": "text"
      },
      "source": [
        "##### RMSE, Correlation & Mean Abs. Pct Error"
      ]
    },
    {
      "cell_type": "code",
      "metadata": {
        "id": "QbuO6jOyNZ2y",
        "colab_type": "code",
        "colab": {}
      },
      "source": [
        "# Root Mean Squared Error:\n",
        "\n",
        "mse_302 = np.mean((forecasts_meansales302 - test_sales_permonth)**2)\n",
        "\n",
        "rmse_302 = mse_302 ** 0.5\n",
        "\n",
        "rmse_302"
      ],
      "execution_count": 0,
      "outputs": []
    },
    {
      "cell_type": "code",
      "metadata": {
        "id": "l_0UuK0tNpfR",
        "colab_type": "code",
        "colab": {}
      },
      "source": [
        "# Correlation Between Forecasted 2018 Values & Actual 2018 Sales Per Month\n",
        "\n",
        "corr_302 = np.corrcoef(forecasts_meansales302, test_sales_permonth)[0, 1]\n",
        "\n",
        "corr_302"
      ],
      "execution_count": 0,
      "outputs": []
    },
    {
      "cell_type": "code",
      "metadata": {
        "id": "IV1b8aQ7OmEO",
        "colab_type": "code",
        "colab": {}
      },
      "source": [
        "# Mean Absolute Percentage Error\n",
        "\n",
        "mean_abs_percent_error_302 = np.mean(np.abs(forecasts_meansales302 - test_sales_permonth)/np.abs(test_sales_permonth)) \n",
        "\n",
        "mean_abs_percent_error_302"
      ],
      "execution_count": 0,
      "outputs": []
    },
    {
      "cell_type": "markdown",
      "metadata": {
        "id": "UuX05AakPlQ4",
        "colab_type": "text"
      },
      "source": [
        "### Fit SARIMA(1, 0, 1)(1, 0, 0, 12) On Train Data"
      ]
    },
    {
      "cell_type": "code",
      "metadata": {
        "id": "UfBZFgD6Pg_u",
        "colab_type": "code",
        "colab": {}
      },
      "source": [
        "# Reference: https://www.datasciencesmachinelearning.com/2019/01/arimasarima-in-python.html\n",
        "\n",
        "sarima_101_train_sales = sm.tsa.statespace.SARIMAX(train_sales_permonth,\n",
        "                                       order = (1, 0, 1),\n",
        "                                       seasonal_order = (1, 0, 0, 12),\n",
        "                                       enforce_stationarity = False,\n",
        "                                       enforce_invertibility = False)\n",
        "\n",
        "results_101_train_sales = sarima_101_train_sales.fit()\n",
        "\n",
        "print(results_101_train_sales.summary())"
      ],
      "execution_count": 0,
      "outputs": []
    },
    {
      "cell_type": "code",
      "metadata": {
        "id": "nJ9Va-BPP4Yg",
        "colab_type": "code",
        "colab": {}
      },
      "source": [
        "# Model Diganostics (Not sure why it plots twice)\n",
        "# Residuals look okay. \n",
        "\n",
        "results_101_train_sales.plot_diagnostics(figsize = (10, 9))"
      ],
      "execution_count": 0,
      "outputs": []
    },
    {
      "cell_type": "markdown",
      "metadata": {
        "id": "U1a0kcEdltmG",
        "colab_type": "text"
      },
      "source": [
        "### Forecasts On Test Data"
      ]
    },
    {
      "cell_type": "code",
      "metadata": {
        "id": "--R6k9JhQ3YG",
        "colab_type": "code",
        "colab": {}
      },
      "source": [
        "forecasts_sales101 = results_101_train_sales.get_forecast(steps = 12)\n",
        "\n",
        "forecasts_sales101.summary_frame()"
      ],
      "execution_count": 0,
      "outputs": []
    },
    {
      "cell_type": "code",
      "metadata": {
        "id": "tE6QKp8dRRjI",
        "colab_type": "code",
        "colab": {}
      },
      "source": [
        "# Obtain means from forecasts:\n",
        "\n",
        "forecasts_meansales101 = forecasts_sales101.summary_frame()['mean']\n",
        "\n",
        "forecasts_meansales101"
      ],
      "execution_count": 0,
      "outputs": []
    },
    {
      "cell_type": "markdown",
      "metadata": {
        "id": "OBres7-uRZ_n",
        "colab_type": "text"
      },
      "source": [
        "##### RMSE, Correlation & Mean Abs. Pct Error \n"
      ]
    },
    {
      "cell_type": "code",
      "metadata": {
        "id": "t2IHwm_yReYG",
        "colab_type": "code",
        "colab": {}
      },
      "source": [
        "# Root Mean Squared Error:\n",
        "\n",
        "mse_101 = np.mean((forecasts_meansales101 - test_sales_permonth)**2)\n",
        "\n",
        "rmse_101 = mse_101 ** 0.5\n",
        "\n",
        "rmse_101"
      ],
      "execution_count": 0,
      "outputs": []
    },
    {
      "cell_type": "code",
      "metadata": {
        "id": "GGbGzbvLSd44",
        "colab_type": "code",
        "colab": {}
      },
      "source": [
        "# Correlation Between Forecasted 2018 Values & Actual 2018 Sales Per Month\n",
        "\n",
        "corr_101 = np.corrcoef(forecasts_meansales101, test_sales_permonth)\n",
        "\n",
        "corr_101"
      ],
      "execution_count": 0,
      "outputs": []
    },
    {
      "cell_type": "code",
      "metadata": {
        "id": "mAaFnT1YSs0v",
        "colab_type": "code",
        "colab": {}
      },
      "source": [
        "# Mean Absolute Percentage Error\n",
        "\n",
        "mean_abs_percent_error_101 = np.mean(np.abs(forecasts_meansales101 - test_sales_permonth)/np.abs(test_sales_permonth)) \n",
        "\n",
        "mean_abs_percent_error_101"
      ],
      "execution_count": 0,
      "outputs": []
    },
    {
      "cell_type": "markdown",
      "metadata": {
        "id": "HOe4LVgO48qB",
        "colab_type": "text"
      },
      "source": [
        "# Choosing SARIMA(1, 0, 1)(1, 0, 0, 12) For Monthly Sales"
      ]
    },
    {
      "cell_type": "markdown",
      "metadata": {
        "id": "mWTI4gAU5F5u",
        "colab_type": "text"
      },
      "source": [
        "I am choosing the SARIMA(1, 0, 1)(1, 0, 0, 12) model as it consistently predicts better than the SARIMA(3, 0, 2)(1, 0, 0, 12) model. The Root Mean Squared Error is lower and the mean absolute percent error is lower in SARIMA(1, 0, 1)(1, 0, 0, 12) vs SARIMA(3, 0, 2)(1, 0, 0, 12)."
      ]
    },
    {
      "cell_type": "markdown",
      "metadata": {
        "id": "IN_7YV0wnc4V",
        "colab_type": "text"
      },
      "source": [
        "Put chart of model diagnostics."
      ]
    },
    {
      "cell_type": "code",
      "metadata": {
        "id": "YH9GeJ-Qg0KE",
        "colab_type": "code",
        "colab": {}
      },
      "source": [
        "# Reference: https://www.datasciencesmachinelearning.com/2019/01/arimasarima-in-python.html\n",
        "\n",
        "sarima_sales_101 = sm.tsa.statespace.SARIMAX(sales_permonth,\n",
        "                                       order = (1, 0, 1),\n",
        "                                       seasonal_order = (1, 0, 0, 12),\n",
        "                                       enforce_stationarity = False,\n",
        "                                       enforce_invertibility = False)\n",
        "\n",
        "results_sales_101 = sarima_sales_101 .fit()\n",
        "\n",
        "print(results_sales_101.summary())"
      ],
      "execution_count": 0,
      "outputs": []
    },
    {
      "cell_type": "code",
      "metadata": {
        "id": "vgd-CD-kg9nX",
        "colab_type": "code",
        "colab": {}
      },
      "source": [
        "# Model Diganostics (Not sure why it plots twice)\n",
        "\n",
        "results_sales_101.plot_diagnostics(figsize = (10, 9))"
      ],
      "execution_count": 0,
      "outputs": []
    },
    {
      "cell_type": "markdown",
      "metadata": {
        "id": "V0qA9b1nhUzJ",
        "colab_type": "text"
      },
      "source": [
        "## Forecasts On Overall Monthly Sales"
      ]
    },
    {
      "cell_type": "code",
      "metadata": {
        "id": "269ZTZu-hT-d",
        "colab_type": "code",
        "colab": {}
      },
      "source": [
        "forecasts_sales101 = results_sales_101.get_forecast(steps = 12)\n",
        "\n",
        "forecasts_sales101.summary_frame()"
      ],
      "execution_count": 0,
      "outputs": []
    },
    {
      "cell_type": "code",
      "metadata": {
        "id": "2KBonziLif1-",
        "colab_type": "code",
        "colab": {}
      },
      "source": [
        "# Obtain means from forecasts:\n",
        "\n",
        "forecasts_meansales101 = forecasts_sales101.summary_frame()['mean']\n",
        "\n",
        "forecasts_meansales101"
      ],
      "execution_count": 0,
      "outputs": []
    },
    {
      "cell_type": "code",
      "metadata": {
        "id": "XnWkiboXzBxf",
        "colab_type": "code",
        "colab": {}
      },
      "source": [
        "# Sales per month before 2019:\n",
        "\n",
        "sales_permonth_pre2019 = sales_permonth[sales_permonth.index < '2019-01-01']\n",
        "\n",
        "sales_permonth_pre2019.tail()"
      ],
      "execution_count": 0,
      "outputs": []
    },
    {
      "cell_type": "code",
      "metadata": {
        "id": "YqSAIsxoi49b",
        "colab_type": "code",
        "colab": {}
      },
      "source": [
        "# Monthly sales before 2019 and including the forecasted \n",
        "# January 2019 sales (to connect lines in plot)\n",
        "\n",
        "sales_mth_pre2019 = sales_permonth_pre2019.append(forecasts_meansales101.head(1))\n",
        "\n",
        "sales_mth_pre2019.tail()"
      ],
      "execution_count": 0,
      "outputs": []
    },
    {
      "cell_type": "code",
      "metadata": {
        "id": "sUmYIwZ6jHzr",
        "colab_type": "code",
        "colab": {}
      },
      "source": [
        "# Line Plots (Blue is historical data, green is forecasted)\n",
        "\n",
        "sns.lineplot(x = sales_mth_pre2019.index, y = sales_mth_pre2019, color = 'blue')\n",
        "sns.lineplot(x = forecasts_meansales101.index, y = forecasts_meansales101, color = 'green')\n",
        "#plt.axvline(pd.Timestamp('2019-01-01'), color= 'green', alpha = 0.5)"
      ],
      "execution_count": 0,
      "outputs": []
    }
  ]
}