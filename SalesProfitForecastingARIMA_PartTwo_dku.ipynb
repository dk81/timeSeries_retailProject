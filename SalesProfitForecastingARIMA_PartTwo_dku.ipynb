{
  "nbformat": 4,
  "nbformat_minor": 0,
  "metadata": {
    "colab": {
      "name": "SalesProfitForecastingARIMA_PartTwo_dku.ipynb",
      "provenance": [],
      "collapsed_sections": [],
      "toc_visible": true
    },
    "kernelspec": {
      "name": "python3",
      "display_name": "Python 3"
    }
  },
  "cells": [
    {
      "cell_type": "markdown",
      "metadata": {
        "id": "eAHJyVt1wvuV",
        "colab_type": "text"
      },
      "source": [
        "# Part Two - SARIMA On Monthly Sales & Monthly Profits\n",
        "\n",
        "**Background:**\n",
        "\n",
        "1000ml Retail wants help forecasting their Q3 sales and profit.\n",
        "\n",
        "**Objective:**\n",
        "They would like to know sales and profit by category by month.\n",
        "\n",
        "**Deliverable:**\n",
        "A 10 min presentation outlining your methodology, reasoning and findings to the (global) sales team.\n",
        "\n",
        "This presentation should provide actionable information."
      ]
    },
    {
      "cell_type": "markdown",
      "metadata": {
        "id": "hTd3hjc_mAIZ",
        "colab_type": "text"
      },
      "source": [
        "# References\n",
        "\n",
        "* [School Years In Different Countries](https://www.infoplease.com/world/world-statistics/school-years-around-world)\n",
        "* Angloinfo website has been helpful for school years. Quarter three (Q3) is July, August and September which is back to school season for many countries."
      ]
    },
    {
      "cell_type": "code",
      "metadata": {
        "id": "KYv4RgI4xBG8",
        "colab_type": "code",
        "colab": {}
      },
      "source": [
        "# Import packages\n",
        "\n",
        "import pandas as pd\n",
        "import numpy as np\n",
        "import matplotlib.pyplot as plt\n",
        "import seaborn as sns\n",
        "import datetime\n",
        "\n",
        "import statsmodels.api as sm"
      ],
      "execution_count": 0,
      "outputs": []
    },
    {
      "cell_type": "code",
      "metadata": {
        "id": "S8RUxLujyTPS",
        "colab_type": "code",
        "outputId": "5022d9fb-d8f0-4510-b81e-01c60df2c341",
        "colab": {
          "base_uri": "https://localhost:8080/",
          "height": 125
        }
      },
      "source": [
        "from google.colab import drive\n",
        "\n",
        "drive.mount('/content/gdrive', force_remount = False)"
      ],
      "execution_count": 3,
      "outputs": [
        {
          "output_type": "stream",
          "text": [
            "Go to this URL in a browser: https://accounts.google.com/o/oauth2/auth?client_id=947318989803-6bn6qk8qdgf4n4g3pfee6491hc0brc4i.apps.googleusercontent.com&redirect_uri=urn%3Aietf%3Awg%3Aoauth%3A2.0%3Aoob&scope=email%20https%3A%2F%2Fwww.googleapis.com%2Fauth%2Fdocs.test%20https%3A%2F%2Fwww.googleapis.com%2Fauth%2Fdrive%20https%3A%2F%2Fwww.googleapis.com%2Fauth%2Fdrive.photos.readonly%20https%3A%2F%2Fwww.googleapis.com%2Fauth%2Fpeopleapi.readonly&response_type=code\n",
            "\n",
            "Enter your authorization code:\n",
            "··········\n",
            "Mounted at /content/gdrive\n"
          ],
          "name": "stdout"
        }
      ]
    },
    {
      "cell_type": "code",
      "metadata": {
        "id": "2ck7Upz0yU1O",
        "colab_type": "code",
        "outputId": "cf52640c-c0ad-45a2-9df0-9bfdce4357b8",
        "colab": {
          "base_uri": "https://localhost:8080/",
          "height": 568
        }
      },
      "source": [
        "# Load in data with pandas.\n",
        "\n",
        "retail_data = pd.read_csv('/content/gdrive/My Drive/1000mlRetail.csv')\n",
        "\n",
        "# Preview retail data.\n",
        "retail_data.head()"
      ],
      "execution_count": 4,
      "outputs": [
        {
          "output_type": "execute_result",
          "data": {
            "text/html": [
              "<div>\n",
              "<style scoped>\n",
              "    .dataframe tbody tr th:only-of-type {\n",
              "        vertical-align: middle;\n",
              "    }\n",
              "\n",
              "    .dataframe tbody tr th {\n",
              "        vertical-align: top;\n",
              "    }\n",
              "\n",
              "    .dataframe thead th {\n",
              "        text-align: right;\n",
              "    }\n",
              "</style>\n",
              "<table border=\"1\" class=\"dataframe\">\n",
              "  <thead>\n",
              "    <tr style=\"text-align: right;\">\n",
              "      <th></th>\n",
              "      <th>Row ID</th>\n",
              "      <th>Order ID</th>\n",
              "      <th>Order Date</th>\n",
              "      <th>Ship Date</th>\n",
              "      <th>Ship Mode</th>\n",
              "      <th>Customer ID</th>\n",
              "      <th>Customer Name</th>\n",
              "      <th>Segment</th>\n",
              "      <th>City</th>\n",
              "      <th>State</th>\n",
              "      <th>Country</th>\n",
              "      <th>Postal Code</th>\n",
              "      <th>Market</th>\n",
              "      <th>Region</th>\n",
              "      <th>Product ID</th>\n",
              "      <th>Category</th>\n",
              "      <th>Sub-Category</th>\n",
              "      <th>Product Name</th>\n",
              "      <th>Sales</th>\n",
              "      <th>Quantity</th>\n",
              "      <th>Discount</th>\n",
              "      <th>Profit</th>\n",
              "      <th>Shipping Cost</th>\n",
              "      <th>Order Priority</th>\n",
              "    </tr>\n",
              "  </thead>\n",
              "  <tbody>\n",
              "    <tr>\n",
              "      <th>0</th>\n",
              "      <td>32298</td>\n",
              "      <td>CA-2016-124891</td>\n",
              "      <td>2016-07-31</td>\n",
              "      <td>2016-07-31</td>\n",
              "      <td>Same Day</td>\n",
              "      <td>RH-19495</td>\n",
              "      <td>Rick Hansen</td>\n",
              "      <td>Consumer</td>\n",
              "      <td>New York City</td>\n",
              "      <td>New York</td>\n",
              "      <td>United States</td>\n",
              "      <td>10024.0</td>\n",
              "      <td>US</td>\n",
              "      <td>East</td>\n",
              "      <td>TEC-AC-10003033</td>\n",
              "      <td>Technology</td>\n",
              "      <td>Accessories</td>\n",
              "      <td>Plantronics CS510 - Over-the-Head monaural Wir...</td>\n",
              "      <td>2309.650</td>\n",
              "      <td>7</td>\n",
              "      <td>0.0</td>\n",
              "      <td>762.1845</td>\n",
              "      <td>933.57</td>\n",
              "      <td>Critical</td>\n",
              "    </tr>\n",
              "    <tr>\n",
              "      <th>1</th>\n",
              "      <td>26341</td>\n",
              "      <td>IN-2017-77878</td>\n",
              "      <td>2017-02-05</td>\n",
              "      <td>2017-02-07</td>\n",
              "      <td>Second Class</td>\n",
              "      <td>JR-16210</td>\n",
              "      <td>Justin Ritter</td>\n",
              "      <td>Corporate</td>\n",
              "      <td>Wollongong</td>\n",
              "      <td>New South Wales</td>\n",
              "      <td>Australia</td>\n",
              "      <td>NaN</td>\n",
              "      <td>APAC</td>\n",
              "      <td>Oceania</td>\n",
              "      <td>FUR-CH-10003950</td>\n",
              "      <td>Furniture</td>\n",
              "      <td>Chairs</td>\n",
              "      <td>Novimex Executive Leather Armchair, Black</td>\n",
              "      <td>3709.395</td>\n",
              "      <td>9</td>\n",
              "      <td>0.1</td>\n",
              "      <td>-288.7650</td>\n",
              "      <td>923.63</td>\n",
              "      <td>Critical</td>\n",
              "    </tr>\n",
              "    <tr>\n",
              "      <th>2</th>\n",
              "      <td>25330</td>\n",
              "      <td>IN-2017-71249</td>\n",
              "      <td>2017-10-17</td>\n",
              "      <td>2017-10-18</td>\n",
              "      <td>First Class</td>\n",
              "      <td>CR-12730</td>\n",
              "      <td>Craig Reiter</td>\n",
              "      <td>Consumer</td>\n",
              "      <td>Brisbane</td>\n",
              "      <td>Queensland</td>\n",
              "      <td>Australia</td>\n",
              "      <td>NaN</td>\n",
              "      <td>APAC</td>\n",
              "      <td>Oceania</td>\n",
              "      <td>TEC-PH-10004664</td>\n",
              "      <td>Technology</td>\n",
              "      <td>Phones</td>\n",
              "      <td>Nokia Smart Phone, with Caller ID</td>\n",
              "      <td>5175.171</td>\n",
              "      <td>9</td>\n",
              "      <td>0.1</td>\n",
              "      <td>919.9710</td>\n",
              "      <td>915.49</td>\n",
              "      <td>Medium</td>\n",
              "    </tr>\n",
              "    <tr>\n",
              "      <th>3</th>\n",
              "      <td>13524</td>\n",
              "      <td>ES-2017-1579342</td>\n",
              "      <td>2017-01-28</td>\n",
              "      <td>2017-01-30</td>\n",
              "      <td>First Class</td>\n",
              "      <td>KM-16375</td>\n",
              "      <td>Katherine Murray</td>\n",
              "      <td>Home Office</td>\n",
              "      <td>Berlin</td>\n",
              "      <td>Berlin</td>\n",
              "      <td>Germany</td>\n",
              "      <td>NaN</td>\n",
              "      <td>EU</td>\n",
              "      <td>Central</td>\n",
              "      <td>TEC-PH-10004583</td>\n",
              "      <td>Technology</td>\n",
              "      <td>Phones</td>\n",
              "      <td>Motorola Smart Phone, Cordless</td>\n",
              "      <td>2892.510</td>\n",
              "      <td>5</td>\n",
              "      <td>0.1</td>\n",
              "      <td>-96.5400</td>\n",
              "      <td>910.16</td>\n",
              "      <td>Medium</td>\n",
              "    </tr>\n",
              "    <tr>\n",
              "      <th>4</th>\n",
              "      <td>47221</td>\n",
              "      <td>SG-2017-4320</td>\n",
              "      <td>2017-11-05</td>\n",
              "      <td>2017-11-06</td>\n",
              "      <td>Same Day</td>\n",
              "      <td>RH-9495</td>\n",
              "      <td>Rick Hansen</td>\n",
              "      <td>Consumer</td>\n",
              "      <td>Dakar</td>\n",
              "      <td>Dakar</td>\n",
              "      <td>Senegal</td>\n",
              "      <td>NaN</td>\n",
              "      <td>Africa</td>\n",
              "      <td>Africa</td>\n",
              "      <td>TEC-SHA-10000501</td>\n",
              "      <td>Technology</td>\n",
              "      <td>Copiers</td>\n",
              "      <td>Sharp Wireless Fax, High-Speed</td>\n",
              "      <td>2832.960</td>\n",
              "      <td>8</td>\n",
              "      <td>0.0</td>\n",
              "      <td>311.5200</td>\n",
              "      <td>903.04</td>\n",
              "      <td>Critical</td>\n",
              "    </tr>\n",
              "  </tbody>\n",
              "</table>\n",
              "</div>"
            ],
            "text/plain": [
              "   Row ID         Order ID  Order Date  ...    Profit Shipping Cost Order Priority\n",
              "0   32298   CA-2016-124891  2016-07-31  ...  762.1845        933.57       Critical\n",
              "1   26341    IN-2017-77878  2017-02-05  ... -288.7650        923.63       Critical\n",
              "2   25330    IN-2017-71249  2017-10-17  ...  919.9710        915.49         Medium\n",
              "3   13524  ES-2017-1579342  2017-01-28  ...  -96.5400        910.16         Medium\n",
              "4   47221     SG-2017-4320  2017-11-05  ...  311.5200        903.04       Critical\n",
              "\n",
              "[5 rows x 24 columns]"
            ]
          },
          "metadata": {
            "tags": []
          },
          "execution_count": 4
        }
      ]
    },
    {
      "cell_type": "markdown",
      "metadata": {
        "id": "ADWnSjpdW1KQ",
        "colab_type": "text"
      },
      "source": [
        "## Convert Times To DateTime"
      ]
    },
    {
      "cell_type": "code",
      "metadata": {
        "id": "LmD_btjotl0b",
        "colab_type": "code",
        "colab": {}
      },
      "source": [
        "retail_data['Order Date'] = pd.to_datetime(retail_data['Order Date'])\n",
        "\n",
        "retail_data['Ship Date'] = pd.to_datetime(retail_data['Ship Date'])"
      ],
      "execution_count": 0,
      "outputs": []
    },
    {
      "cell_type": "code",
      "metadata": {
        "id": "gw69HVdmvq_T",
        "colab_type": "code",
        "outputId": "362dbad3-4071-4600-82b4-049df1c39fdb",
        "colab": {
          "base_uri": "https://localhost:8080/",
          "height": 527
        }
      },
      "source": [
        "# Check that Order Date & Ship Date are indeed datetimes.\n",
        "\n",
        "retail_data.info()"
      ],
      "execution_count": 6,
      "outputs": [
        {
          "output_type": "stream",
          "text": [
            "<class 'pandas.core.frame.DataFrame'>\n",
            "RangeIndex: 51290 entries, 0 to 51289\n",
            "Data columns (total 24 columns):\n",
            "Row ID            51290 non-null int64\n",
            "Order ID          51290 non-null object\n",
            "Order Date        51290 non-null datetime64[ns]\n",
            "Ship Date         51290 non-null datetime64[ns]\n",
            "Ship Mode         51290 non-null object\n",
            "Customer ID       51290 non-null object\n",
            "Customer Name     51290 non-null object\n",
            "Segment           51290 non-null object\n",
            "City              51290 non-null object\n",
            "State             51290 non-null object\n",
            "Country           51290 non-null object\n",
            "Postal Code       9994 non-null float64\n",
            "Market            51290 non-null object\n",
            "Region            51290 non-null object\n",
            "Product ID        51290 non-null object\n",
            "Category          51290 non-null object\n",
            "Sub-Category      51290 non-null object\n",
            "Product Name      51290 non-null object\n",
            "Sales             51290 non-null float64\n",
            "Quantity          51290 non-null int64\n",
            "Discount          51290 non-null float64\n",
            "Profit            51290 non-null float64\n",
            "Shipping Cost     51290 non-null float64\n",
            "Order Priority    51290 non-null object\n",
            "dtypes: datetime64[ns](2), float64(5), int64(2), object(15)\n",
            "memory usage: 9.4+ MB\n"
          ],
          "name": "stdout"
        }
      ]
    },
    {
      "cell_type": "code",
      "metadata": {
        "id": "ex3jzL5UUwsR",
        "colab_type": "code",
        "outputId": "9c7f26dc-f487-47ad-ad7d-01be84672788",
        "colab": {
          "base_uri": "https://localhost:8080/",
          "height": 140
        }
      },
      "source": [
        "# Look at Order Date info.\n",
        "\n",
        "retail_data['Order Date'].describe()"
      ],
      "execution_count": 7,
      "outputs": [
        {
          "output_type": "execute_result",
          "data": {
            "text/plain": [
              "count                   51290\n",
              "unique                   1430\n",
              "top       2018-06-18 00:00:00\n",
              "freq                      135\n",
              "first     2015-01-01 00:00:00\n",
              "last      2018-12-31 00:00:00\n",
              "Name: Order Date, dtype: object"
            ]
          },
          "metadata": {
            "tags": []
          },
          "execution_count": 7
        }
      ]
    },
    {
      "cell_type": "code",
      "metadata": {
        "id": "4wB5pwdqU9C4",
        "colab_type": "code",
        "outputId": "32f5a521-be6e-4117-e52b-822168e33d1c",
        "colab": {
          "base_uri": "https://localhost:8080/",
          "height": 140
        }
      },
      "source": [
        "# Look at Ship Date info.\n",
        "\n",
        "retail_data['Ship Date'].describe()"
      ],
      "execution_count": 8,
      "outputs": [
        {
          "output_type": "execute_result",
          "data": {
            "text/plain": [
              "count                   51290\n",
              "unique                   1460\n",
              "top       2018-11-22 00:00:00\n",
              "freq                      130\n",
              "first     2015-01-01 00:00:00\n",
              "last      2018-12-31 00:00:00\n",
              "Name: Ship Date, dtype: object"
            ]
          },
          "metadata": {
            "tags": []
          },
          "execution_count": 8
        }
      ]
    },
    {
      "cell_type": "code",
      "metadata": {
        "id": "D2vVAcMO1Kbc",
        "colab_type": "code",
        "colab": {}
      },
      "source": [
        "# Trying groupby on datetimes:\n",
        "# Obtain counts for each month\n",
        "# Reference: https://stackoverflow.com/questions/18233107/pandas-convert-datetime-to-end-of-month\n",
        "\n",
        "retail_data['Order_Date_Month'] = retail_data['Order Date'].astype('datetime64[M]')"
      ],
      "execution_count": 0,
      "outputs": []
    },
    {
      "cell_type": "markdown",
      "metadata": {
        "id": "IcbReVAatp3d",
        "colab_type": "text"
      },
      "source": [
        "## A Look At Profits"
      ]
    },
    {
      "cell_type": "code",
      "metadata": {
        "id": "t8DtMwBDtVS2",
        "colab_type": "code",
        "outputId": "46ebd1ef-9c3d-40a7-f474-0b5b331d3bb7",
        "colab": {
          "base_uri": "https://localhost:8080/",
          "height": 175
        }
      },
      "source": [
        "# Profit Column\n",
        "\n",
        "retail_data['Profit'].describe()"
      ],
      "execution_count": 10,
      "outputs": [
        {
          "output_type": "execute_result",
          "data": {
            "text/plain": [
              "count    51290.000000\n",
              "mean        28.610982\n",
              "std        174.340972\n",
              "min      -6599.978000\n",
              "25%          0.000000\n",
              "50%          9.240000\n",
              "75%         36.810000\n",
              "max       8399.976000\n",
              "Name: Profit, dtype: float64"
            ]
          },
          "metadata": {
            "tags": []
          },
          "execution_count": 10
        }
      ]
    },
    {
      "cell_type": "markdown",
      "metadata": {
        "id": "bubBG1Dy332K",
        "colab_type": "text"
      },
      "source": [
        "### Profits Per Month \n",
        "\n",
        "Profits are the sales minus the costs. Investigating the amount of profits over time for each month."
      ]
    },
    {
      "cell_type": "code",
      "metadata": {
        "id": "W1EbiSI44PFl",
        "colab_type": "code",
        "colab": {}
      },
      "source": [
        "# Group by Month and find total profit for each month:\n",
        "\n",
        "order_profits_monthly = retail_data.groupby(['Order_Date_Month'])['Profit'].sum()"
      ],
      "execution_count": 0,
      "outputs": []
    },
    {
      "cell_type": "code",
      "metadata": {
        "id": "HIl74x6P4afr",
        "colab_type": "code",
        "outputId": "817a7e2c-5ed4-4d57-a3f4-8eb4b5092942",
        "colab": {
          "base_uri": "https://localhost:8080/",
          "height": 140
        }
      },
      "source": [
        "order_profits_monthly.head()"
      ],
      "execution_count": 12,
      "outputs": [
        {
          "output_type": "execute_result",
          "data": {
            "text/plain": [
              "Order_Date_Month\n",
              "2015-01-01     8321.80096\n",
              "2015-02-01    12417.90698\n",
              "2015-03-01    15303.56826\n",
              "2015-04-01    12902.32438\n",
              "2015-05-01    12183.82870\n",
              "Name: Profit, dtype: float64"
            ]
          },
          "metadata": {
            "tags": []
          },
          "execution_count": 12
        }
      ]
    },
    {
      "cell_type": "code",
      "metadata": {
        "id": "kvvdiXiL4Jhu",
        "colab_type": "code",
        "outputId": "91e4ffe0-f80d-408a-9a3d-eb5fb6cf6754",
        "colab": {
          "base_uri": "https://localhost:8080/",
          "height": 351
        }
      },
      "source": [
        "# Monthly Profits On Orders Plot\n",
        "\n",
        "order_profits_monthly.plot()\n",
        "plt.xlabel('\\n Order Date')\n",
        "plt.ylabel('Monthly Profit On Orders ($ USD) \\n')\n",
        "# Vertical lines at start of each year\n",
        "plt.axvline(x = '2016-01-01', linewidth=2, color='red', alpha = 0.2) \n",
        "plt.axvline(x = '2017-01-01', linewidth=2, color='red', alpha = 0.2)\n",
        "plt.axvline(x = '2018-01-01', linewidth=2, color='red', alpha = 0.2)\n",
        "\n",
        "plt.title('Monthly Profits On Orders\\n')"
      ],
      "execution_count": 13,
      "outputs": [
        {
          "output_type": "execute_result",
          "data": {
            "text/plain": [
              "Text(0.5, 1.0, 'Monthly Profits On Orders\\n')"
            ]
          },
          "metadata": {
            "tags": []
          },
          "execution_count": 13
        },
        {
          "output_type": "display_data",
          "data": {
            "image/png": "[encoded data removed]",
            "text/plain": [
              "<Figure size 432x288 with 1 Axes>"
            ]
          },
          "metadata": {
            "tags": []
          }
        }
      ]
    },
    {
      "cell_type": "markdown",
      "metadata": {
        "id": "UTPjLrAYe0wx",
        "colab_type": "text"
      },
      "source": [
        "# ARIMA Model Fit & Forecasting On Monthly Profits (*)"
      ]
    },
    {
      "cell_type": "markdown",
      "metadata": {
        "id": "97hadxnl0g7t",
        "colab_type": "text"
      },
      "source": [
        "## Train-Test Split"
      ]
    },
    {
      "cell_type": "code",
      "metadata": {
        "id": "larjGBOf0tKb",
        "colab_type": "code",
        "outputId": "a6b4c560-7985-4871-ede7-407928ec7989",
        "colab": {
          "base_uri": "https://localhost:8080/",
          "height": 140
        }
      },
      "source": [
        "# Training data is monthly profits from 2015 - 2017 \n",
        "\n",
        "order_profits_mth_train = order_profits_monthly[order_profits_monthly.index < '2018-01-01']\n",
        "\n",
        "order_profits_mth_train.tail()"
      ],
      "execution_count": 14,
      "outputs": [
        {
          "output_type": "execute_result",
          "data": {
            "text/plain": [
              "Order_Date_Month\n",
              "2017-08-01    31023.66846\n",
              "2017-09-01    38905.66778\n",
              "2017-10-01    42433.22258\n",
              "2017-11-01    48062.99670\n",
              "2017-12-01    50202.87112\n",
              "Name: Profit, dtype: float64"
            ]
          },
          "metadata": {
            "tags": []
          },
          "execution_count": 14
        }
      ]
    },
    {
      "cell_type": "code",
      "metadata": {
        "id": "kjTCPPEetM1M",
        "colab_type": "code",
        "outputId": "38813ec9-7768-4b6a-e2b2-3aa835ed5f2c",
        "colab": {
          "base_uri": "https://localhost:8080/",
          "height": 140
        }
      },
      "source": [
        "# Test set is the 2018 year only.\n",
        "\n",
        "order_profits_mth_test = order_profits_monthly[~(order_profits_monthly.index < '2018-01-01')]\n",
        "\n",
        "order_profits_mth_test.head()"
      ],
      "execution_count": 15,
      "outputs": [
        {
          "output_type": "execute_result",
          "data": {
            "text/plain": [
              "Order_Date_Month\n",
              "2018-01-01    28001.38626\n",
              "2018-02-01    19751.69996\n",
              "2018-03-01    37357.26052\n",
              "2018-04-01    23782.30120\n",
              "2018-05-01    33953.55774\n",
              "Name: Profit, dtype: float64"
            ]
          },
          "metadata": {
            "tags": []
          },
          "execution_count": 15
        }
      ]
    },
    {
      "cell_type": "markdown",
      "metadata": {
        "id": "5qB2eOve1cSD",
        "colab_type": "text"
      },
      "source": [
        "## `auto.arima` For Model Selection"
      ]
    },
    {
      "cell_type": "code",
      "metadata": {
        "id": "PtQn2MJ-1uFe",
        "colab_type": "code",
        "outputId": "74d544df-f3e1-4115-bb41-8ab1345a4e1b",
        "colab": {
          "base_uri": "https://localhost:8080/",
          "height": 318
        }
      },
      "source": [
        "pip install pyramid-arima"
      ],
      "execution_count": 16,
      "outputs": [
        {
          "output_type": "stream",
          "text": [
            "Collecting pyramid-arima\n",
            "\u001b[?25l  Downloading https://files.pythonhosted.org/packages/5c/84/57422f2a6ade3161c586545e38b518ba1b7ab30ee4a4acc29110c0aba2bc/pyramid_arima-0.9.0-cp36-cp36m-manylinux1_x86_64.whl (597kB)\n",
            "\u001b[K     |████████████████████████████████| 604kB 2.8MB/s \n",
            "\u001b[?25hRequirement already satisfied: scipy>=0.9 in /usr/local/lib/python3.6/dist-packages (from pyramid-arima) (1.3.1)\n",
            "Requirement already satisfied: statsmodels>=0.9.0 in /usr/local/lib/python3.6/dist-packages (from pyramid-arima) (0.10.1)\n",
            "Requirement already satisfied: numpy>=1.10 in /usr/local/lib/python3.6/dist-packages (from pyramid-arima) (1.16.5)\n",
            "Requirement already satisfied: pandas>=0.19 in /usr/local/lib/python3.6/dist-packages (from pyramid-arima) (0.24.2)\n",
            "Requirement already satisfied: scikit-learn>=0.17 in /usr/local/lib/python3.6/dist-packages (from pyramid-arima) (0.21.3)\n",
            "Requirement already satisfied: Cython>=0.23 in /usr/local/lib/python3.6/dist-packages (from pyramid-arima) (0.29.13)\n",
            "Requirement already satisfied: patsy>=0.4.0 in /usr/local/lib/python3.6/dist-packages (from statsmodels>=0.9.0->pyramid-arima) (0.5.1)\n",
            "Requirement already satisfied: pytz>=2011k in /usr/local/lib/python3.6/dist-packages (from pandas>=0.19->pyramid-arima) (2018.9)\n",
            "Requirement already satisfied: python-dateutil>=2.5.0 in /usr/local/lib/python3.6/dist-packages (from pandas>=0.19->pyramid-arima) (2.5.3)\n",
            "Requirement already satisfied: joblib>=0.11 in /usr/local/lib/python3.6/dist-packages (from scikit-learn>=0.17->pyramid-arima) (0.13.2)\n",
            "Requirement already satisfied: six in /usr/local/lib/python3.6/dist-packages (from patsy>=0.4.0->statsmodels>=0.9.0->pyramid-arima) (1.12.0)\n",
            "Installing collected packages: pyramid-arima\n",
            "Successfully installed pyramid-arima-0.9.0\n"
          ],
          "name": "stdout"
        }
      ]
    },
    {
      "cell_type": "code",
      "metadata": {
        "id": "E637-m0M10P1",
        "colab_type": "code",
        "outputId": "5f8c19f2-be1b-4fa1-ad36-7265b2ba1716",
        "colab": {
          "base_uri": "https://localhost:8080/",
          "height": 318
        }
      },
      "source": [
        "from pyramid.arima import auto_arima"
      ],
      "execution_count": 17,
      "outputs": [
        {
          "output_type": "stream",
          "text": [
            "/usr/local/lib/python3.6/dist-packages/sklearn/externals/six.py:31: DeprecationWarning: The module is deprecated in version 0.21 and will be removed in version 0.23 since we've dropped support for Python 2.7. Please rely on the official version of six (https://pypi.org/project/six/).\n",
            "  \"(https://pypi.org/project/six/).\", DeprecationWarning)\n",
            "/usr/local/lib/python3.6/dist-packages/sklearn/externals/joblib/__init__.py:15: DeprecationWarning: sklearn.externals.joblib is deprecated in 0.21 and will be removed in 0.23. Please import this functionality directly from joblib, which can be installed with: pip install joblib. If this warning is raised when loading pickled models, you may need to re-serialize those models with scikit-learn 0.21+.\n",
            "  warnings.warn(msg, category=DeprecationWarning)\n",
            "/usr/local/lib/python3.6/dist-packages/pyramid/__init__.py:68: UserWarning: \n",
            "    The 'pyramid' package will be migrating to a new namespace beginning in \n",
            "    version 1.0.0: 'pmdarima'. This is due to a package name collision with the\n",
            "    Pyramid web framework. For more information, see Issue #34:\n",
            "    \n",
            "        https://github.com/tgsmith61591/pyramid/issues/34\n",
            "        \n",
            "    The package will subsequently be installable via the name 'pmdarima'; the\n",
            "    only functional change to the user will be the import name. All imports\n",
            "    from 'pyramid' will change to 'pmdarima'.\n",
            "    \n",
            "  \"\"\", UserWarning)\n"
          ],
          "name": "stderr"
        }
      ]
    },
    {
      "cell_type": "code",
      "metadata": {
        "id": "EVkl31gR11_Z",
        "colab_type": "code",
        "outputId": "24abe47f-5a82-4b7a-f216-ffac35f06369",
        "colab": {
          "base_uri": "https://localhost:8080/",
          "height": 477
        }
      },
      "source": [
        "# Using auto arima with Adj Dickey-Fuller stationariy test and BIC criterion.\n",
        "# Got SARIMA(1, 0, 0)(0, 0, 0, 12)\n",
        "\n",
        "auto_arima(order_profits_mth_train, test =  'adf', m = 12, stepwise = True, trace = True,\n",
        "           information_criterion = 'bic')"
      ],
      "execution_count": 18,
      "outputs": [
        {
          "output_type": "stream",
          "text": [
            "/usr/local/lib/python3.6/dist-packages/pyramid/arima/auto.py:864: ModelFitWarning: Unable to fit ARIMA for order=(2, 0, 2) seasonal_order=(1, 0, 1, 12); data is likely non-stationary. (if you do not want to see these warnings, run with error_action=\"ignore\")\n",
            "  ModelFitWarning)\n",
            "/usr/local/lib/python3.6/dist-packages/statsmodels/tsa/statespace/sarimax.py:981: UserWarning: Non-stationary starting seasonal autoregressive Using zeros as starting parameters.\n",
            "  warn('Non-stationary starting seasonal autoregressive'\n",
            "/usr/local/lib/python3.6/dist-packages/pyramid/arima/auto.py:864: ModelFitWarning: Unable to fit ARIMA for order=(0, 0, 1) seasonal_order=(0, 0, 1, 12); data is likely non-stationary. (if you do not want to see these warnings, run with error_action=\"ignore\")\n",
            "  ModelFitWarning)\n",
            "/usr/local/lib/python3.6/dist-packages/pyramid/arima/auto.py:864: ModelFitWarning: Unable to fit ARIMA for order=(1, 0, 0) seasonal_order=(0, 0, 1, 12); data is likely non-stationary. (if you do not want to see these warnings, run with error_action=\"ignore\")\n",
            "  ModelFitWarning)\n",
            "/usr/local/lib/python3.6/dist-packages/pyramid/arima/auto.py:864: ModelFitWarning: Unable to fit ARIMA for order=(1, 0, 0) seasonal_order=(1, 0, 1, 12); data is likely non-stationary. (if you do not want to see these warnings, run with error_action=\"ignore\")\n",
            "  ModelFitWarning)\n"
          ],
          "name": "stderr"
        },
        {
          "output_type": "stream",
          "text": [
            "Fit ARIMA: order=(2, 0, 2) seasonal_order=(1, 0, 1, 12); AIC=nan, BIC=nan, Fit time=nan seconds\n",
            "Fit ARIMA: order=(0, 0, 0) seasonal_order=(0, 0, 0, 12); AIC=779.913, BIC=783.080, Fit time=0.047 seconds\n",
            "Fit ARIMA: order=(1, 0, 0) seasonal_order=(1, 0, 0, 12); AIC=771.160, BIC=777.494, Fit time=0.077 seconds\n",
            "Fit ARIMA: order=(0, 0, 1) seasonal_order=(0, 0, 1, 12); AIC=nan, BIC=nan, Fit time=nan seconds\n",
            "Fit ARIMA: order=(1, 0, 0) seasonal_order=(0, 0, 0, 12); AIC=772.506, BIC=777.257, Fit time=0.015 seconds\n",
            "Fit ARIMA: order=(1, 0, 0) seasonal_order=(0, 0, 1, 12); AIC=nan, BIC=nan, Fit time=nan seconds\n",
            "Fit ARIMA: order=(1, 0, 0) seasonal_order=(1, 0, 1, 12); AIC=nan, BIC=nan, Fit time=nan seconds\n",
            "Fit ARIMA: order=(2, 0, 0) seasonal_order=(0, 0, 0, 12); AIC=772.691, BIC=779.025, Fit time=0.033 seconds\n",
            "Fit ARIMA: order=(1, 0, 1) seasonal_order=(0, 0, 0, 12); AIC=772.691, BIC=779.025, Fit time=0.037 seconds\n",
            "Fit ARIMA: order=(2, 0, 1) seasonal_order=(0, 0, 0, 12); AIC=774.053, BIC=781.970, Fit time=0.052 seconds\n",
            "Total fit time: 0.305 seconds\n"
          ],
          "name": "stdout"
        },
        {
          "output_type": "execute_result",
          "data": {
            "text/plain": [
              "ARIMA(callback=None, disp=0, maxiter=50, method=None, order=(1, 0, 0),\n",
              "      out_of_sample_size=0, scoring='mse', scoring_args={},\n",
              "      seasonal_order=(0, 0, 0, 12), solver='lbfgs', start_params=None,\n",
              "      suppress_warnings=False, transparams=True, trend='c')"
            ]
          },
          "metadata": {
            "tags": []
          },
          "execution_count": 18
        }
      ]
    },
    {
      "cell_type": "code",
      "metadata": {
        "id": "wRKR9Ui541qx",
        "colab_type": "code",
        "outputId": "cc412a10-fe68-426a-ec5e-deac8da06f5f",
        "colab": {
          "base_uri": "https://localhost:8080/",
          "height": 1000
        }
      },
      "source": [
        "# Using auto arima with Adj Dickey-Fuller stationariy test and AIC criterion.\n",
        "# Got SARIMA(3, 0, 0)(1, 0, 0, 12)\n",
        "\n",
        "auto_arima(order_profits_mth_train, test =  'adf', m = 12, stepwise = True, trace = True,\n",
        "           information_criterion = 'aic')"
      ],
      "execution_count": 19,
      "outputs": [
        {
          "output_type": "stream",
          "text": [
            "Fit ARIMA: order=(2, 0, 2) seasonal_order=(1, 0, 1, 12); AIC=nan, BIC=nan, Fit time=nan seconds\n",
            "Fit ARIMA: order=(0, 0, 0) seasonal_order=(0, 0, 0, 12); AIC=779.913, BIC=783.080, Fit time=0.007 seconds\n",
            "Fit ARIMA: order=(1, 0, 0) seasonal_order=(1, 0, 0, 12); AIC=771.160, BIC=777.494, Fit time=0.051 seconds\n",
            "Fit ARIMA: order=(0, 0, 1) seasonal_order=(0, 0, 1, 12); AIC=nan, BIC=nan, Fit time=nan seconds\n",
            "Fit ARIMA: order=(1, 0, 0) seasonal_order=(0, 0, 0, 12); AIC=772.506, BIC=777.257, Fit time=0.017 seconds\n"
          ],
          "name": "stdout"
        },
        {
          "output_type": "stream",
          "text": [
            "/usr/local/lib/python3.6/dist-packages/pyramid/arima/auto.py:864: ModelFitWarning: Unable to fit ARIMA for order=(2, 0, 2) seasonal_order=(1, 0, 1, 12); data is likely non-stationary. (if you do not want to see these warnings, run with error_action=\"ignore\")\n",
            "  ModelFitWarning)\n",
            "/usr/local/lib/python3.6/dist-packages/statsmodels/tsa/statespace/sarimax.py:981: UserWarning: Non-stationary starting seasonal autoregressive Using zeros as starting parameters.\n",
            "  warn('Non-stationary starting seasonal autoregressive'\n",
            "/usr/local/lib/python3.6/dist-packages/pyramid/arima/auto.py:864: ModelFitWarning: Unable to fit ARIMA for order=(0, 0, 1) seasonal_order=(0, 0, 1, 12); data is likely non-stationary. (if you do not want to see these warnings, run with error_action=\"ignore\")\n",
            "  ModelFitWarning)\n",
            "/usr/local/lib/python3.6/dist-packages/statsmodels/tsa/statespace/sarimax.py:981: UserWarning: Non-stationary starting seasonal autoregressive Using zeros as starting parameters.\n",
            "  warn('Non-stationary starting seasonal autoregressive'\n"
          ],
          "name": "stderr"
        },
        {
          "output_type": "stream",
          "text": [
            "Fit ARIMA: order=(1, 0, 0) seasonal_order=(2, 0, 0, 12); AIC=772.981, BIC=780.898, Fit time=0.168 seconds\n",
            "Fit ARIMA: order=(1, 0, 0) seasonal_order=(1, 0, 1, 12); AIC=nan, BIC=nan, Fit time=nan seconds\n",
            "Fit ARIMA: order=(1, 0, 0) seasonal_order=(2, 0, 1, 12); AIC=nan, BIC=nan, Fit time=nan seconds\n",
            "Fit ARIMA: order=(0, 0, 0) seasonal_order=(1, 0, 0, 12); AIC=781.257, BIC=786.007, Fit time=0.180 seconds\n"
          ],
          "name": "stdout"
        },
        {
          "output_type": "stream",
          "text": [
            "/usr/local/lib/python3.6/dist-packages/pyramid/arima/auto.py:864: ModelFitWarning: Unable to fit ARIMA for order=(1, 0, 0) seasonal_order=(1, 0, 1, 12); data is likely non-stationary. (if you do not want to see these warnings, run with error_action=\"ignore\")\n",
            "  ModelFitWarning)\n",
            "/usr/local/lib/python3.6/dist-packages/pyramid/arima/auto.py:864: ModelFitWarning: Unable to fit ARIMA for order=(1, 0, 0) seasonal_order=(2, 0, 1, 12); data is likely non-stationary. (if you do not want to see these warnings, run with error_action=\"ignore\")\n",
            "  ModelFitWarning)\n",
            "/usr/local/lib/python3.6/dist-packages/statsmodels/tsa/statespace/sarimax.py:981: UserWarning: Non-stationary starting seasonal autoregressive Using zeros as starting parameters.\n",
            "  warn('Non-stationary starting seasonal autoregressive'\n",
            "/usr/local/lib/python3.6/dist-packages/statsmodels/base/model.py:512: ConvergenceWarning: Maximum Likelihood optimization failed to converge. Check mle_retvals\n",
            "  \"Check mle_retvals\", ConvergenceWarning)\n",
            "/usr/local/lib/python3.6/dist-packages/statsmodels/tsa/statespace/sarimax.py:981: UserWarning: Non-stationary starting seasonal autoregressive Using zeros as starting parameters.\n",
            "  warn('Non-stationary starting seasonal autoregressive'\n"
          ],
          "name": "stderr"
        },
        {
          "output_type": "stream",
          "text": [
            "Fit ARIMA: order=(2, 0, 0) seasonal_order=(1, 0, 0, 12); AIC=770.936, BIC=778.854, Fit time=0.087 seconds\n",
            "Fit ARIMA: order=(2, 0, 1) seasonal_order=(1, 0, 0, 12); AIC=771.186, BIC=780.687, Fit time=0.136 seconds\n"
          ],
          "name": "stdout"
        },
        {
          "output_type": "stream",
          "text": [
            "/usr/local/lib/python3.6/dist-packages/statsmodels/tsa/statespace/sarimax.py:981: UserWarning: Non-stationary starting seasonal autoregressive Using zeros as starting parameters.\n",
            "  warn('Non-stationary starting seasonal autoregressive'\n",
            "/usr/local/lib/python3.6/dist-packages/statsmodels/tsa/statespace/sarimax.py:981: UserWarning: Non-stationary starting seasonal autoregressive Using zeros as starting parameters.\n",
            "  warn('Non-stationary starting seasonal autoregressive'\n"
          ],
          "name": "stderr"
        },
        {
          "output_type": "stream",
          "text": [
            "Fit ARIMA: order=(3, 0, 1) seasonal_order=(1, 0, 0, 12); AIC=769.997, BIC=781.082, Fit time=0.203 seconds\n",
            "Fit ARIMA: order=(3, 0, 1) seasonal_order=(0, 0, 0, 12); AIC=773.134, BIC=782.635, Fit time=0.054 seconds\n"
          ],
          "name": "stdout"
        },
        {
          "output_type": "stream",
          "text": [
            "/usr/local/lib/python3.6/dist-packages/statsmodels/tsa/statespace/sarimax.py:981: UserWarning: Non-stationary starting seasonal autoregressive Using zeros as starting parameters.\n",
            "  warn('Non-stationary starting seasonal autoregressive'\n"
          ],
          "name": "stderr"
        },
        {
          "output_type": "stream",
          "text": [
            "Fit ARIMA: order=(3, 0, 1) seasonal_order=(2, 0, 0, 12); AIC=771.878, BIC=784.546, Fit time=0.419 seconds\n",
            "Fit ARIMA: order=(3, 0, 1) seasonal_order=(1, 0, 1, 12); AIC=nan, BIC=nan, Fit time=nan seconds\n",
            "Fit ARIMA: order=(3, 0, 1) seasonal_order=(2, 0, 1, 12); AIC=nan, BIC=nan, Fit time=nan seconds\n"
          ],
          "name": "stdout"
        },
        {
          "output_type": "stream",
          "text": [
            "/usr/local/lib/python3.6/dist-packages/pyramid/arima/auto.py:864: ModelFitWarning: Unable to fit ARIMA for order=(3, 0, 1) seasonal_order=(1, 0, 1, 12); data is likely non-stationary. (if you do not want to see these warnings, run with error_action=\"ignore\")\n",
            "  ModelFitWarning)\n",
            "/usr/local/lib/python3.6/dist-packages/pyramid/arima/auto.py:864: ModelFitWarning: Unable to fit ARIMA for order=(3, 0, 1) seasonal_order=(2, 0, 1, 12); data is likely non-stationary. (if you do not want to see these warnings, run with error_action=\"ignore\")\n",
            "  ModelFitWarning)\n",
            "/usr/local/lib/python3.6/dist-packages/statsmodels/tsa/statespace/sarimax.py:981: UserWarning: Non-stationary starting seasonal autoregressive Using zeros as starting parameters.\n",
            "  warn('Non-stationary starting seasonal autoregressive'\n"
          ],
          "name": "stderr"
        },
        {
          "output_type": "stream",
          "text": [
            "Fit ARIMA: order=(4, 0, 1) seasonal_order=(1, 0, 0, 12); AIC=772.123, BIC=784.791, Fit time=0.232 seconds\n",
            "Fit ARIMA: order=(3, 0, 0) seasonal_order=(1, 0, 0, 12); AIC=769.929, BIC=779.430, Fit time=0.100 seconds\n",
            "Fit ARIMA: order=(3, 0, 0) seasonal_order=(0, 0, 0, 12); AIC=772.259, BIC=780.177, Fit time=0.034 seconds\n"
          ],
          "name": "stdout"
        },
        {
          "output_type": "stream",
          "text": [
            "/usr/local/lib/python3.6/dist-packages/statsmodels/tsa/statespace/sarimax.py:981: UserWarning: Non-stationary starting seasonal autoregressive Using zeros as starting parameters.\n",
            "  warn('Non-stationary starting seasonal autoregressive'\n",
            "/usr/local/lib/python3.6/dist-packages/statsmodels/tsa/statespace/sarimax.py:981: UserWarning: Non-stationary starting seasonal autoregressive Using zeros as starting parameters.\n",
            "  warn('Non-stationary starting seasonal autoregressive'\n"
          ],
          "name": "stderr"
        },
        {
          "output_type": "stream",
          "text": [
            "Fit ARIMA: order=(3, 0, 0) seasonal_order=(2, 0, 0, 12); AIC=771.920, BIC=783.004, Fit time=0.259 seconds\n",
            "Fit ARIMA: order=(3, 0, 0) seasonal_order=(1, 0, 1, 12); AIC=nan, BIC=nan, Fit time=nan seconds\n",
            "Fit ARIMA: order=(3, 0, 0) seasonal_order=(2, 0, 1, 12); AIC=nan, BIC=nan, Fit time=nan seconds\n",
            "Fit ARIMA: order=(4, 0, 0) seasonal_order=(1, 0, 0, 12); AIC=771.057, BIC=782.142, Fit time=0.141 seconds\n",
            "Total fit time: 2.128 seconds\n"
          ],
          "name": "stdout"
        },
        {
          "output_type": "stream",
          "text": [
            "/usr/local/lib/python3.6/dist-packages/pyramid/arima/auto.py:864: ModelFitWarning: Unable to fit ARIMA for order=(3, 0, 0) seasonal_order=(1, 0, 1, 12); data is likely non-stationary. (if you do not want to see these warnings, run with error_action=\"ignore\")\n",
            "  ModelFitWarning)\n",
            "/usr/local/lib/python3.6/dist-packages/pyramid/arima/auto.py:864: ModelFitWarning: Unable to fit ARIMA for order=(3, 0, 0) seasonal_order=(2, 0, 1, 12); data is likely non-stationary. (if you do not want to see these warnings, run with error_action=\"ignore\")\n",
            "  ModelFitWarning)\n",
            "/usr/local/lib/python3.6/dist-packages/statsmodels/tsa/statespace/sarimax.py:981: UserWarning: Non-stationary starting seasonal autoregressive Using zeros as starting parameters.\n",
            "  warn('Non-stationary starting seasonal autoregressive'\n"
          ],
          "name": "stderr"
        },
        {
          "output_type": "execute_result",
          "data": {
            "text/plain": [
              "ARIMA(callback=None, disp=0, maxiter=50, method=None, order=(3, 0, 0),\n",
              "      out_of_sample_size=0, scoring='mse', scoring_args={},\n",
              "      seasonal_order=(1, 0, 0, 12), solver='lbfgs', start_params=None,\n",
              "      suppress_warnings=False, transparams=True, trend='c')"
            ]
          },
          "metadata": {
            "tags": []
          },
          "execution_count": 19
        }
      ]
    },
    {
      "cell_type": "markdown",
      "metadata": {
        "id": "THs9JK-R5U3X",
        "colab_type": "text"
      },
      "source": [
        "Changing between AIC and BIC gives a different (suggested) model output. \n"
      ]
    },
    {
      "cell_type": "markdown",
      "metadata": {
        "id": "2RqUrtWZBW38",
        "colab_type": "text"
      },
      "source": [
        "### Trying auto.arima with kpss Test and BIC"
      ]
    },
    {
      "cell_type": "code",
      "metadata": {
        "id": "8dsbEFUYBdr-",
        "colab_type": "code",
        "outputId": "f8007466-f43e-4aa6-cef6-7124203b31ec",
        "colab": {
          "base_uri": "https://localhost:8080/",
          "height": 582
        }
      },
      "source": [
        "# Using auto arima with kpss stationariy test and BIC criterion.\n",
        "# Got SARIMA(2, 1, 0)(0, 0, 0, 12)\n",
        "\n",
        "auto_arima(order_profits_mth_train, test =  'kpss', m = 12, stepwise = True, trace = True,\n",
        "           information_criterion = 'bic')"
      ],
      "execution_count": 20,
      "outputs": [
        {
          "output_type": "stream",
          "text": [
            "Fit ARIMA: order=(2, 1, 2) seasonal_order=(1, 0, 1, 12); AIC=nan, BIC=nan, Fit time=nan seconds\n",
            "Fit ARIMA: order=(0, 1, 0) seasonal_order=(0, 0, 0, 12); AIC=756.449, BIC=759.559, Fit time=0.007 seconds\n"
          ],
          "name": "stdout"
        },
        {
          "output_type": "stream",
          "text": [
            "/usr/local/lib/python3.6/dist-packages/pyramid/arima/auto.py:864: ModelFitWarning: Unable to fit ARIMA for order=(2, 1, 2) seasonal_order=(1, 0, 1, 12); data is likely non-stationary. (if you do not want to see these warnings, run with error_action=\"ignore\")\n",
            "  ModelFitWarning)\n",
            "/usr/local/lib/python3.6/dist-packages/pyramid/arima/auto.py:864: ModelFitWarning: Unable to fit ARIMA for order=(0, 1, 1) seasonal_order=(0, 0, 1, 12); data is likely non-stationary. (if you do not want to see these warnings, run with error_action=\"ignore\")\n",
            "  ModelFitWarning)\n",
            "/usr/local/lib/python3.6/dist-packages/pyramid/arima/auto.py:864: ModelFitWarning: Unable to fit ARIMA for order=(1, 1, 0) seasonal_order=(0, 0, 1, 12); data is likely non-stationary. (if you do not want to see these warnings, run with error_action=\"ignore\")\n",
            "  ModelFitWarning)\n",
            "/usr/local/lib/python3.6/dist-packages/pyramid/arima/auto.py:864: ModelFitWarning: Unable to fit ARIMA for order=(1, 1, 0) seasonal_order=(1, 0, 1, 12); data is likely non-stationary. (if you do not want to see these warnings, run with error_action=\"ignore\")\n",
            "  ModelFitWarning)\n"
          ],
          "name": "stderr"
        },
        {
          "output_type": "stream",
          "text": [
            "Fit ARIMA: order=(1, 1, 0) seasonal_order=(1, 0, 0, 12); AIC=751.275, BIC=757.497, Fit time=0.056 seconds\n",
            "Fit ARIMA: order=(0, 1, 1) seasonal_order=(0, 0, 1, 12); AIC=nan, BIC=nan, Fit time=nan seconds\n",
            "Fit ARIMA: order=(1, 1, 0) seasonal_order=(0, 0, 0, 12); AIC=750.796, BIC=755.462, Fit time=0.015 seconds\n",
            "Fit ARIMA: order=(1, 1, 0) seasonal_order=(0, 0, 1, 12); AIC=nan, BIC=nan, Fit time=nan seconds\n",
            "Fit ARIMA: order=(1, 1, 0) seasonal_order=(1, 0, 1, 12); AIC=nan, BIC=nan, Fit time=nan seconds\n",
            "Fit ARIMA: order=(2, 1, 0) seasonal_order=(0, 0, 0, 12); AIC=747.515, BIC=753.737, Fit time=0.020 seconds\n",
            "Fit ARIMA: order=(2, 1, 1) seasonal_order=(0, 0, 0, 12); AIC=749.409, BIC=757.186, Fit time=0.042 seconds\n",
            "Fit ARIMA: order=(3, 1, 1) seasonal_order=(0, 0, 0, 12); AIC=751.279, BIC=760.611, Fit time=0.068 seconds\n",
            "Fit ARIMA: order=(2, 1, 0) seasonal_order=(1, 0, 0, 12); AIC=748.314, BIC=756.091, Fit time=0.084 seconds\n",
            "Fit ARIMA: order=(2, 1, 0) seasonal_order=(0, 0, 1, 12); AIC=nan, BIC=nan, Fit time=nan seconds\n",
            "Fit ARIMA: order=(2, 1, 0) seasonal_order=(1, 0, 1, 12); AIC=nan, BIC=nan, Fit time=nan seconds\n",
            "Fit ARIMA: order=(3, 1, 0) seasonal_order=(0, 0, 0, 12); AIC=749.216, BIC=756.992, Fit time=0.042 seconds\n",
            "Total fit time: 0.361 seconds\n"
          ],
          "name": "stdout"
        },
        {
          "output_type": "stream",
          "text": [
            "/usr/local/lib/python3.6/dist-packages/pyramid/arima/auto.py:864: ModelFitWarning: Unable to fit ARIMA for order=(2, 1, 0) seasonal_order=(0, 0, 1, 12); data is likely non-stationary. (if you do not want to see these warnings, run with error_action=\"ignore\")\n",
            "  ModelFitWarning)\n",
            "/usr/local/lib/python3.6/dist-packages/pyramid/arima/auto.py:864: ModelFitWarning: Unable to fit ARIMA for order=(2, 1, 0) seasonal_order=(1, 0, 1, 12); data is likely non-stationary. (if you do not want to see these warnings, run with error_action=\"ignore\")\n",
            "  ModelFitWarning)\n"
          ],
          "name": "stderr"
        },
        {
          "output_type": "execute_result",
          "data": {
            "text/plain": [
              "ARIMA(callback=None, disp=0, maxiter=50, method=None, order=(2, 1, 0),\n",
              "      out_of_sample_size=0, scoring='mse', scoring_args={},\n",
              "      seasonal_order=(0, 0, 0, 12), solver='lbfgs', start_params=None,\n",
              "      suppress_warnings=False, transparams=True, trend='c')"
            ]
          },
          "metadata": {
            "tags": []
          },
          "execution_count": 20
        }
      ]
    },
    {
      "cell_type": "markdown",
      "metadata": {
        "id": "sub2Q3lZ5E2e",
        "colab_type": "text"
      },
      "source": [
        "## Model Fit On Profits SARIMA(1, 0, 0)(0, 0, 0, 12)"
      ]
    },
    {
      "cell_type": "code",
      "metadata": {
        "id": "ZSRiL_JC3ubA",
        "colab_type": "code",
        "colab": {}
      },
      "source": [
        "import statsmodels.api as sm"
      ],
      "execution_count": 0,
      "outputs": []
    },
    {
      "cell_type": "code",
      "metadata": {
        "id": "o_zV2pWwD6RS",
        "colab_type": "code",
        "outputId": "436b4c32-8455-41b0-a948-d4eb1efc895f",
        "colab": {
          "base_uri": "https://localhost:8080/",
          "height": 494
        }
      },
      "source": [
        "# Reference: https://www.datasciencesmachinelearning.com/2019/01/arimasarima-in-python.html\n",
        "\n",
        "sarima_100_profit_train = sm.tsa.statespace.SARIMAX(order_profits_mth_train,\n",
        "                                       order = (1, 0, 0),\n",
        "                                       seasonal_order = (0, 0, 0, 12),\n",
        "                                       enforce_stationarity = False,\n",
        "                                       enforce_invertibility = False)\n",
        "\n",
        "results_100_profit_train = sarima_100_profit_train.fit()\n",
        "\n",
        "print(results_100_profit_train.summary())"
      ],
      "execution_count": 22,
      "outputs": [
        {
          "output_type": "stream",
          "text": [
            "                           Statespace Model Results                           \n",
            "==============================================================================\n",
            "Dep. Variable:                 Profit   No. Observations:                   36\n",
            "Model:               SARIMAX(1, 0, 0)   Log Likelihood                -376.275\n",
            "Date:                Mon, 23 Sep 2019   AIC                            756.549\n",
            "Time:                        00:29:27   BIC                            759.660\n",
            "Sample:                    01-01-2015   HQIC                           757.623\n",
            "                         - 12-01-2017                                         \n",
            "Covariance Type:                  opg                                         \n",
            "==============================================================================\n",
            "                 coef    std err          z      P>|z|      [0.025      0.975]\n",
            "------------------------------------------------------------------------------\n",
            "ar.L1          0.9635      0.064     15.076      0.000       0.838       1.089\n",
            "sigma2      1.275e+08   4.95e-11   2.57e+18      0.000    1.27e+08    1.27e+08\n",
            "===================================================================================\n",
            "Ljung-Box (Q):                         nan   Jarque-Bera (JB):                 2.52\n",
            "Prob(Q):                               nan   Prob(JB):                         0.28\n",
            "Heteroskedasticity (H):               0.43   Skew:                            -0.50\n",
            "Prob(H) (two-sided):                  0.16   Kurtosis:                         3.85\n",
            "===================================================================================\n",
            "\n",
            "Warnings:\n",
            "[1] Covariance matrix calculated using the outer product of gradients (complex-step).\n",
            "[2] Covariance matrix is singular or near-singular, with condition number    inf. Standard errors may be unstable.\n"
          ],
          "name": "stdout"
        },
        {
          "output_type": "stream",
          "text": [
            "/usr/local/lib/python3.6/dist-packages/statsmodels/tsa/base/tsa_model.py:165: ValueWarning: No frequency information was provided, so inferred frequency MS will be used.\n",
            "  % freq, ValueWarning)\n"
          ],
          "name": "stderr"
        }
      ]
    },
    {
      "cell_type": "code",
      "metadata": {
        "id": "OKj8DfpDuAp-",
        "colab_type": "code",
        "outputId": "0f960dda-93a1-4dea-aa6e-9cef2fc660a0",
        "colab": {
          "base_uri": "https://localhost:8080/",
          "height": 1000
        }
      },
      "source": [
        "# Model Diganostics or SARIMA(2, 1, 1) on training set for monthly profits.\n",
        "# Residuals look okay. \n",
        "\n",
        "results_100_profit_train.plot_diagnostics(figsize = (10, 9))"
      ],
      "execution_count": 23,
      "outputs": [
        {
          "output_type": "execute_result",
          "data": {
            "image/png": "[encoded data removed]",
            "text/plain": [
              "<Figure size 720x648 with 4 Axes>"
            ]
          },
          "metadata": {
            "tags": []
          },
          "execution_count": 23
        },
        {
          "output_type": "display_data",
          "data": {
            "image/png": "[encoded data removed]",
            "text/plain": [
              "<Figure size 720x648 with 4 Axes>"
            ]
          },
          "metadata": {
            "tags": []
          }
        }
      ]
    },
    {
      "cell_type": "markdown",
      "metadata": {
        "id": "V0_R6qAXueTf",
        "colab_type": "text"
      },
      "source": [
        "## Forecasting On Profits SARIMA(1, 0, 0)(0, 0, 0, 12)"
      ]
    },
    {
      "cell_type": "code",
      "metadata": {
        "id": "_gvAU1T4r9oC",
        "colab_type": "code",
        "outputId": "25e2e12b-0e7a-4b64-9d77-597e1c0d80d3",
        "colab": {
          "base_uri": "https://localhost:8080/",
          "height": 417
        }
      },
      "source": [
        "# Obtain forecasts for 2018 from SARIMA(1, 0, 0)(0, 0, 0, 12)\n",
        "\n",
        "forecasts_profits100 = results_100_profit_train.get_forecast(steps = 12)\n",
        "\n",
        "forecasts_profits100.summary_frame()"
      ],
      "execution_count": 24,
      "outputs": [
        {
          "output_type": "execute_result",
          "data": {
            "text/html": [
              "<div>\n",
              "<style scoped>\n",
              "    .dataframe tbody tr th:only-of-type {\n",
              "        vertical-align: middle;\n",
              "    }\n",
              "\n",
              "    .dataframe tbody tr th {\n",
              "        vertical-align: top;\n",
              "    }\n",
              "\n",
              "    .dataframe thead th {\n",
              "        text-align: right;\n",
              "    }\n",
              "</style>\n",
              "<table border=\"1\" class=\"dataframe\">\n",
              "  <thead>\n",
              "    <tr style=\"text-align: right;\">\n",
              "      <th>Profit</th>\n",
              "      <th>mean</th>\n",
              "      <th>mean_se</th>\n",
              "      <th>mean_ci_lower</th>\n",
              "      <th>mean_ci_upper</th>\n",
              "    </tr>\n",
              "  </thead>\n",
              "  <tbody>\n",
              "    <tr>\n",
              "      <th>2018-01-01</th>\n",
              "      <td>48372.405326</td>\n",
              "      <td>11291.014807</td>\n",
              "      <td>26242.422956</td>\n",
              "      <td>70502.387696</td>\n",
              "    </tr>\n",
              "    <tr>\n",
              "      <th>2018-02-01</th>\n",
              "      <td>46608.680834</td>\n",
              "      <td>15679.502922</td>\n",
              "      <td>15877.419813</td>\n",
              "      <td>77339.941856</td>\n",
              "    </tr>\n",
              "    <tr>\n",
              "      <th>2018-03-01</th>\n",
              "      <td>44909.264166</td>\n",
              "      <td>18860.881141</td>\n",
              "      <td>7942.616413</td>\n",
              "      <td>81875.911920</td>\n",
              "    </tr>\n",
              "    <tr>\n",
              "      <th>2018-04-01</th>\n",
              "      <td>43271.810569</td>\n",
              "      <td>21395.133966</td>\n",
              "      <td>1338.118551</td>\n",
              "      <td>85205.502587</td>\n",
              "    </tr>\n",
              "    <tr>\n",
              "      <th>2018-05-01</th>\n",
              "      <td>41694.060784</td>\n",
              "      <td>23504.612401</td>\n",
              "      <td>-4374.132992</td>\n",
              "      <td>87762.254561</td>\n",
              "    </tr>\n",
              "    <tr>\n",
              "      <th>2018-06-01</th>\n",
              "      <td>40173.837929</td>\n",
              "      <td>25306.143247</td>\n",
              "      <td>-9425.291423</td>\n",
              "      <td>89772.967281</td>\n",
              "    </tr>\n",
              "    <tr>\n",
              "      <th>2018-07-01</th>\n",
              "      <td>38709.044492</td>\n",
              "      <td>26870.792228</td>\n",
              "      <td>-13956.740512</td>\n",
              "      <td>91374.829495</td>\n",
              "    </tr>\n",
              "    <tr>\n",
              "      <th>2018-08-01</th>\n",
              "      <td>37297.659440</td>\n",
              "      <td>28245.942827</td>\n",
              "      <td>-18063.371210</td>\n",
              "      <td>92658.690089</td>\n",
              "    </tr>\n",
              "    <tr>\n",
              "      <th>2018-09-01</th>\n",
              "      <td>35937.735430</td>\n",
              "      <td>29465.246761</td>\n",
              "      <td>-21813.087017</td>\n",
              "      <td>93688.557876</td>\n",
              "    </tr>\n",
              "    <tr>\n",
              "      <th>2018-10-01</th>\n",
              "      <td>34627.396121</td>\n",
              "      <td>30553.729814</td>\n",
              "      <td>-25256.813907</td>\n",
              "      <td>94511.606150</td>\n",
              "    </tr>\n",
              "    <tr>\n",
              "      <th>2018-11-01</th>\n",
              "      <td>33364.833588</td>\n",
              "      <td>31530.665686</td>\n",
              "      <td>-28434.135564</td>\n",
              "      <td>95163.802740</td>\n",
              "    </tr>\n",
              "    <tr>\n",
              "      <th>2018-12-01</th>\n",
              "      <td>32148.305823</td>\n",
              "      <td>32411.310366</td>\n",
              "      <td>-31376.695186</td>\n",
              "      <td>95673.306831</td>\n",
              "    </tr>\n",
              "  </tbody>\n",
              "</table>\n",
              "</div>"
            ],
            "text/plain": [
              "Profit              mean       mean_se  mean_ci_lower  mean_ci_upper\n",
              "2018-01-01  48372.405326  11291.014807   26242.422956   70502.387696\n",
              "2018-02-01  46608.680834  15679.502922   15877.419813   77339.941856\n",
              "2018-03-01  44909.264166  18860.881141    7942.616413   81875.911920\n",
              "2018-04-01  43271.810569  21395.133966    1338.118551   85205.502587\n",
              "2018-05-01  41694.060784  23504.612401   -4374.132992   87762.254561\n",
              "2018-06-01  40173.837929  25306.143247   -9425.291423   89772.967281\n",
              "2018-07-01  38709.044492  26870.792228  -13956.740512   91374.829495\n",
              "2018-08-01  37297.659440  28245.942827  -18063.371210   92658.690089\n",
              "2018-09-01  35937.735430  29465.246761  -21813.087017   93688.557876\n",
              "2018-10-01  34627.396121  30553.729814  -25256.813907   94511.606150\n",
              "2018-11-01  33364.833588  31530.665686  -28434.135564   95163.802740\n",
              "2018-12-01  32148.305823  32411.310366  -31376.695186   95673.306831"
            ]
          },
          "metadata": {
            "tags": []
          },
          "execution_count": 24
        }
      ]
    },
    {
      "cell_type": "code",
      "metadata": {
        "id": "PWJjLMnCvCYj",
        "colab_type": "code",
        "outputId": "f0df6e1d-f429-4073-ba4f-01b44cf41439",
        "colab": {
          "base_uri": "https://localhost:8080/",
          "height": 245
        }
      },
      "source": [
        "# Obtain means from forecasts:\n",
        "\n",
        "forecasts_mean_profits100 = forecasts_profits100.summary_frame()['mean']\n",
        "\n",
        "forecasts_mean_profits100"
      ],
      "execution_count": 25,
      "outputs": [
        {
          "output_type": "execute_result",
          "data": {
            "text/plain": [
              "2018-01-01    48372.405326\n",
              "2018-02-01    46608.680834\n",
              "2018-03-01    44909.264166\n",
              "2018-04-01    43271.810569\n",
              "2018-05-01    41694.060784\n",
              "2018-06-01    40173.837929\n",
              "2018-07-01    38709.044492\n",
              "2018-08-01    37297.659440\n",
              "2018-09-01    35937.735430\n",
              "2018-10-01    34627.396121\n",
              "2018-11-01    33364.833588\n",
              "2018-12-01    32148.305823\n",
              "Freq: MS, Name: mean, dtype: float64"
            ]
          },
          "metadata": {
            "tags": []
          },
          "execution_count": 25
        }
      ]
    },
    {
      "cell_type": "markdown",
      "metadata": {
        "id": "D8svTsDhvdOl",
        "colab_type": "text"
      },
      "source": [
        "### RMSE, Correlation & Mean Abs. Pct Error"
      ]
    },
    {
      "cell_type": "code",
      "metadata": {
        "id": "mjqW1G61v4GS",
        "colab_type": "code",
        "outputId": "55f52600-84c9-4b6a-cf47-41aae7b2a53d",
        "colab": {
          "base_uri": "https://localhost:8080/",
          "height": 34
        }
      },
      "source": [
        "# Root Mean Squared Error - Square of Predictions - Acutal (Test) Values:\n",
        "\n",
        "mse_profit_100 = np.mean((forecasts_mean_profits100 - order_profits_mth_test)**2)\n",
        "\n",
        "rmse_profit_100 = mse_profit_100 ** 0.5\n",
        "\n",
        "rmse_profit_100"
      ],
      "execution_count": 26,
      "outputs": [
        {
          "output_type": "execute_result",
          "data": {
            "text/plain": [
              "19779.093054419616"
            ]
          },
          "metadata": {
            "tags": []
          },
          "execution_count": 26
        }
      ]
    },
    {
      "cell_type": "code",
      "metadata": {
        "id": "qNwhqixkwdwG",
        "colab_type": "code",
        "outputId": "3b8bb9f5-e40c-4825-fb75-e0d76718d2df",
        "colab": {
          "base_uri": "https://localhost:8080/",
          "height": 52
        }
      },
      "source": [
        "# Correlation Between Forecasted 2018 Values & Actual 2018 Sales Per Month\n",
        "\n",
        "corr_profits_100 = np.corrcoef(forecasts_mean_profits100, order_profits_mth_test)\n",
        "\n",
        "corr_profits_100"
      ],
      "execution_count": 27,
      "outputs": [
        {
          "output_type": "execute_result",
          "data": {
            "text/plain": [
              "array([[ 1.        , -0.79088522],\n",
              "       [-0.79088522,  1.        ]])"
            ]
          },
          "metadata": {
            "tags": []
          },
          "execution_count": 27
        }
      ]
    },
    {
      "cell_type": "markdown",
      "metadata": {
        "id": "w0XxhqlS4YL9",
        "colab_type": "text"
      },
      "source": [
        "I have a (borderline) strong negative correlation between the forecasted values for 2018 and the test values. This is bad. Reject this model."
      ]
    },
    {
      "cell_type": "code",
      "metadata": {
        "id": "04QJ_KAbxZXT",
        "colab_type": "code",
        "outputId": "89157a70-ed91-43eb-ca18-77ab5b9eb2b2",
        "colab": {
          "base_uri": "https://localhost:8080/",
          "height": 34
        }
      },
      "source": [
        "# Mean Absolute Percentage Error\n",
        "\n",
        "mean_abs_percent_error_profits_100 = np.mean(np.abs(forecasts_mean_profits100 - order_profits_mth_test)/np.abs(order_profits_mth_test)) \n",
        "\n",
        "mean_abs_percent_error_profits_100"
      ],
      "execution_count": 28,
      "outputs": [
        {
          "output_type": "execute_result",
          "data": {
            "text/plain": [
              "0.4803116580761599"
            ]
          },
          "metadata": {
            "tags": []
          },
          "execution_count": 28
        }
      ]
    },
    {
      "cell_type": "markdown",
      "metadata": {
        "id": "qMAQCByQujDQ",
        "colab_type": "text"
      },
      "source": [
        "## Model Fit On Profits SARIMA(3, 0, 0)(1, 0, 0, 12)"
      ]
    },
    {
      "cell_type": "code",
      "metadata": {
        "id": "OMaVJRW8ukJo",
        "colab_type": "code",
        "outputId": "8f19be7d-3535-4622-dea3-c3758f5600cb",
        "colab": {
          "base_uri": "https://localhost:8080/",
          "height": 547
        }
      },
      "source": [
        "# Reference: https://www.datasciencesmachinelearning.com/2019/01/arimasarima-in-python.html\n",
        "\n",
        "sarima_300_profit_train = sm.tsa.statespace.SARIMAX(order_profits_mth_train,\n",
        "                                       order = (3, 0, 0),\n",
        "                                       seasonal_order = (1, 0, 0, 12),\n",
        "                                       enforce_stationarity = False,\n",
        "                                       enforce_invertibility = False)\n",
        "\n",
        "results_300_profit_train = sarima_300_profit_train.fit()\n",
        "\n",
        "print(results_300_profit_train.summary())"
      ],
      "execution_count": 29,
      "outputs": [
        {
          "output_type": "stream",
          "text": [
            "                                 Statespace Model Results                                 \n",
            "==========================================================================================\n",
            "Dep. Variable:                             Profit   No. Observations:                   36\n",
            "Model:             SARIMAX(3, 0, 0)x(1, 0, 0, 12)   Log Likelihood                -218.736\n",
            "Date:                            Mon, 23 Sep 2019   AIC                            447.472\n",
            "Time:                                    00:29:29   BIC                            452.694\n",
            "Sample:                                01-01-2015   HQIC                           448.605\n",
            "                                     - 12-01-2017                                         \n",
            "Covariance Type:                              opg                                         \n",
            "==============================================================================\n",
            "                 coef    std err          z      P>|z|      [0.025      0.975]\n",
            "------------------------------------------------------------------------------\n",
            "ar.L1          0.3508      0.333      1.055      0.291      -0.301       1.003\n",
            "ar.L2          0.3518      0.316      1.113      0.266      -0.268       0.972\n",
            "ar.L3          0.3928      0.408      0.964      0.335      -0.406       1.192\n",
            "ar.S.L12       0.3572      0.317      1.125      0.260      -0.265       0.979\n",
            "sigma2      9.272e+07   1.03e-09   9.04e+16      0.000    9.27e+07    9.27e+07\n",
            "===================================================================================\n",
            "Ljung-Box (Q):                         nan   Jarque-Bera (JB):                 0.71\n",
            "Prob(Q):                               nan   Prob(JB):                         0.70\n",
            "Heteroskedasticity (H):               0.89   Skew:                             0.16\n",
            "Prob(H) (two-sided):                  0.88   Kurtosis:                         2.16\n",
            "===================================================================================\n",
            "\n",
            "Warnings:\n",
            "[1] Covariance matrix calculated using the outer product of gradients (complex-step).\n",
            "[2] Covariance matrix is singular or near-singular, with condition number 1.52e+34. Standard errors may be unstable.\n"
          ],
          "name": "stdout"
        },
        {
          "output_type": "stream",
          "text": [
            "/usr/local/lib/python3.6/dist-packages/statsmodels/tsa/base/tsa_model.py:165: ValueWarning: No frequency information was provided, so inferred frequency MS will be used.\n",
            "  % freq, ValueWarning)\n"
          ],
          "name": "stderr"
        }
      ]
    },
    {
      "cell_type": "code",
      "metadata": {
        "id": "dHzn4CbVzHm1",
        "colab_type": "code",
        "outputId": "7625cddb-95ac-4971-bcb7-bb30a9169065",
        "colab": {
          "base_uri": "https://localhost:8080/",
          "height": 1000
        }
      },
      "source": [
        "# Model Diganostics or SARIMA(3, 0, 0) on training set for monthly profits.\n",
        "# Residuals look okay. \n",
        "\n",
        "results_300_profit_train.plot_diagnostics(figsize = (10, 9))"
      ],
      "execution_count": 30,
      "outputs": [
        {
          "output_type": "execute_result",
          "data": {
            "image/png": "[encoded data removed]",
            "text/plain": [
              "<Figure size 720x648 with 4 Axes>"
            ]
          },
          "metadata": {
            "tags": []
          },
          "execution_count": 30
        },
        {
          "output_type": "display_data",
          "data": {
            "image/png": "[encoded data removed]",
            "text/plain": [
              "<Figure size 720x648 with 4 Axes>"
            ]
          },
          "metadata": {
            "tags": []
          }
        }
      ]
    },
    {
      "cell_type": "markdown",
      "metadata": {
        "id": "0RQsYUgSumtN",
        "colab_type": "text"
      },
      "source": [
        "## Forecasting On Profits SARIMA(3, 0, 0)(1, 0, 0, 12)"
      ]
    },
    {
      "cell_type": "code",
      "metadata": {
        "id": "VmiKwGVYunqp",
        "colab_type": "code",
        "outputId": "5548d04f-b164-4106-9291-06b561d6deb6",
        "colab": {
          "base_uri": "https://localhost:8080/",
          "height": 417
        }
      },
      "source": [
        "# Obtain forecasts for 2019 from SARIMA(3, 0, 0):\n",
        "\n",
        "forecasts_profits300 = results_300_profit_train.get_forecast(steps = 12)\n",
        "\n",
        "forecasts_profits300.summary_frame()"
      ],
      "execution_count": 31,
      "outputs": [
        {
          "output_type": "execute_result",
          "data": {
            "text/html": [
              "<div>\n",
              "<style scoped>\n",
              "    .dataframe tbody tr th:only-of-type {\n",
              "        vertical-align: middle;\n",
              "    }\n",
              "\n",
              "    .dataframe tbody tr th {\n",
              "        vertical-align: top;\n",
              "    }\n",
              "\n",
              "    .dataframe thead th {\n",
              "        text-align: right;\n",
              "    }\n",
              "</style>\n",
              "<table border=\"1\" class=\"dataframe\">\n",
              "  <thead>\n",
              "    <tr style=\"text-align: right;\">\n",
              "      <th>Profit</th>\n",
              "      <th>mean</th>\n",
              "      <th>mean_se</th>\n",
              "      <th>mean_ci_lower</th>\n",
              "      <th>mean_ci_upper</th>\n",
              "    </tr>\n",
              "  </thead>\n",
              "  <tbody>\n",
              "    <tr>\n",
              "      <th>2018-01-01</th>\n",
              "      <td>48336.371558</td>\n",
              "      <td>9629.005758</td>\n",
              "      <td>29463.867066</td>\n",
              "      <td>67208.876050</td>\n",
              "    </tr>\n",
              "    <tr>\n",
              "      <th>2018-02-01</th>\n",
              "      <td>50022.037564</td>\n",
              "      <td>10204.324803</td>\n",
              "      <td>30021.928464</td>\n",
              "      <td>70022.146665</td>\n",
              "    </tr>\n",
              "    <tr>\n",
              "      <th>2018-03-01</th>\n",
              "      <td>51674.874099</td>\n",
              "      <td>11182.131590</td>\n",
              "      <td>29758.298913</td>\n",
              "      <td>73591.449285</td>\n",
              "    </tr>\n",
              "    <tr>\n",
              "      <th>2018-04-01</th>\n",
              "      <td>51981.724393</td>\n",
              "      <td>12971.919919</td>\n",
              "      <td>26557.228542</td>\n",
              "      <td>77406.220245</td>\n",
              "    </tr>\n",
              "    <tr>\n",
              "      <th>2018-05-01</th>\n",
              "      <td>57526.523305</td>\n",
              "      <td>13991.189764</td>\n",
              "      <td>30104.295267</td>\n",
              "      <td>84948.751343</td>\n",
              "    </tr>\n",
              "    <tr>\n",
              "      <th>2018-06-01</th>\n",
              "      <td>65708.383568</td>\n",
              "      <td>15203.308187</td>\n",
              "      <td>35910.447075</td>\n",
              "      <td>95506.320062</td>\n",
              "    </tr>\n",
              "    <tr>\n",
              "      <th>2018-07-01</th>\n",
              "      <td>62009.230554</td>\n",
              "      <td>16540.046143</td>\n",
              "      <td>29591.335810</td>\n",
              "      <td>94427.125297</td>\n",
              "    </tr>\n",
              "    <tr>\n",
              "      <th>2018-08-01</th>\n",
              "      <td>65219.862969</td>\n",
              "      <td>17748.617788</td>\n",
              "      <td>30433.211328</td>\n",
              "      <td>100006.514609</td>\n",
              "    </tr>\n",
              "    <tr>\n",
              "      <th>2018-09-01</th>\n",
              "      <td>70508.573535</td>\n",
              "      <td>19037.925106</td>\n",
              "      <td>33194.925987</td>\n",
              "      <td>107822.221084</td>\n",
              "    </tr>\n",
              "    <tr>\n",
              "      <th>2018-10-01</th>\n",
              "      <td>74372.582725</td>\n",
              "      <td>20367.995849</td>\n",
              "      <td>34452.044423</td>\n",
              "      <td>114293.121026</td>\n",
              "    </tr>\n",
              "    <tr>\n",
              "      <th>2018-11-01</th>\n",
              "      <td>79125.328242</td>\n",
              "      <td>21702.012093</td>\n",
              "      <td>36590.166148</td>\n",
              "      <td>121660.490336</td>\n",
              "    </tr>\n",
              "    <tr>\n",
              "      <th>2018-12-01</th>\n",
              "      <td>82739.229076</td>\n",
              "      <td>23088.508782</td>\n",
              "      <td>37486.583406</td>\n",
              "      <td>127991.874746</td>\n",
              "    </tr>\n",
              "  </tbody>\n",
              "</table>\n",
              "</div>"
            ],
            "text/plain": [
              "Profit              mean       mean_se  mean_ci_lower  mean_ci_upper\n",
              "2018-01-01  48336.371558   9629.005758   29463.867066   67208.876050\n",
              "2018-02-01  50022.037564  10204.324803   30021.928464   70022.146665\n",
              "2018-03-01  51674.874099  11182.131590   29758.298913   73591.449285\n",
              "2018-04-01  51981.724393  12971.919919   26557.228542   77406.220245\n",
              "2018-05-01  57526.523305  13991.189764   30104.295267   84948.751343\n",
              "2018-06-01  65708.383568  15203.308187   35910.447075   95506.320062\n",
              "2018-07-01  62009.230554  16540.046143   29591.335810   94427.125297\n",
              "2018-08-01  65219.862969  17748.617788   30433.211328  100006.514609\n",
              "2018-09-01  70508.573535  19037.925106   33194.925987  107822.221084\n",
              "2018-10-01  74372.582725  20367.995849   34452.044423  114293.121026\n",
              "2018-11-01  79125.328242  21702.012093   36590.166148  121660.490336\n",
              "2018-12-01  82739.229076  23088.508782   37486.583406  127991.874746"
            ]
          },
          "metadata": {
            "tags": []
          },
          "execution_count": 31
        }
      ]
    },
    {
      "cell_type": "code",
      "metadata": {
        "id": "urWf8TzWzVAm",
        "colab_type": "code",
        "outputId": "c27320bb-41ae-4e99-b875-44848ce17e53",
        "colab": {
          "base_uri": "https://localhost:8080/",
          "height": 245
        }
      },
      "source": [
        "# Obtain means from forecasts:\n",
        "\n",
        "forecasts_mean_profits300 = forecasts_profits300.summary_frame()['mean']\n",
        "\n",
        "forecasts_mean_profits300"
      ],
      "execution_count": 32,
      "outputs": [
        {
          "output_type": "execute_result",
          "data": {
            "text/plain": [
              "2018-01-01    48336.371558\n",
              "2018-02-01    50022.037564\n",
              "2018-03-01    51674.874099\n",
              "2018-04-01    51981.724393\n",
              "2018-05-01    57526.523305\n",
              "2018-06-01    65708.383568\n",
              "2018-07-01    62009.230554\n",
              "2018-08-01    65219.862969\n",
              "2018-09-01    70508.573535\n",
              "2018-10-01    74372.582725\n",
              "2018-11-01    79125.328242\n",
              "2018-12-01    82739.229076\n",
              "Freq: MS, Name: mean, dtype: float64"
            ]
          },
          "metadata": {
            "tags": []
          },
          "execution_count": 32
        }
      ]
    },
    {
      "cell_type": "markdown",
      "metadata": {
        "id": "qnbPpjOdzmg_",
        "colab_type": "text"
      },
      "source": [
        "### RMSE, Correlation & Mean Abs. Pct Error"
      ]
    },
    {
      "cell_type": "code",
      "metadata": {
        "id": "buUBD-eazcDe",
        "colab_type": "code",
        "outputId": "90031842-dc3e-4177-bc99-4b90af436b4b",
        "colab": {
          "base_uri": "https://localhost:8080/",
          "height": 34
        }
      },
      "source": [
        "# Root Mean Squared Error - Square of Predictions - Acutal (Test) Values:\n",
        "\n",
        "mse_profit_300 = np.mean((forecasts_mean_profits300 - order_profits_mth_test)**2)\n",
        "\n",
        "rmse_profit_300 = mse_profit_300 ** 0.5\n",
        "\n",
        "rmse_profit_300"
      ],
      "execution_count": 33,
      "outputs": [
        {
          "output_type": "execute_result",
          "data": {
            "text/plain": [
              "23224.836468658465"
            ]
          },
          "metadata": {
            "tags": []
          },
          "execution_count": 33
        }
      ]
    },
    {
      "cell_type": "code",
      "metadata": {
        "id": "Wzk8VSYAzv3V",
        "colab_type": "code",
        "outputId": "6882ca63-f1bf-4a64-8cd2-bc0000d5add1",
        "colab": {
          "base_uri": "https://localhost:8080/",
          "height": 52
        }
      },
      "source": [
        "# Correlation Between Forecasted 2018 Values & Actual 2018 Sales Per Month\n",
        "\n",
        "corr_profits_300 = np.corrcoef(forecasts_mean_profits300, order_profits_mth_test)\n",
        "\n",
        "corr_profits_300"
      ],
      "execution_count": 34,
      "outputs": [
        {
          "output_type": "execute_result",
          "data": {
            "text/plain": [
              "array([[1.        , 0.79613888],\n",
              "       [0.79613888, 1.        ]])"
            ]
          },
          "metadata": {
            "tags": []
          },
          "execution_count": 34
        }
      ]
    },
    {
      "cell_type": "code",
      "metadata": {
        "id": "_-Byu1Fn0DMm",
        "colab_type": "code",
        "outputId": "adedd46a-9409-4ad2-9bcf-13a44e9c75a3",
        "colab": {
          "base_uri": "https://localhost:8080/",
          "height": 34
        }
      },
      "source": [
        "# Mean Absolute Percentage Error\n",
        "\n",
        "mean_abs_percent_error_profits_300 = np.mean(np.abs(forecasts_mean_profits300 - order_profits_mth_test)/np.abs(order_profits_mth_test)) \n",
        "\n",
        "mean_abs_percent_error_profits_300"
      ],
      "execution_count": 35,
      "outputs": [
        {
          "output_type": "execute_result",
          "data": {
            "text/plain": [
              "0.6491705065964452"
            ]
          },
          "metadata": {
            "tags": []
          },
          "execution_count": 35
        }
      ]
    },
    {
      "cell_type": "markdown",
      "metadata": {
        "id": "C2O08Lb-CENA",
        "colab_type": "text"
      },
      "source": [
        "## Model Fit On Profits SARIMA(2, 0, 1)(0, 0, 0, 12)"
      ]
    },
    {
      "cell_type": "code",
      "metadata": {
        "id": "GGyqsfY5CHhN",
        "colab_type": "code",
        "outputId": "f87f7954-0380-4b3c-9ade-b98314641da1",
        "colab": {
          "base_uri": "https://localhost:8080/",
          "height": 529
        }
      },
      "source": [
        "# Reference: https://www.datasciencesmachinelearning.com/2019/01/arimasarima-in-python.html\n",
        "\n",
        "sarima_201_profit_train = sm.tsa.statespace.SARIMAX(order_profits_mth_train,\n",
        "                                       order = (2, 0, 1),\n",
        "                                       seasonal_order = (0, 0, 0, 12),\n",
        "                                       enforce_stationarity = False,\n",
        "                                       enforce_invertibility = False)\n",
        "\n",
        "results_201_profit_train = sarima_201_profit_train.fit()\n",
        "\n",
        "print(results_201_profit_train.summary())"
      ],
      "execution_count": 36,
      "outputs": [
        {
          "output_type": "stream",
          "text": [
            "                           Statespace Model Results                           \n",
            "==============================================================================\n",
            "Dep. Variable:                 Profit   No. Observations:                   36\n",
            "Model:               SARIMAX(2, 0, 1)   Log Likelihood                -358.345\n",
            "Date:                Mon, 23 Sep 2019   AIC                            724.690\n",
            "Time:                        00:29:31   BIC                            730.796\n",
            "Sample:                    01-01-2015   HQIC                           726.773\n",
            "                         - 12-01-2017                                         \n",
            "Covariance Type:                  opg                                         \n",
            "==============================================================================\n",
            "                 coef    std err          z      P>|z|      [0.025      0.975]\n",
            "------------------------------------------------------------------------------\n",
            "ar.L1          1.3792      0.188      7.326      0.000       1.010       1.748\n",
            "ar.L2         -0.3563      0.188     -1.891      0.059      -0.726       0.013\n",
            "ma.L1         -1.0264      0.240     -4.275      0.000      -1.497      -0.556\n",
            "sigma2      9.561e+07    9.2e-10   1.04e+17      0.000    9.56e+07    9.56e+07\n",
            "===================================================================================\n",
            "Ljung-Box (Q):                         nan   Jarque-Bera (JB):                 0.38\n",
            "Prob(Q):                               nan   Prob(JB):                         0.83\n",
            "Heteroskedasticity (H):               0.41   Skew:                             0.16\n",
            "Prob(H) (two-sided):                  0.16   Kurtosis:                         2.59\n",
            "===================================================================================\n",
            "\n",
            "Warnings:\n",
            "[1] Covariance matrix calculated using the outer product of gradients (complex-step).\n",
            "[2] Covariance matrix is singular or near-singular, with condition number 1.83e+33. Standard errors may be unstable.\n"
          ],
          "name": "stdout"
        },
        {
          "output_type": "stream",
          "text": [
            "/usr/local/lib/python3.6/dist-packages/statsmodels/tsa/base/tsa_model.py:165: ValueWarning: No frequency information was provided, so inferred frequency MS will be used.\n",
            "  % freq, ValueWarning)\n"
          ],
          "name": "stderr"
        }
      ]
    },
    {
      "cell_type": "code",
      "metadata": {
        "id": "CvJaDbgfCQbJ",
        "colab_type": "code",
        "outputId": "240b8a65-1543-4e8d-ec15-ca8ddce2e452",
        "colab": {
          "base_uri": "https://localhost:8080/",
          "height": 1000
        }
      },
      "source": [
        "# Model Diganostics or SARIMA(2, 0, 1)(0, 0, 0, 12) on training set for monthly profits.\n",
        "# Residuals look okay. \n",
        "\n",
        "results_201_profit_train.plot_diagnostics(figsize = (10, 9))"
      ],
      "execution_count": 37,
      "outputs": [
        {
          "output_type": "execute_result",
          "data": {
            "image/png": "[encoded data removed]",
            "text/plain": [
              "<Figure size 720x648 with 4 Axes>"
            ]
          },
          "metadata": {
            "tags": []
          },
          "execution_count": 37
        },
        {
          "output_type": "display_data",
          "data": {
            "image/png": "[encoded data removed]",
            "text/plain": [
              "<Figure size 720x648 with 4 Axes>"
            ]
          },
          "metadata": {
            "tags": []
          }
        }
      ]
    },
    {
      "cell_type": "markdown",
      "metadata": {
        "id": "WeIvbzknCbcD",
        "colab_type": "text"
      },
      "source": [
        "## Forecasting On Profits SARIMA(2, 0, 1)(0, 0, 0, 12)"
      ]
    },
    {
      "cell_type": "code",
      "metadata": {
        "id": "G1C1eUBdCQmH",
        "colab_type": "code",
        "outputId": "89b1a692-93b6-4b25-94a0-9f67fc0dd8c7",
        "colab": {
          "base_uri": "https://localhost:8080/",
          "height": 417
        }
      },
      "source": [
        "# Obtain forecasts for 2019 from SARIMA(2, 0, 1)(0, 0, 0, 12):\n",
        "\n",
        "forecasts_profits201 = results_201_profit_train.get_forecast(steps = 12)\n",
        "\n",
        "forecasts_profits201.summary_frame()"
      ],
      "execution_count": 38,
      "outputs": [
        {
          "output_type": "execute_result",
          "data": {
            "text/html": [
              "<div>\n",
              "<style scoped>\n",
              "    .dataframe tbody tr th:only-of-type {\n",
              "        vertical-align: middle;\n",
              "    }\n",
              "\n",
              "    .dataframe tbody tr th {\n",
              "        vertical-align: top;\n",
              "    }\n",
              "\n",
              "    .dataframe thead th {\n",
              "        text-align: right;\n",
              "    }\n",
              "</style>\n",
              "<table border=\"1\" class=\"dataframe\">\n",
              "  <thead>\n",
              "    <tr style=\"text-align: right;\">\n",
              "      <th>Profit</th>\n",
              "      <th>mean</th>\n",
              "      <th>mean_se</th>\n",
              "      <th>mean_ci_lower</th>\n",
              "      <th>mean_ci_upper</th>\n",
              "    </tr>\n",
              "  </thead>\n",
              "  <tbody>\n",
              "    <tr>\n",
              "      <th>2018-01-01</th>\n",
              "      <td>47781.164663</td>\n",
              "      <td>9933.949097</td>\n",
              "      <td>28310.982210</td>\n",
              "      <td>67251.347117</td>\n",
              "    </tr>\n",
              "    <tr>\n",
              "      <th>2018-02-01</th>\n",
              "      <td>48011.063839</td>\n",
              "      <td>10646.952262</td>\n",
              "      <td>27143.420860</td>\n",
              "      <td>68878.706818</td>\n",
              "    </tr>\n",
              "    <tr>\n",
              "      <th>2018-03-01</th>\n",
              "      <td>49191.118319</td>\n",
              "      <td>10792.503912</td>\n",
              "      <td>28038.199349</td>\n",
              "      <td>70344.037289</td>\n",
              "    </tr>\n",
              "    <tr>\n",
              "      <th>2018-04-01</th>\n",
              "      <td>50736.750392</td>\n",
              "      <td>10848.223158</td>\n",
              "      <td>29474.623706</td>\n",
              "      <td>71998.877078</td>\n",
              "    </tr>\n",
              "    <tr>\n",
              "      <th>2018-05-01</th>\n",
              "      <td>52448.008041</td>\n",
              "      <td>10885.447834</td>\n",
              "      <td>31112.922330</td>\n",
              "      <td>73783.093752</td>\n",
              "    </tr>\n",
              "    <tr>\n",
              "      <th>2018-06-01</th>\n",
              "      <td>54257.426832</td>\n",
              "      <td>10918.818938</td>\n",
              "      <td>32856.934960</td>\n",
              "      <td>75657.918703</td>\n",
              "    </tr>\n",
              "    <tr>\n",
              "      <th>2018-07-01</th>\n",
              "      <td>56143.211066</td>\n",
              "      <td>10952.366919</td>\n",
              "      <td>34676.966358</td>\n",
              "      <td>77609.455773</td>\n",
              "    </tr>\n",
              "    <tr>\n",
              "      <th>2018-08-01</th>\n",
              "      <td>58099.340533</td>\n",
              "      <td>10987.465276</td>\n",
              "      <td>36564.304310</td>\n",
              "      <td>79634.376756</td>\n",
              "    </tr>\n",
              "    <tr>\n",
              "      <th>2018-09-01</th>\n",
              "      <td>60125.278904</td>\n",
              "      <td>11024.678892</td>\n",
              "      <td>38517.305335</td>\n",
              "      <td>81733.252473</td>\n",
              "    </tr>\n",
              "    <tr>\n",
              "      <th>2018-10-01</th>\n",
              "      <td>62222.431759</td>\n",
              "      <td>11064.306047</td>\n",
              "      <td>40536.790393</td>\n",
              "      <td>83908.073125</td>\n",
              "    </tr>\n",
              "    <tr>\n",
              "      <th>2018-11-01</th>\n",
              "      <td>64392.928824</td>\n",
              "      <td>11106.557709</td>\n",
              "      <td>42624.475723</td>\n",
              "      <td>86161.381925</td>\n",
              "    </tr>\n",
              "    <tr>\n",
              "      <th>2018-12-01</th>\n",
              "      <td>66639.206585</td>\n",
              "      <td>11151.619873</td>\n",
              "      <td>44782.433265</td>\n",
              "      <td>88495.979905</td>\n",
              "    </tr>\n",
              "  </tbody>\n",
              "</table>\n",
              "</div>"
            ],
            "text/plain": [
              "Profit              mean       mean_se  mean_ci_lower  mean_ci_upper\n",
              "2018-01-01  47781.164663   9933.949097   28310.982210   67251.347117\n",
              "2018-02-01  48011.063839  10646.952262   27143.420860   68878.706818\n",
              "2018-03-01  49191.118319  10792.503912   28038.199349   70344.037289\n",
              "2018-04-01  50736.750392  10848.223158   29474.623706   71998.877078\n",
              "2018-05-01  52448.008041  10885.447834   31112.922330   73783.093752\n",
              "2018-06-01  54257.426832  10918.818938   32856.934960   75657.918703\n",
              "2018-07-01  56143.211066  10952.366919   34676.966358   77609.455773\n",
              "2018-08-01  58099.340533  10987.465276   36564.304310   79634.376756\n",
              "2018-09-01  60125.278904  11024.678892   38517.305335   81733.252473\n",
              "2018-10-01  62222.431759  11064.306047   40536.790393   83908.073125\n",
              "2018-11-01  64392.928824  11106.557709   42624.475723   86161.381925\n",
              "2018-12-01  66639.206585  11151.619873   44782.433265   88495.979905"
            ]
          },
          "metadata": {
            "tags": []
          },
          "execution_count": 38
        }
      ]
    },
    {
      "cell_type": "code",
      "metadata": {
        "id": "po1XKb43C0A-",
        "colab_type": "code",
        "outputId": "e0fdf82e-6d80-4791-a882-15f5dc1c2275",
        "colab": {
          "base_uri": "https://localhost:8080/",
          "height": 245
        }
      },
      "source": [
        "# Obtain means from forecasts:\n",
        "\n",
        "forecasts_mean_profits201 = forecasts_profits201.summary_frame()['mean']\n",
        "\n",
        "forecasts_mean_profits201"
      ],
      "execution_count": 39,
      "outputs": [
        {
          "output_type": "execute_result",
          "data": {
            "text/plain": [
              "2018-01-01    47781.164663\n",
              "2018-02-01    48011.063839\n",
              "2018-03-01    49191.118319\n",
              "2018-04-01    50736.750392\n",
              "2018-05-01    52448.008041\n",
              "2018-06-01    54257.426832\n",
              "2018-07-01    56143.211066\n",
              "2018-08-01    58099.340533\n",
              "2018-09-01    60125.278904\n",
              "2018-10-01    62222.431759\n",
              "2018-11-01    64392.928824\n",
              "2018-12-01    66639.206585\n",
              "Freq: MS, Name: mean, dtype: float64"
            ]
          },
          "metadata": {
            "tags": []
          },
          "execution_count": 39
        }
      ]
    },
    {
      "cell_type": "markdown",
      "metadata": {
        "id": "snpjjwa1C90p",
        "colab_type": "text"
      },
      "source": [
        "### RMSE, Correlation & Mean Abs. Pct Error"
      ]
    },
    {
      "cell_type": "code",
      "metadata": {
        "id": "FN73xmgeDC34",
        "colab_type": "code",
        "outputId": "f10ce888-75aa-4ffe-b73d-e0f80848f7d9",
        "colab": {
          "base_uri": "https://localhost:8080/",
          "height": 34
        }
      },
      "source": [
        "# Root Mean Squared Error - Square of Predictions - Acutal (Test) Values:\n",
        "\n",
        "mse_profit_201 = np.mean((forecasts_mean_profits201 - order_profits_mth_test)**2)\n",
        "\n",
        "rmse_profit_201 = mse_profit_201 ** 0.5\n",
        "\n",
        "rmse_profit_201"
      ],
      "execution_count": 40,
      "outputs": [
        {
          "output_type": "execute_result",
          "data": {
            "text/plain": [
              "17767.436408790163"
            ]
          },
          "metadata": {
            "tags": []
          },
          "execution_count": 40
        }
      ]
    },
    {
      "cell_type": "code",
      "metadata": {
        "id": "5qfabsPIDHrn",
        "colab_type": "code",
        "outputId": "991337d5-fedb-4e39-df65-9a226de8642d",
        "colab": {
          "base_uri": "https://localhost:8080/",
          "height": 52
        }
      },
      "source": [
        "# Correlation Between Forecasted 2018 Values & Actual 2018 Sales Per Month\n",
        "\n",
        "corr_profits_201 = np.corrcoef(forecasts_mean_profits201, order_profits_mth_test)\n",
        "\n",
        "corr_profits_201"
      ],
      "execution_count": 41,
      "outputs": [
        {
          "output_type": "execute_result",
          "data": {
            "text/plain": [
              "array([[1.        , 0.78687626],\n",
              "       [0.78687626, 1.        ]])"
            ]
          },
          "metadata": {
            "tags": []
          },
          "execution_count": 41
        }
      ]
    },
    {
      "cell_type": "code",
      "metadata": {
        "id": "clh1d8WNDH2c",
        "colab_type": "code",
        "outputId": "e37b6fc6-221d-419c-de5b-7e2e14728b8e",
        "colab": {
          "base_uri": "https://localhost:8080/",
          "height": 34
        }
      },
      "source": [
        "# Mean Absolute Percentage Error\n",
        "\n",
        "mean_abs_percent_error_profits_201 = np.mean(np.abs(forecasts_mean_profits201 - order_profits_mth_test)/np.abs(order_profits_mth_test)) \n",
        "\n",
        "mean_abs_percent_error_profits_201"
      ],
      "execution_count": 42,
      "outputs": [
        {
          "output_type": "execute_result",
          "data": {
            "text/plain": [
              "0.5073559564149276"
            ]
          },
          "metadata": {
            "tags": []
          },
          "execution_count": 42
        }
      ]
    },
    {
      "cell_type": "markdown",
      "metadata": {
        "id": "HOe4LVgO48qB",
        "colab_type": "text"
      },
      "source": [
        "# SARIMA(2, 0, 1)(0, 0, 0, 12)  For Monthly Profits"
      ]
    },
    {
      "cell_type": "markdown",
      "metadata": {
        "id": "mWTI4gAU5F5u",
        "colab_type": "text"
      },
      "source": [
        "The SARIMA(1, 0, 0)(0, 0, 0, 12) model has a lower mean absolute percentage error than the SARIMA(3, 0, 0)(1, 0, 0, 12) model and the SARIMA(2, 0, 1)(0, 0, 0, 12) model. \n",
        "\n",
        "What puzzles me is hte negative correlation between predicted values and test values for 2018 for the SARIMA(1, 0, 0)(0, 0, 0, 12) model. The next best model would be the SARIMA(2, 0, 1)(0, 0, 0, 12) model."
      ]
    },
    {
      "cell_type": "markdown",
      "metadata": {
        "id": "IN_7YV0wnc4V",
        "colab_type": "text"
      },
      "source": [
        "Put chart of model diagnostics."
      ]
    },
    {
      "cell_type": "markdown",
      "metadata": {
        "id": "G1WSpWAbm-Kg",
        "colab_type": "text"
      },
      "source": [
        "## SARIMA Model Fit"
      ]
    },
    {
      "cell_type": "markdown",
      "metadata": {
        "id": "4mXwltfgDYGU",
        "colab_type": "text"
      },
      "source": [
        "Fitting the SARIMA Model(2, 0, 1) x (0, 0, 0, 12) on the monthly order profits."
      ]
    },
    {
      "cell_type": "code",
      "metadata": {
        "id": "9oWKNEgensio",
        "colab_type": "code",
        "outputId": "cf14b6e9-ef36-42bd-e29a-08bc4f34ef10",
        "colab": {
          "base_uri": "https://localhost:8080/",
          "height": 529
        }
      },
      "source": [
        "# Reference: https://www.datasciencesmachinelearning.com/2019/01/arimasarima-in-python.html\n",
        "\n",
        "sarima_profits_201 = sm.tsa.statespace.SARIMAX(order_profits_monthly,\n",
        "                                       order = (2, 0, 1),\n",
        "                                       seasonal_order = (0, 0, 0, 12),\n",
        "                                       enforce_stationarity = False,\n",
        "                                       enforce_invertibility = False)\n",
        "\n",
        "results_profits_201 = sarima_profits_201.fit()\n",
        "\n",
        "print(results_profits_201.summary())"
      ],
      "execution_count": 43,
      "outputs": [
        {
          "output_type": "stream",
          "text": [
            "                           Statespace Model Results                           \n",
            "==============================================================================\n",
            "Dep. Variable:                 Profit   No. Observations:                   48\n",
            "Model:               SARIMAX(2, 0, 1)   Log Likelihood                -490.082\n",
            "Date:                Mon, 23 Sep 2019   AIC                            988.164\n",
            "Time:                        00:29:33   BIC                            995.479\n",
            "Sample:                    01-01-2015   HQIC                           990.904\n",
            "                         - 12-01-2018                                         \n",
            "Covariance Type:                  opg                                         \n",
            "==============================================================================\n",
            "                 coef    std err          z      P>|z|      [0.025      0.975]\n",
            "------------------------------------------------------------------------------\n",
            "ar.L1          1.4074      0.161      8.718      0.000       1.091       1.724\n",
            "ar.L2         -0.3900      0.164     -2.383      0.017      -0.711      -0.069\n",
            "ma.L1         -1.0168      0.167     -6.090      0.000      -1.344      -0.690\n",
            "sigma2      1.242e+08   3.28e-10   3.79e+17      0.000    1.24e+08    1.24e+08\n",
            "===================================================================================\n",
            "Ljung-Box (Q):                       82.23   Jarque-Bera (JB):                 0.83\n",
            "Prob(Q):                              0.00   Prob(JB):                         0.66\n",
            "Heteroskedasticity (H):               1.33   Skew:                            -0.11\n",
            "Prob(H) (two-sided):                  0.58   Kurtosis:                         2.38\n",
            "===================================================================================\n",
            "\n",
            "Warnings:\n",
            "[1] Covariance matrix calculated using the outer product of gradients (complex-step).\n",
            "[2] Covariance matrix is singular or near-singular, with condition number 6.11e+33. Standard errors may be unstable.\n"
          ],
          "name": "stdout"
        },
        {
          "output_type": "stream",
          "text": [
            "/usr/local/lib/python3.6/dist-packages/statsmodels/tsa/base/tsa_model.py:165: ValueWarning: No frequency information was provided, so inferred frequency MS will be used.\n",
            "  % freq, ValueWarning)\n"
          ],
          "name": "stderr"
        }
      ]
    },
    {
      "cell_type": "markdown",
      "metadata": {
        "id": "QiQdeNTg7ANs",
        "colab_type": "text"
      },
      "source": [
        "## Forecasts On Overall Monthly Profits"
      ]
    },
    {
      "cell_type": "code",
      "metadata": {
        "id": "BluAUZEaEYL-",
        "colab_type": "code",
        "outputId": "9c5d7e90-270e-4a3d-b7c1-5716a76074f8",
        "colab": {
          "base_uri": "https://localhost:8080/",
          "height": 417
        }
      },
      "source": [
        "forecasts_profits201 = results_profits_201.get_forecast(steps = 12)\n",
        "\n",
        "forecasts_profits201.summary_frame()"
      ],
      "execution_count": 44,
      "outputs": [
        {
          "output_type": "execute_result",
          "data": {
            "text/html": [
              "<div>\n",
              "<style scoped>\n",
              "    .dataframe tbody tr th:only-of-type {\n",
              "        vertical-align: middle;\n",
              "    }\n",
              "\n",
              "    .dataframe tbody tr th {\n",
              "        vertical-align: top;\n",
              "    }\n",
              "\n",
              "    .dataframe thead th {\n",
              "        text-align: right;\n",
              "    }\n",
              "</style>\n",
              "<table border=\"1\" class=\"dataframe\">\n",
              "  <thead>\n",
              "    <tr style=\"text-align: right;\">\n",
              "      <th>Profit</th>\n",
              "      <th>mean</th>\n",
              "      <th>mean_se</th>\n",
              "      <th>mean_ci_lower</th>\n",
              "      <th>mean_ci_upper</th>\n",
              "    </tr>\n",
              "  </thead>\n",
              "  <tbody>\n",
              "    <tr>\n",
              "      <th>2019-01-01</th>\n",
              "      <td>51867.434485</td>\n",
              "      <td>11258.053979</td>\n",
              "      <td>29802.054149</td>\n",
              "      <td>73932.814820</td>\n",
              "    </tr>\n",
              "    <tr>\n",
              "      <th>2019-02-01</th>\n",
              "      <td>54702.071071</td>\n",
              "      <td>12172.529510</td>\n",
              "      <td>30844.351630</td>\n",
              "      <td>78559.790511</td>\n",
              "    </tr>\n",
              "    <tr>\n",
              "      <th>2019-03-01</th>\n",
              "      <td>56760.719386</td>\n",
              "      <td>12358.271939</td>\n",
              "      <td>32538.951475</td>\n",
              "      <td>80982.487298</td>\n",
              "    </tr>\n",
              "    <tr>\n",
              "      <th>2019-04-01</th>\n",
              "      <td>58552.590321</td>\n",
              "      <td>12417.738828</td>\n",
              "      <td>34214.269450</td>\n",
              "      <td>82890.911193</td>\n",
              "    </tr>\n",
              "    <tr>\n",
              "      <th>2019-05-01</th>\n",
              "      <td>60271.635006</td>\n",
              "      <td>12449.426483</td>\n",
              "      <td>35871.207472</td>\n",
              "      <td>84672.062541</td>\n",
              "    </tr>\n",
              "    <tr>\n",
              "      <th>2019-06-01</th>\n",
              "      <td>61992.228190</td>\n",
              "      <td>12473.890672</td>\n",
              "      <td>37543.851726</td>\n",
              "      <td>86440.604654</td>\n",
              "    </tr>\n",
              "    <tr>\n",
              "      <th>2019-07-01</th>\n",
              "      <td>63743.404038</td>\n",
              "      <td>12496.657196</td>\n",
              "      <td>39250.406007</td>\n",
              "      <td>88236.402068</td>\n",
              "    </tr>\n",
              "    <tr>\n",
              "      <th>2019-08-01</th>\n",
              "      <td>65537.019134</td>\n",
              "      <td>12519.555572</td>\n",
              "      <td>40999.141110</td>\n",
              "      <td>90074.897157</td>\n",
              "    </tr>\n",
              "    <tr>\n",
              "      <th>2019-09-01</th>\n",
              "      <td>67378.437150</td>\n",
              "      <td>12543.285618</td>\n",
              "      <td>42794.049091</td>\n",
              "      <td>91962.825210</td>\n",
              "    </tr>\n",
              "    <tr>\n",
              "      <th>2019-10-01</th>\n",
              "      <td>69270.582887</td>\n",
              "      <td>12568.153292</td>\n",
              "      <td>44637.455084</td>\n",
              "      <td>93903.710691</td>\n",
              "    </tr>\n",
              "    <tr>\n",
              "      <th>2019-11-01</th>\n",
              "      <td>71215.480911</td>\n",
              "      <td>12594.319508</td>\n",
              "      <td>46531.068267</td>\n",
              "      <td>95899.893556</td>\n",
              "    </tr>\n",
              "    <tr>\n",
              "      <th>2019-12-01</th>\n",
              "      <td>73214.839960</td>\n",
              "      <td>12621.891687</td>\n",
              "      <td>48476.386837</td>\n",
              "      <td>97953.293083</td>\n",
              "    </tr>\n",
              "  </tbody>\n",
              "</table>\n",
              "</div>"
            ],
            "text/plain": [
              "Profit              mean       mean_se  mean_ci_lower  mean_ci_upper\n",
              "2019-01-01  51867.434485  11258.053979   29802.054149   73932.814820\n",
              "2019-02-01  54702.071071  12172.529510   30844.351630   78559.790511\n",
              "2019-03-01  56760.719386  12358.271939   32538.951475   80982.487298\n",
              "2019-04-01  58552.590321  12417.738828   34214.269450   82890.911193\n",
              "2019-05-01  60271.635006  12449.426483   35871.207472   84672.062541\n",
              "2019-06-01  61992.228190  12473.890672   37543.851726   86440.604654\n",
              "2019-07-01  63743.404038  12496.657196   39250.406007   88236.402068\n",
              "2019-08-01  65537.019134  12519.555572   40999.141110   90074.897157\n",
              "2019-09-01  67378.437150  12543.285618   42794.049091   91962.825210\n",
              "2019-10-01  69270.582887  12568.153292   44637.455084   93903.710691\n",
              "2019-11-01  71215.480911  12594.319508   46531.068267   95899.893556\n",
              "2019-12-01  73214.839960  12621.891687   48476.386837   97953.293083"
            ]
          },
          "metadata": {
            "tags": []
          },
          "execution_count": 44
        }
      ]
    },
    {
      "cell_type": "code",
      "metadata": {
        "id": "mmNmtO6oRsL-",
        "colab_type": "code",
        "outputId": "a26d3d78-61d3-4b27-ceb7-96189a449701",
        "colab": {
          "base_uri": "https://localhost:8080/",
          "height": 245
        }
      },
      "source": [
        "# Obtain means from forecasts:\n",
        "\n",
        "forecasts_meanprofits201 = forecasts_profits201.summary_frame()['mean']\n",
        "\n",
        "forecasts_meanprofits201"
      ],
      "execution_count": 45,
      "outputs": [
        {
          "output_type": "execute_result",
          "data": {
            "text/plain": [
              "2019-01-01    51867.434485\n",
              "2019-02-01    54702.071071\n",
              "2019-03-01    56760.719386\n",
              "2019-04-01    58552.590321\n",
              "2019-05-01    60271.635006\n",
              "2019-06-01    61992.228190\n",
              "2019-07-01    63743.404038\n",
              "2019-08-01    65537.019134\n",
              "2019-09-01    67378.437150\n",
              "2019-10-01    69270.582887\n",
              "2019-11-01    71215.480911\n",
              "2019-12-01    73214.839960\n",
              "Freq: MS, Name: mean, dtype: float64"
            ]
          },
          "metadata": {
            "tags": []
          },
          "execution_count": 45
        }
      ]
    },
    {
      "cell_type": "code",
      "metadata": {
        "id": "slHxlpdgEjIH",
        "colab_type": "code",
        "outputId": "8d92eb68-2f4b-4e64-fd36-ae7a479251d3",
        "colab": {
          "base_uri": "https://localhost:8080/",
          "height": 140
        }
      },
      "source": [
        "# Monthly profits before 2019:\n",
        "\n",
        "monthly_profits_pre2019 = order_profits_monthly[order_profits_monthly.index < '2019-01-01']\n",
        "\n",
        "monthly_profits_pre2019.tail()"
      ],
      "execution_count": 46,
      "outputs": [
        {
          "output_type": "execute_result",
          "data": {
            "text/plain": [
              "Order_Date_Month\n",
              "2018-08-01    53542.89496\n",
              "2018-09-01    67979.45110\n",
              "2018-10-01    58209.83476\n",
              "2018-11-01    62856.58790\n",
              "2018-12-01    46916.52068\n",
              "Name: Profit, dtype: float64"
            ]
          },
          "metadata": {
            "tags": []
          },
          "execution_count": 46
        }
      ]
    },
    {
      "cell_type": "code",
      "metadata": {
        "id": "K5VCVG2yFHPo",
        "colab_type": "code",
        "outputId": "3b020264-a7c2-49b5-c33c-a213af8a2d97",
        "colab": {
          "base_uri": "https://localhost:8080/",
          "height": 122
        }
      },
      "source": [
        "# Monthly sales before 2019 and including the forecasted \n",
        "# January 2019 sales (to connect lines in plot)\n",
        "\n",
        "monthly_profits_pre2019 = monthly_profits_pre2019.append(forecasts_meanprofits201.head(1))\n",
        "\n",
        "monthly_profits_pre2019.tail()"
      ],
      "execution_count": 47,
      "outputs": [
        {
          "output_type": "execute_result",
          "data": {
            "text/plain": [
              "2018-09-01    67979.451100\n",
              "2018-10-01    58209.834760\n",
              "2018-11-01    62856.587900\n",
              "2018-12-01    46916.520680\n",
              "2019-01-01    51867.434485\n",
              "dtype: float64"
            ]
          },
          "metadata": {
            "tags": []
          },
          "execution_count": 47
        }
      ]
    },
    {
      "cell_type": "code",
      "metadata": {
        "id": "HIyQuie2E41W",
        "colab_type": "code",
        "outputId": "6b2b546c-f91d-41cb-bf3c-01e3caab7046",
        "colab": {
          "base_uri": "https://localhost:8080/",
          "height": 286
        }
      },
      "source": [
        "# Line Plots (Blue is historical data, green is forecasted)\n",
        "\n",
        "sns.lineplot(x = monthly_profits_pre2019.index, y = monthly_profits_pre2019, color = 'blue')\n",
        "sns.lineplot(x = forecasts_meanprofits201.index, y = forecasts_meanprofits201, color = 'green')\n",
        "#plt.axvline(pd.Timestamp('2019-01-01'), color= 'green', alpha = 0.5)"
      ],
      "execution_count": 48,
      "outputs": [
        {
          "output_type": "execute_result",
          "data": {
            "text/plain": [
              "<matplotlib.axes._subplots.AxesSubplot at 0x7f81bdabb860>"
            ]
          },
          "metadata": {
            "tags": []
          },
          "execution_count": 48
        },
        {
          "output_type": "display_data",
          "data": {
            "image/png": "[encoded data removed]",
            "text/plain": [
              "<Figure size 432x288 with 1 Axes>"
            ]
          },
          "metadata": {
            "tags": []
          }
        }
      ]
    },
    {
      "cell_type": "markdown",
      "metadata": {
        "id": "fqjBE4HcJ8UT",
        "colab_type": "text"
      },
      "source": [
        "The green forecast is too smooth. It does not look realistic. I think it is because in the SARIMA(2, 0, 1) x (0, 0, 0, 12) model there is no seasonality component. Even though the AIC, BIC and prediction metrics look good but this forecasts looks awful from context.\n",
        "\n",
        "I will try a different model."
      ]
    },
    {
      "cell_type": "markdown",
      "metadata": {
        "id": "fdvIOMATILiR",
        "colab_type": "text"
      },
      "source": [
        "# Trying SARIMA(3, 0, 0)(1, 0, 0, 12) As Final Model For Monthly Profits"
      ]
    },
    {
      "cell_type": "code",
      "metadata": {
        "id": "TWezOw6-FD19",
        "colab_type": "code",
        "outputId": "0328331d-5bbc-45bd-fc75-accd18d68505",
        "colab": {
          "base_uri": "https://localhost:8080/",
          "height": 547
        }
      },
      "source": [
        "# Reference: https://www.datasciencesmachinelearning.com/2019/01/arimasarima-in-python.html\n",
        "\n",
        "sarima_profits_300 = sm.tsa.statespace.SARIMAX(order_profits_monthly,\n",
        "                                       order = (3, 0, 0),\n",
        "                                       seasonal_order = (1, 0, 0, 12),\n",
        "                                       enforce_stationarity = False,\n",
        "                                       enforce_invertibility = False)\n",
        "\n",
        "results_profits_300 = sarima_profits_300.fit()\n",
        "\n",
        "print(results_profits_300.summary())"
      ],
      "execution_count": 49,
      "outputs": [
        {
          "output_type": "stream",
          "text": [
            "                                 Statespace Model Results                                 \n",
            "==========================================================================================\n",
            "Dep. Variable:                             Profit   No. Observations:                   48\n",
            "Model:             SARIMAX(3, 0, 0)x(1, 0, 0, 12)   Log Likelihood                -351.134\n",
            "Date:                            Mon, 23 Sep 2019   AIC                            712.269\n",
            "Time:                                    00:29:33   BIC                            719.751\n",
            "Sample:                                01-01-2015   HQIC                           714.787\n",
            "                                     - 12-01-2018                                         \n",
            "Covariance Type:                              opg                                         \n",
            "==============================================================================\n",
            "                 coef    std err          z      P>|z|      [0.025      0.975]\n",
            "------------------------------------------------------------------------------\n",
            "ar.L1          0.5423      0.199      2.720      0.007       0.152       0.933\n",
            "ar.L2          0.1648      0.287      0.574      0.566      -0.398       0.727\n",
            "ar.L3          0.2731      0.282      0.970      0.332      -0.279       0.825\n",
            "ar.S.L12       0.4962      0.267      1.857      0.063      -0.027       1.020\n",
            "sigma2      1.215e+08   2.16e-10   5.63e+17      0.000    1.21e+08    1.21e+08\n",
            "===================================================================================\n",
            "Ljung-Box (Q):                         nan   Jarque-Bera (JB):                 0.23\n",
            "Prob(Q):                               nan   Prob(JB):                         0.89\n",
            "Heteroskedasticity (H):               1.99   Skew:                            -0.06\n",
            "Prob(H) (two-sided):                  0.27   Kurtosis:                         2.61\n",
            "===================================================================================\n",
            "\n",
            "Warnings:\n",
            "[1] Covariance matrix calculated using the outer product of gradients (complex-step).\n",
            "[2] Covariance matrix is singular or near-singular, with condition number 2.31e+34. Standard errors may be unstable.\n"
          ],
          "name": "stdout"
        },
        {
          "output_type": "stream",
          "text": [
            "/usr/local/lib/python3.6/dist-packages/statsmodels/tsa/base/tsa_model.py:165: ValueWarning: No frequency information was provided, so inferred frequency MS will be used.\n",
            "  % freq, ValueWarning)\n"
          ],
          "name": "stderr"
        }
      ]
    },
    {
      "cell_type": "code",
      "metadata": {
        "id": "MFxb-n12IVzc",
        "colab_type": "code",
        "outputId": "ca720edf-b17e-42f6-b16a-c60d7823e9c2",
        "colab": {
          "base_uri": "https://localhost:8080/",
          "height": 417
        }
      },
      "source": [
        "# Obtain monthly order profits on forecastsL\n",
        "\n",
        "forecasts_profits300 = results_profits_300.get_forecast(steps = 12)\n",
        "\n",
        "forecasts_profits300.summary_frame()"
      ],
      "execution_count": 50,
      "outputs": [
        {
          "output_type": "execute_result",
          "data": {
            "text/html": [
              "<div>\n",
              "<style scoped>\n",
              "    .dataframe tbody tr th:only-of-type {\n",
              "        vertical-align: middle;\n",
              "    }\n",
              "\n",
              "    .dataframe tbody tr th {\n",
              "        vertical-align: top;\n",
              "    }\n",
              "\n",
              "    .dataframe thead th {\n",
              "        text-align: right;\n",
              "    }\n",
              "</style>\n",
              "<table border=\"1\" class=\"dataframe\">\n",
              "  <thead>\n",
              "    <tr style=\"text-align: right;\">\n",
              "      <th>Profit</th>\n",
              "      <th>mean</th>\n",
              "      <th>mean_se</th>\n",
              "      <th>mean_ci_lower</th>\n",
              "      <th>mean_ci_upper</th>\n",
              "    </tr>\n",
              "  </thead>\n",
              "  <tbody>\n",
              "    <tr>\n",
              "      <th>2019-01-01</th>\n",
              "      <td>42403.129684</td>\n",
              "      <td>11021.357804</td>\n",
              "      <td>20801.665327</td>\n",
              "      <td>64004.594042</td>\n",
              "    </tr>\n",
              "    <tr>\n",
              "      <th>2019-02-01</th>\n",
              "      <td>39541.236978</td>\n",
              "      <td>12537.816135</td>\n",
              "      <td>14967.568908</td>\n",
              "      <td>64114.905048</td>\n",
              "    </tr>\n",
              "    <tr>\n",
              "      <th>2019-03-01</th>\n",
              "      <td>45372.458657</td>\n",
              "      <td>13519.413576</td>\n",
              "      <td>18874.894956</td>\n",
              "      <td>71870.022358</td>\n",
              "    </tr>\n",
              "    <tr>\n",
              "      <th>2019-04-01</th>\n",
              "      <td>39040.655179</td>\n",
              "      <td>15105.275307</td>\n",
              "      <td>9434.859601</td>\n",
              "      <td>68646.450758</td>\n",
              "    </tr>\n",
              "    <tr>\n",
              "      <th>2019-05-01</th>\n",
              "      <td>44164.093072</td>\n",
              "      <td>16297.821648</td>\n",
              "      <td>12220.949617</td>\n",
              "      <td>76107.236528</td>\n",
              "    </tr>\n",
              "    <tr>\n",
              "      <th>2019-06-01</th>\n",
              "      <td>48353.997883</td>\n",
              "      <td>17302.497267</td>\n",
              "      <td>14441.726398</td>\n",
              "      <td>82266.269369</td>\n",
              "    </tr>\n",
              "    <tr>\n",
              "      <th>2019-07-01</th>\n",
              "      <td>40294.303299</td>\n",
              "      <td>18313.056617</td>\n",
              "      <td>4401.371884</td>\n",
              "      <td>76187.234714</td>\n",
              "    </tr>\n",
              "    <tr>\n",
              "      <th>2019-08-01</th>\n",
              "      <td>52723.446993</td>\n",
              "      <td>19234.543763</td>\n",
              "      <td>15024.433958</td>\n",
              "      <td>90422.460028</td>\n",
              "    </tr>\n",
              "    <tr>\n",
              "      <th>2019-09-01</th>\n",
              "      <td>59535.464948</td>\n",
              "      <td>20079.985352</td>\n",
              "      <td>20179.416848</td>\n",
              "      <td>98891.513049</td>\n",
              "    </tr>\n",
              "    <tr>\n",
              "      <th>2019-10-01</th>\n",
              "      <td>54392.456806</td>\n",
              "      <td>20882.699616</td>\n",
              "      <td>13463.117659</td>\n",
              "      <td>95321.795952</td>\n",
              "    </tr>\n",
              "    <tr>\n",
              "      <th>2019-11-01</th>\n",
              "      <td>56417.984775</td>\n",
              "      <td>21637.751877</td>\n",
              "      <td>14008.770391</td>\n",
              "      <td>98827.199160</td>\n",
              "    </tr>\n",
              "    <tr>\n",
              "      <th>2019-12-01</th>\n",
              "      <td>48212.528523</td>\n",
              "      <td>22348.709427</td>\n",
              "      <td>4409.862944</td>\n",
              "      <td>92015.194102</td>\n",
              "    </tr>\n",
              "  </tbody>\n",
              "</table>\n",
              "</div>"
            ],
            "text/plain": [
              "Profit              mean       mean_se  mean_ci_lower  mean_ci_upper\n",
              "2019-01-01  42403.129684  11021.357804   20801.665327   64004.594042\n",
              "2019-02-01  39541.236978  12537.816135   14967.568908   64114.905048\n",
              "2019-03-01  45372.458657  13519.413576   18874.894956   71870.022358\n",
              "2019-04-01  39040.655179  15105.275307    9434.859601   68646.450758\n",
              "2019-05-01  44164.093072  16297.821648   12220.949617   76107.236528\n",
              "2019-06-01  48353.997883  17302.497267   14441.726398   82266.269369\n",
              "2019-07-01  40294.303299  18313.056617    4401.371884   76187.234714\n",
              "2019-08-01  52723.446993  19234.543763   15024.433958   90422.460028\n",
              "2019-09-01  59535.464948  20079.985352   20179.416848   98891.513049\n",
              "2019-10-01  54392.456806  20882.699616   13463.117659   95321.795952\n",
              "2019-11-01  56417.984775  21637.751877   14008.770391   98827.199160\n",
              "2019-12-01  48212.528523  22348.709427    4409.862944   92015.194102"
            ]
          },
          "metadata": {
            "tags": []
          },
          "execution_count": 50
        }
      ]
    },
    {
      "cell_type": "code",
      "metadata": {
        "id": "cTgwkx4LJDPB",
        "colab_type": "code",
        "outputId": "e9397948-cc37-49f6-c139-e392c64410db",
        "colab": {
          "base_uri": "https://localhost:8080/",
          "height": 245
        }
      },
      "source": [
        "# Obtain means from forecasts:\n",
        "\n",
        "forecasts_meanprofits300 = forecasts_profits300.summary_frame()['mean']\n",
        "\n",
        "forecasts_meanprofits300"
      ],
      "execution_count": 51,
      "outputs": [
        {
          "output_type": "execute_result",
          "data": {
            "text/plain": [
              "2019-01-01    42403.129684\n",
              "2019-02-01    39541.236978\n",
              "2019-03-01    45372.458657\n",
              "2019-04-01    39040.655179\n",
              "2019-05-01    44164.093072\n",
              "2019-06-01    48353.997883\n",
              "2019-07-01    40294.303299\n",
              "2019-08-01    52723.446993\n",
              "2019-09-01    59535.464948\n",
              "2019-10-01    54392.456806\n",
              "2019-11-01    56417.984775\n",
              "2019-12-01    48212.528523\n",
              "Freq: MS, Name: mean, dtype: float64"
            ]
          },
          "metadata": {
            "tags": []
          },
          "execution_count": 51
        }
      ]
    },
    {
      "cell_type": "code",
      "metadata": {
        "id": "2npH2STPIzNc",
        "colab_type": "code",
        "outputId": "67ea0f16-5b64-4104-f2a4-e18e9782fba9",
        "colab": {
          "base_uri": "https://localhost:8080/",
          "height": 140
        }
      },
      "source": [
        "# Monthly profits before 2019:\n",
        "\n",
        "monthly_profits_pre2019 = order_profits_monthly[order_profits_monthly.index < '2019-01-01']\n",
        "\n",
        "monthly_profits_pre2019.tail()"
      ],
      "execution_count": 52,
      "outputs": [
        {
          "output_type": "execute_result",
          "data": {
            "text/plain": [
              "Order_Date_Month\n",
              "2018-08-01    53542.89496\n",
              "2018-09-01    67979.45110\n",
              "2018-10-01    58209.83476\n",
              "2018-11-01    62856.58790\n",
              "2018-12-01    46916.52068\n",
              "Name: Profit, dtype: float64"
            ]
          },
          "metadata": {
            "tags": []
          },
          "execution_count": 52
        }
      ]
    },
    {
      "cell_type": "code",
      "metadata": {
        "id": "-2h_8nUyIvG-",
        "colab_type": "code",
        "outputId": "cecd0cd4-d2d9-4cee-894e-6fd216e24ccf",
        "colab": {
          "base_uri": "https://localhost:8080/",
          "height": 122
        }
      },
      "source": [
        "# Monthly sales before 2019 and including the forecasted \n",
        "# January 2019 sales (to connect lines in plot)\n",
        "\n",
        "monthly_profits_pre2019 = monthly_profits_pre2019.append(forecasts_meanprofits300.head(1))\n",
        "\n",
        "monthly_profits_pre2019.tail()"
      ],
      "execution_count": 53,
      "outputs": [
        {
          "output_type": "execute_result",
          "data": {
            "text/plain": [
              "2018-09-01    67979.451100\n",
              "2018-10-01    58209.834760\n",
              "2018-11-01    62856.587900\n",
              "2018-12-01    46916.520680\n",
              "2019-01-01    42403.129684\n",
              "dtype: float64"
            ]
          },
          "metadata": {
            "tags": []
          },
          "execution_count": 53
        }
      ]
    },
    {
      "cell_type": "code",
      "metadata": {
        "id": "swgo8zNyIh4U",
        "colab_type": "code",
        "outputId": "5550a45e-33ad-48fb-f9f0-6377218b9c0f",
        "colab": {
          "base_uri": "https://localhost:8080/",
          "height": 286
        }
      },
      "source": [
        "# Line Plots (Blue is historical data, green is forecasted)\n",
        "\n",
        "sns.lineplot(x = monthly_profits_pre2019.index, y = monthly_profits_pre2019, color = 'blue')\n",
        "sns.lineplot(x = forecasts_meanprofits300.index, y = forecasts_meanprofits300, color = 'green')\n",
        "#plt.axvline(pd.Timestamp('2019-01-01'), color= 'green', alpha = 0.5)"
      ],
      "execution_count": 54,
      "outputs": [
        {
          "output_type": "execute_result",
          "data": {
            "text/plain": [
              "<matplotlib.axes._subplots.AxesSubplot at 0x7f81bd9be470>"
            ]
          },
          "metadata": {
            "tags": []
          },
          "execution_count": 54
        },
        {
          "output_type": "display_data",
          "data": {
            "image/png": "[encoded data removed]",
            "text/plain": [
              "<Figure size 432x288 with 1 Axes>"
            ]
          },
          "metadata": {
            "tags": []
          }
        }
      ]
    },
    {
      "cell_type": "code",
      "metadata": {
        "id": "xBcDvjtKJNEM",
        "colab_type": "code",
        "colab": {}
      },
      "source": [
        ""
      ],
      "execution_count": 0,
      "outputs": []
    }
  ]
}